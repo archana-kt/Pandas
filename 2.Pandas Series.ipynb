{
 "cells": [
  {
   "cell_type": "markdown",
   "id": "6ce1de3c",
   "metadata": {},
   "source": [
    "# Pandas Series"
   ]
  },
  {
   "cell_type": "code",
   "execution_count": 1,
   "id": "b67f5607",
   "metadata": {},
   "outputs": [],
   "source": [
    "# Seies can be defined as one dimensional array. It has the capable of storing various data types."
   ]
  },
  {
   "cell_type": "code",
   "execution_count": 2,
   "id": "c88a7c54",
   "metadata": {},
   "outputs": [],
   "source": [
    "fruits = [\"Apple\",\"Orange\",\"Grapes\"]"
   ]
  },
  {
   "cell_type": "code",
   "execution_count": 3,
   "id": "1bc1672d",
   "metadata": {},
   "outputs": [],
   "source": [
    "import pandas as pd"
   ]
  },
  {
   "cell_type": "code",
   "execution_count": 4,
   "id": "e7e31855",
   "metadata": {},
   "outputs": [],
   "source": [
    "data = pd.Series(fruits)"
   ]
  },
  {
   "cell_type": "code",
   "execution_count": 5,
   "id": "66b49461",
   "metadata": {},
   "outputs": [
    {
     "data": {
      "text/plain": [
       "0     Apple\n",
       "1    Orange\n",
       "2    Grapes\n",
       "dtype: object"
      ]
     },
     "execution_count": 5,
     "metadata": {},
     "output_type": "execute_result"
    }
   ],
   "source": [
    "data"
   ]
  },
  {
   "cell_type": "code",
   "execution_count": 6,
   "id": "ec3ab546",
   "metadata": {},
   "outputs": [],
   "source": [
    "# fruits is list"
   ]
  },
  {
   "cell_type": "raw",
   "id": "79845d03",
   "metadata": {},
   "source": [
    "list is implicit indexing. Because we can access the list of elements using indexing only"
   ]
  },
  {
   "cell_type": "code",
   "execution_count": 7,
   "id": "8821e4e2",
   "metadata": {},
   "outputs": [
    {
     "data": {
      "text/plain": [
       "'Apple'"
      ]
     },
     "execution_count": 7,
     "metadata": {},
     "output_type": "execute_result"
    }
   ],
   "source": [
    "fruits[0]"
   ]
  },
  {
   "cell_type": "code",
   "execution_count": 8,
   "id": "2d818442",
   "metadata": {},
   "outputs": [
    {
     "data": {
      "text/plain": [
       "'Orange'"
      ]
     },
     "execution_count": 8,
     "metadata": {},
     "output_type": "execute_result"
    }
   ],
   "source": [
    "fruits[1]"
   ]
  },
  {
   "cell_type": "raw",
   "id": "194090b2",
   "metadata": {},
   "source": [
    "Series is explicit indexing. Because we can access the Series using dataframe"
   ]
  }
 ],
 "metadata": {
  "kernelspec": {
   "display_name": "Python 3 (ipykernel)",
   "language": "python",
   "name": "python3"
  },
  "language_info": {
   "codemirror_mode": {
    "name": "ipython",
    "version": 3
   },
   "file_extension": ".py",
   "mimetype": "text/x-python",
   "name": "python",
   "nbconvert_exporter": "python",
   "pygments_lexer": "ipython3",
   "version": "3.11.4"
  }
 },
 "nbformat": 4,
 "nbformat_minor": 5
}
