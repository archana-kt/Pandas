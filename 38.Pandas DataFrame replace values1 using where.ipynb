{
 "cells": [
  {
   "cell_type": "markdown",
   "id": "24206eab",
   "metadata": {},
   "source": [
    "# Pandas DataFrame replace values using where"
   ]
  },
  {
   "cell_type": "code",
   "execution_count": 1,
   "id": "0be4ceb1",
   "metadata": {},
   "outputs": [],
   "source": [
    "import pandas as pd"
   ]
  },
  {
   "cell_type": "code",
   "execution_count": 2,
   "id": "2aa9ae06",
   "metadata": {},
   "outputs": [],
   "source": [
    "technologies= {\n",
    "    'Courses':[\"Spark\",\"PySpark\",\"Hadoop\",\"Python\",\"Pandas\"],\n",
    "    'Fee' :[22000,25000,23000,24000,26000],\n",
    "    'Discount':[1500,1000,1200,800,1300],\n",
    "    'Duration':['30days','50days','30days', '35days', '40days']\n",
    "           }"
   ]
  },
  {
   "cell_type": "code",
   "execution_count": 3,
   "id": "37fe6257",
   "metadata": {},
   "outputs": [
    {
     "data": {
      "text/plain": [
       "{'Courses': ['Spark', 'PySpark', 'Hadoop', 'Python', 'Pandas'],\n",
       " 'Fee': [22000, 25000, 23000, 24000, 26000],\n",
       " 'Discount': [1500, 1000, 1200, 800, 1300],\n",
       " 'Duration': ['30days', '50days', '30days', '35days', '40days']}"
      ]
     },
     "execution_count": 3,
     "metadata": {},
     "output_type": "execute_result"
    }
   ],
   "source": [
    "technologies"
   ]
  },
  {
   "cell_type": "code",
   "execution_count": 4,
   "id": "ea80f325",
   "metadata": {},
   "outputs": [],
   "source": [
    "data = pd.DataFrame(technologies)"
   ]
  },
  {
   "cell_type": "code",
   "execution_count": 5,
   "id": "db96e367",
   "metadata": {},
   "outputs": [
    {
     "data": {
      "text/html": [
       "<div>\n",
       "<style scoped>\n",
       "    .dataframe tbody tr th:only-of-type {\n",
       "        vertical-align: middle;\n",
       "    }\n",
       "\n",
       "    .dataframe tbody tr th {\n",
       "        vertical-align: top;\n",
       "    }\n",
       "\n",
       "    .dataframe thead th {\n",
       "        text-align: right;\n",
       "    }\n",
       "</style>\n",
       "<table border=\"1\" class=\"dataframe\">\n",
       "  <thead>\n",
       "    <tr style=\"text-align: right;\">\n",
       "      <th></th>\n",
       "      <th>Courses</th>\n",
       "      <th>Fee</th>\n",
       "      <th>Discount</th>\n",
       "      <th>Duration</th>\n",
       "    </tr>\n",
       "  </thead>\n",
       "  <tbody>\n",
       "    <tr>\n",
       "      <th>0</th>\n",
       "      <td>Spark</td>\n",
       "      <td>22000</td>\n",
       "      <td>1500</td>\n",
       "      <td>30days</td>\n",
       "    </tr>\n",
       "    <tr>\n",
       "      <th>1</th>\n",
       "      <td>PySpark</td>\n",
       "      <td>25000</td>\n",
       "      <td>1000</td>\n",
       "      <td>50days</td>\n",
       "    </tr>\n",
       "    <tr>\n",
       "      <th>2</th>\n",
       "      <td>Hadoop</td>\n",
       "      <td>23000</td>\n",
       "      <td>1200</td>\n",
       "      <td>30days</td>\n",
       "    </tr>\n",
       "    <tr>\n",
       "      <th>3</th>\n",
       "      <td>Python</td>\n",
       "      <td>24000</td>\n",
       "      <td>800</td>\n",
       "      <td>35days</td>\n",
       "    </tr>\n",
       "    <tr>\n",
       "      <th>4</th>\n",
       "      <td>Pandas</td>\n",
       "      <td>26000</td>\n",
       "      <td>1300</td>\n",
       "      <td>40days</td>\n",
       "    </tr>\n",
       "  </tbody>\n",
       "</table>\n",
       "</div>"
      ],
      "text/plain": [
       "   Courses    Fee  Discount Duration\n",
       "0    Spark  22000      1500   30days\n",
       "1  PySpark  25000      1000   50days\n",
       "2   Hadoop  23000      1200   30days\n",
       "3   Python  24000       800   35days\n",
       "4   Pandas  26000      1300   40days"
      ]
     },
     "execution_count": 5,
     "metadata": {},
     "output_type": "execute_result"
    }
   ],
   "source": [
    "data"
   ]
  },
  {
   "cell_type": "code",
   "execution_count": 6,
   "id": "da112693",
   "metadata": {},
   "outputs": [
    {
     "data": {
      "text/plain": [
       "0    False\n",
       "1     True\n",
       "2    False\n",
       "3    False\n",
       "4     True\n",
       "Name: Fee, dtype: bool"
      ]
     },
     "execution_count": 6,
     "metadata": {},
     "output_type": "execute_result"
    }
   ],
   "source": [
    "data[\"Fee\"] >= 25000"
   ]
  },
  {
   "cell_type": "code",
   "execution_count": 7,
   "id": "e9038cd5",
   "metadata": {},
   "outputs": [
    {
     "data": {
      "text/html": [
       "<div>\n",
       "<style scoped>\n",
       "    .dataframe tbody tr th:only-of-type {\n",
       "        vertical-align: middle;\n",
       "    }\n",
       "\n",
       "    .dataframe tbody tr th {\n",
       "        vertical-align: top;\n",
       "    }\n",
       "\n",
       "    .dataframe thead th {\n",
       "        text-align: right;\n",
       "    }\n",
       "</style>\n",
       "<table border=\"1\" class=\"dataframe\">\n",
       "  <thead>\n",
       "    <tr style=\"text-align: right;\">\n",
       "      <th></th>\n",
       "      <th>Courses</th>\n",
       "      <th>Fee</th>\n",
       "      <th>Discount</th>\n",
       "      <th>Duration</th>\n",
       "    </tr>\n",
       "  </thead>\n",
       "  <tbody>\n",
       "    <tr>\n",
       "      <th>1</th>\n",
       "      <td>PySpark</td>\n",
       "      <td>25000</td>\n",
       "      <td>1000</td>\n",
       "      <td>50days</td>\n",
       "    </tr>\n",
       "    <tr>\n",
       "      <th>4</th>\n",
       "      <td>Pandas</td>\n",
       "      <td>26000</td>\n",
       "      <td>1300</td>\n",
       "      <td>40days</td>\n",
       "    </tr>\n",
       "  </tbody>\n",
       "</table>\n",
       "</div>"
      ],
      "text/plain": [
       "   Courses    Fee  Discount Duration\n",
       "1  PySpark  25000      1000   50days\n",
       "4   Pandas  26000      1300   40days"
      ]
     },
     "execution_count": 7,
     "metadata": {},
     "output_type": "execute_result"
    }
   ],
   "source": [
    "data[data[\"Fee\"] >= 25000]"
   ]
  },
  {
   "cell_type": "code",
   "execution_count": 8,
   "id": "f8742b45",
   "metadata": {},
   "outputs": [
    {
     "data": {
      "text/html": [
       "<div>\n",
       "<style scoped>\n",
       "    .dataframe tbody tr th:only-of-type {\n",
       "        vertical-align: middle;\n",
       "    }\n",
       "\n",
       "    .dataframe tbody tr th {\n",
       "        vertical-align: top;\n",
       "    }\n",
       "\n",
       "    .dataframe thead th {\n",
       "        text-align: right;\n",
       "    }\n",
       "</style>\n",
       "<table border=\"1\" class=\"dataframe\">\n",
       "  <thead>\n",
       "    <tr style=\"text-align: right;\">\n",
       "      <th></th>\n",
       "      <th>Courses</th>\n",
       "      <th>Fee</th>\n",
       "      <th>Discount</th>\n",
       "      <th>Duration</th>\n",
       "    </tr>\n",
       "  </thead>\n",
       "  <tbody>\n",
       "    <tr>\n",
       "      <th>1</th>\n",
       "      <td>PySpark</td>\n",
       "      <td>25000</td>\n",
       "      <td>1000</td>\n",
       "      <td>50days</td>\n",
       "    </tr>\n",
       "    <tr>\n",
       "      <th>4</th>\n",
       "      <td>Pandas</td>\n",
       "      <td>26000</td>\n",
       "      <td>1300</td>\n",
       "      <td>40days</td>\n",
       "    </tr>\n",
       "  </tbody>\n",
       "</table>\n",
       "</div>"
      ],
      "text/plain": [
       "   Courses    Fee  Discount Duration\n",
       "1  PySpark  25000      1000   50days\n",
       "4   Pandas  26000      1300   40days"
      ]
     },
     "execution_count": 8,
     "metadata": {},
     "output_type": "execute_result"
    }
   ],
   "source": [
    "data.loc[data[\"Fee\"] >= 25000]"
   ]
  },
  {
   "cell_type": "code",
   "execution_count": 9,
   "id": "9fa83c97",
   "metadata": {},
   "outputs": [],
   "source": [
    "data.loc[data[\"Fee\"] >= 25000] = 30000"
   ]
  },
  {
   "cell_type": "code",
   "execution_count": 10,
   "id": "12afc36d",
   "metadata": {},
   "outputs": [
    {
     "data": {
      "text/html": [
       "<div>\n",
       "<style scoped>\n",
       "    .dataframe tbody tr th:only-of-type {\n",
       "        vertical-align: middle;\n",
       "    }\n",
       "\n",
       "    .dataframe tbody tr th {\n",
       "        vertical-align: top;\n",
       "    }\n",
       "\n",
       "    .dataframe thead th {\n",
       "        text-align: right;\n",
       "    }\n",
       "</style>\n",
       "<table border=\"1\" class=\"dataframe\">\n",
       "  <thead>\n",
       "    <tr style=\"text-align: right;\">\n",
       "      <th></th>\n",
       "      <th>Courses</th>\n",
       "      <th>Fee</th>\n",
       "      <th>Discount</th>\n",
       "      <th>Duration</th>\n",
       "    </tr>\n",
       "  </thead>\n",
       "  <tbody>\n",
       "    <tr>\n",
       "      <th>0</th>\n",
       "      <td>Spark</td>\n",
       "      <td>22000</td>\n",
       "      <td>1500</td>\n",
       "      <td>30days</td>\n",
       "    </tr>\n",
       "    <tr>\n",
       "      <th>1</th>\n",
       "      <td>30000</td>\n",
       "      <td>30000</td>\n",
       "      <td>30000</td>\n",
       "      <td>30000</td>\n",
       "    </tr>\n",
       "    <tr>\n",
       "      <th>2</th>\n",
       "      <td>Hadoop</td>\n",
       "      <td>23000</td>\n",
       "      <td>1200</td>\n",
       "      <td>30days</td>\n",
       "    </tr>\n",
       "    <tr>\n",
       "      <th>3</th>\n",
       "      <td>Python</td>\n",
       "      <td>24000</td>\n",
       "      <td>800</td>\n",
       "      <td>35days</td>\n",
       "    </tr>\n",
       "    <tr>\n",
       "      <th>4</th>\n",
       "      <td>30000</td>\n",
       "      <td>30000</td>\n",
       "      <td>30000</td>\n",
       "      <td>30000</td>\n",
       "    </tr>\n",
       "  </tbody>\n",
       "</table>\n",
       "</div>"
      ],
      "text/plain": [
       "  Courses    Fee  Discount Duration\n",
       "0   Spark  22000      1500   30days\n",
       "1   30000  30000     30000    30000\n",
       "2  Hadoop  23000      1200   30days\n",
       "3  Python  24000       800   35days\n",
       "4   30000  30000     30000    30000"
      ]
     },
     "execution_count": 10,
     "metadata": {},
     "output_type": "execute_result"
    }
   ],
   "source": [
    "data # Here values of pyspark and pandas are changed. But the course name also get changed."
   ]
  },
  {
   "cell_type": "code",
   "execution_count": 13,
   "id": "2f49a7c9",
   "metadata": {},
   "outputs": [],
   "source": [
    "np.where?"
   ]
  },
  {
   "cell_type": "raw",
   "id": "60f5ff7f",
   "metadata": {},
   "source": [
    "Docstring:\n",
    "where(condition, [x, y])\n",
    "\n",
    "Return elements chosen from `x` or `y` depending on `condition`.\n",
    "\n",
    ".. note::\n",
    "    When only `condition` is provided, this function is a shorthand for\n",
    "    ``np.asarray(condition).nonzero()``. Using `nonzero` directly should be\n",
    "    preferred, as it behaves correctly for subclasses. The rest of this\n",
    "    documentation covers only the case where all three arguments are\n",
    "    provided.\n",
    "\n",
    "Parameters\n",
    "----------\n",
    "condition : array_like, bool\n",
    "    Where True, yield `x`, otherwise yield `y`.\n",
    "x, y : array_like\n",
    "    Values from which to choose. `x`, `y` and `condition` need to be\n",
    "    broadcastable to some shape.\n",
    "\n",
    "Returns\n",
    "-------\n",
    "out : ndarray\n",
    "    An array with elements from `x` where `condition` is True, and elements\n",
    "    from `y` elsewhere.\n",
    "\n",
    "See Also\n",
    "--------\n",
    "choose\n",
    "nonzero : The function that is called when x and y are omitted\n",
    "\n",
    "Notes\n",
    "-----\n",
    "If all the arrays are 1-D, `where` is equivalent to::\n",
    "\n",
    "    [xv if c else yv\n",
    "     for c, xv, yv in zip(condition, x, y)]\n",
    "\n",
    "Examples\n",
    "--------\n",
    ">>> a = np.arange(10)\n",
    ">>> a\n",
    "array([0, 1, 2, 3, 4, 5, 6, 7, 8, 9])\n",
    ">>> np.where(a < 5, a, 10*a)\n",
    "array([ 0,  1,  2,  3,  4, 50, 60, 70, 80, 90])\n",
    "\n",
    "This can be used on multidimensional arrays too:\n",
    "\n",
    ">>> np.where([[True, False], [True, True]],\n",
    "...          [[1, 2], [3, 4]],\n",
    "...          [[9, 8], [7, 6]])\n",
    "array([[1, 8],\n",
    "       [3, 4]])\n",
    "\n",
    "The shapes of x, y, and the condition are broadcast together:\n",
    "\n",
    ">>> x, y = np.ogrid[:3, :4]\n",
    ">>> np.where(x < y, x, 10 + y)  # both x and 10+y are broadcast\n",
    "array([[10,  0,  0,  0],\n",
    "       [10, 11,  1,  1],\n",
    "       [10, 11, 12,  2]])\n",
    "\n",
    ">>> a = np.array([[0, 1, 2],\n",
    "...               [0, 2, 4],\n",
    "...               [0, 3, 6]])\n",
    ">>> np.where(a < 4, a, -1)  # -1 is broadcast\n",
    "array([[ 0,  1,  2],\n",
    "       [ 0,  2, -1],\n",
    "       [ 0,  3, -1]])\n",
    "Type:      function\n"
   ]
  },
  {
   "cell_type": "code",
   "execution_count": 14,
   "id": "059614af",
   "metadata": {},
   "outputs": [],
   "source": [
    "x = [i for i in range(10)]"
   ]
  },
  {
   "cell_type": "code",
   "execution_count": 15,
   "id": "9245224f",
   "metadata": {},
   "outputs": [
    {
     "data": {
      "text/plain": [
       "[0, 1, 2, 3, 4, 5, 6, 7, 8, 9]"
      ]
     },
     "execution_count": 15,
     "metadata": {},
     "output_type": "execute_result"
    }
   ],
   "source": [
    "x"
   ]
  },
  {
   "cell_type": "code",
   "execution_count": 16,
   "id": "b5098071",
   "metadata": {},
   "outputs": [],
   "source": [
    "x = np.array(x)"
   ]
  },
  {
   "cell_type": "code",
   "execution_count": 17,
   "id": "38372de5",
   "metadata": {},
   "outputs": [
    {
     "data": {
      "text/plain": [
       "array([0, 1, 2, 3, 4, 5, 6, 7, 8, 9])"
      ]
     },
     "execution_count": 17,
     "metadata": {},
     "output_type": "execute_result"
    }
   ],
   "source": [
    "x"
   ]
  },
  {
   "cell_type": "code",
   "execution_count": 18,
   "id": "1f5c6661",
   "metadata": {},
   "outputs": [],
   "source": [
    "# Value of x is less than 5 means, print the value else print the value x+10"
   ]
  },
  {
   "cell_type": "code",
   "execution_count": 19,
   "id": "d5a45854",
   "metadata": {},
   "outputs": [
    {
     "data": {
      "text/plain": [
       "array([ 0,  1,  2,  3,  4, 15, 16, 17, 18, 19])"
      ]
     },
     "execution_count": 19,
     "metadata": {},
     "output_type": "execute_result"
    }
   ],
   "source": [
    "np.where(x <  5, x, x + 10 )"
   ]
  },
  {
   "cell_type": "code",
   "execution_count": 20,
   "id": "d79c5eed",
   "metadata": {},
   "outputs": [
    {
     "data": {
      "text/html": [
       "<div>\n",
       "<style scoped>\n",
       "    .dataframe tbody tr th:only-of-type {\n",
       "        vertical-align: middle;\n",
       "    }\n",
       "\n",
       "    .dataframe tbody tr th {\n",
       "        vertical-align: top;\n",
       "    }\n",
       "\n",
       "    .dataframe thead th {\n",
       "        text-align: right;\n",
       "    }\n",
       "</style>\n",
       "<table border=\"1\" class=\"dataframe\">\n",
       "  <thead>\n",
       "    <tr style=\"text-align: right;\">\n",
       "      <th></th>\n",
       "      <th>Courses</th>\n",
       "      <th>Fee</th>\n",
       "      <th>Discount</th>\n",
       "      <th>Duration</th>\n",
       "    </tr>\n",
       "  </thead>\n",
       "  <tbody>\n",
       "    <tr>\n",
       "      <th>0</th>\n",
       "      <td>Spark</td>\n",
       "      <td>22000</td>\n",
       "      <td>1500</td>\n",
       "      <td>30days</td>\n",
       "    </tr>\n",
       "    <tr>\n",
       "      <th>1</th>\n",
       "      <td>30000</td>\n",
       "      <td>30000</td>\n",
       "      <td>30000</td>\n",
       "      <td>30000</td>\n",
       "    </tr>\n",
       "    <tr>\n",
       "      <th>2</th>\n",
       "      <td>Hadoop</td>\n",
       "      <td>23000</td>\n",
       "      <td>1200</td>\n",
       "      <td>30days</td>\n",
       "    </tr>\n",
       "    <tr>\n",
       "      <th>3</th>\n",
       "      <td>Python</td>\n",
       "      <td>24000</td>\n",
       "      <td>800</td>\n",
       "      <td>35days</td>\n",
       "    </tr>\n",
       "    <tr>\n",
       "      <th>4</th>\n",
       "      <td>30000</td>\n",
       "      <td>30000</td>\n",
       "      <td>30000</td>\n",
       "      <td>30000</td>\n",
       "    </tr>\n",
       "  </tbody>\n",
       "</table>\n",
       "</div>"
      ],
      "text/plain": [
       "  Courses    Fee  Discount Duration\n",
       "0   Spark  22000      1500   30days\n",
       "1   30000  30000     30000    30000\n",
       "2  Hadoop  23000      1200   30days\n",
       "3  Python  24000       800   35days\n",
       "4   30000  30000     30000    30000"
      ]
     },
     "execution_count": 20,
     "metadata": {},
     "output_type": "execute_result"
    }
   ],
   "source": [
    "data"
   ]
  },
  {
   "cell_type": "markdown",
   "id": "b0d89c52",
   "metadata": {},
   "source": [
    "# Another method"
   ]
  },
  {
   "cell_type": "code",
   "execution_count": 23,
   "id": "fe4febf5",
   "metadata": {},
   "outputs": [],
   "source": [
    "technologies= {\n",
    "    'Courses':[\"Spark\",\"PySpark\",\"Hadoop\",\"Python\",\"Pandas\"],\n",
    "    'Fee' :[22000,25000,23000,24000,26000],\n",
    "    'Discount':[1500,1000,1200,800,1300],\n",
    "    'Duration':['30days','50days','30days', '35days', '40days']\n",
    "           }"
   ]
  },
  {
   "cell_type": "code",
   "execution_count": 24,
   "id": "f0adcf55",
   "metadata": {},
   "outputs": [],
   "source": [
    "data = pd.DataFrame(technologies)"
   ]
  },
  {
   "cell_type": "code",
   "execution_count": 27,
   "id": "7b776550",
   "metadata": {},
   "outputs": [],
   "source": [
    "data[\"Fee\"] = np.where(data[\"Fee\"] >= 25000, 30000, data[\"Fee\"])"
   ]
  },
  {
   "cell_type": "code",
   "execution_count": 28,
   "id": "cff7cef1",
   "metadata": {},
   "outputs": [
    {
     "data": {
      "text/html": [
       "<div>\n",
       "<style scoped>\n",
       "    .dataframe tbody tr th:only-of-type {\n",
       "        vertical-align: middle;\n",
       "    }\n",
       "\n",
       "    .dataframe tbody tr th {\n",
       "        vertical-align: top;\n",
       "    }\n",
       "\n",
       "    .dataframe thead th {\n",
       "        text-align: right;\n",
       "    }\n",
       "</style>\n",
       "<table border=\"1\" class=\"dataframe\">\n",
       "  <thead>\n",
       "    <tr style=\"text-align: right;\">\n",
       "      <th></th>\n",
       "      <th>Courses</th>\n",
       "      <th>Fee</th>\n",
       "      <th>Discount</th>\n",
       "      <th>Duration</th>\n",
       "    </tr>\n",
       "  </thead>\n",
       "  <tbody>\n",
       "    <tr>\n",
       "      <th>0</th>\n",
       "      <td>Spark</td>\n",
       "      <td>22000</td>\n",
       "      <td>1500</td>\n",
       "      <td>30days</td>\n",
       "    </tr>\n",
       "    <tr>\n",
       "      <th>1</th>\n",
       "      <td>PySpark</td>\n",
       "      <td>30000</td>\n",
       "      <td>1000</td>\n",
       "      <td>50days</td>\n",
       "    </tr>\n",
       "    <tr>\n",
       "      <th>2</th>\n",
       "      <td>Hadoop</td>\n",
       "      <td>23000</td>\n",
       "      <td>1200</td>\n",
       "      <td>30days</td>\n",
       "    </tr>\n",
       "    <tr>\n",
       "      <th>3</th>\n",
       "      <td>Python</td>\n",
       "      <td>24000</td>\n",
       "      <td>800</td>\n",
       "      <td>35days</td>\n",
       "    </tr>\n",
       "    <tr>\n",
       "      <th>4</th>\n",
       "      <td>Pandas</td>\n",
       "      <td>30000</td>\n",
       "      <td>1300</td>\n",
       "      <td>40days</td>\n",
       "    </tr>\n",
       "  </tbody>\n",
       "</table>\n",
       "</div>"
      ],
      "text/plain": [
       "   Courses    Fee  Discount Duration\n",
       "0    Spark  22000      1500   30days\n",
       "1  PySpark  30000      1000   50days\n",
       "2   Hadoop  23000      1200   30days\n",
       "3   Python  24000       800   35days\n",
       "4   Pandas  30000      1300   40days"
      ]
     },
     "execution_count": 28,
     "metadata": {},
     "output_type": "execute_result"
    }
   ],
   "source": [
    "data"
   ]
  }
 ],
 "metadata": {
  "kernelspec": {
   "display_name": "Python 3 (ipykernel)",
   "language": "python",
   "name": "python3"
  },
  "language_info": {
   "codemirror_mode": {
    "name": "ipython",
    "version": 3
   },
   "file_extension": ".py",
   "mimetype": "text/x-python",
   "name": "python",
   "nbconvert_exporter": "python",
   "pygments_lexer": "ipython3",
   "version": "3.9.7"
  }
 },
 "nbformat": 4,
 "nbformat_minor": 5
}
