{
 "cells": [
  {
   "cell_type": "markdown",
   "id": "ca2116b0",
   "metadata": {},
   "source": [
    "# Pandas Joins"
   ]
  },
  {
   "cell_type": "code",
   "execution_count": 1,
   "id": "9b2d46ba",
   "metadata": {},
   "outputs": [],
   "source": [
    "import pandas as pd"
   ]
  },
  {
   "cell_type": "code",
   "execution_count": 2,
   "id": "09e420ee",
   "metadata": {},
   "outputs": [],
   "source": [
    "import numpy as np"
   ]
  },
  {
   "cell_type": "code",
   "execution_count": 3,
   "id": "6a9134ac",
   "metadata": {},
   "outputs": [],
   "source": [
    " df1=pd.DataFrame({\"Employee\":[\"Archana\",\"Sana\",\"Thiru\",\"Mani\",\"Kalpana\"],\"Department\":[\"CSE\",\"ECE\",\"CSE\",\"MECH\",\"IT\"]})"
   ]
  },
  {
   "cell_type": "code",
   "execution_count": 4,
   "id": "3e713184",
   "metadata": {},
   "outputs": [
    {
     "data": {
      "text/html": [
       "<div>\n",
       "<style scoped>\n",
       "    .dataframe tbody tr th:only-of-type {\n",
       "        vertical-align: middle;\n",
       "    }\n",
       "\n",
       "    .dataframe tbody tr th {\n",
       "        vertical-align: top;\n",
       "    }\n",
       "\n",
       "    .dataframe thead th {\n",
       "        text-align: right;\n",
       "    }\n",
       "</style>\n",
       "<table border=\"1\" class=\"dataframe\">\n",
       "  <thead>\n",
       "    <tr style=\"text-align: right;\">\n",
       "      <th></th>\n",
       "      <th>Employee</th>\n",
       "      <th>Department</th>\n",
       "    </tr>\n",
       "  </thead>\n",
       "  <tbody>\n",
       "    <tr>\n",
       "      <th>0</th>\n",
       "      <td>Archana</td>\n",
       "      <td>CSE</td>\n",
       "    </tr>\n",
       "    <tr>\n",
       "      <th>1</th>\n",
       "      <td>Sana</td>\n",
       "      <td>ECE</td>\n",
       "    </tr>\n",
       "    <tr>\n",
       "      <th>2</th>\n",
       "      <td>Thiru</td>\n",
       "      <td>CSE</td>\n",
       "    </tr>\n",
       "    <tr>\n",
       "      <th>3</th>\n",
       "      <td>Mani</td>\n",
       "      <td>MECH</td>\n",
       "    </tr>\n",
       "    <tr>\n",
       "      <th>4</th>\n",
       "      <td>Kalpana</td>\n",
       "      <td>IT</td>\n",
       "    </tr>\n",
       "  </tbody>\n",
       "</table>\n",
       "</div>"
      ],
      "text/plain": [
       "  Employee Department\n",
       "0  Archana        CSE\n",
       "1     Sana        ECE\n",
       "2    Thiru        CSE\n",
       "3     Mani       MECH\n",
       "4  Kalpana         IT"
      ]
     },
     "execution_count": 4,
     "metadata": {},
     "output_type": "execute_result"
    }
   ],
   "source": [
    "df1"
   ]
  },
  {
   "cell_type": "code",
   "execution_count": 5,
   "id": "21edc7e2",
   "metadata": {},
   "outputs": [],
   "source": [
    "df2=pd.DataFrame({\"Employee\":[\"Archana\",\"Sana\",\"Thiru\",\"Mani\",\"Kalpana\"],\"YOJ\":[2001,2000,2012,2011,2010]})"
   ]
  },
  {
   "cell_type": "code",
   "execution_count": 6,
   "id": "a821c71b",
   "metadata": {},
   "outputs": [
    {
     "data": {
      "text/html": [
       "<div>\n",
       "<style scoped>\n",
       "    .dataframe tbody tr th:only-of-type {\n",
       "        vertical-align: middle;\n",
       "    }\n",
       "\n",
       "    .dataframe tbody tr th {\n",
       "        vertical-align: top;\n",
       "    }\n",
       "\n",
       "    .dataframe thead th {\n",
       "        text-align: right;\n",
       "    }\n",
       "</style>\n",
       "<table border=\"1\" class=\"dataframe\">\n",
       "  <thead>\n",
       "    <tr style=\"text-align: right;\">\n",
       "      <th></th>\n",
       "      <th>Employee</th>\n",
       "      <th>YOJ</th>\n",
       "    </tr>\n",
       "  </thead>\n",
       "  <tbody>\n",
       "    <tr>\n",
       "      <th>0</th>\n",
       "      <td>Archana</td>\n",
       "      <td>2001</td>\n",
       "    </tr>\n",
       "    <tr>\n",
       "      <th>1</th>\n",
       "      <td>Sana</td>\n",
       "      <td>2000</td>\n",
       "    </tr>\n",
       "    <tr>\n",
       "      <th>2</th>\n",
       "      <td>Thiru</td>\n",
       "      <td>2012</td>\n",
       "    </tr>\n",
       "    <tr>\n",
       "      <th>3</th>\n",
       "      <td>Mani</td>\n",
       "      <td>2011</td>\n",
       "    </tr>\n",
       "    <tr>\n",
       "      <th>4</th>\n",
       "      <td>Kalpana</td>\n",
       "      <td>2010</td>\n",
       "    </tr>\n",
       "  </tbody>\n",
       "</table>\n",
       "</div>"
      ],
      "text/plain": [
       "  Employee   YOJ\n",
       "0  Archana  2001\n",
       "1     Sana  2000\n",
       "2    Thiru  2012\n",
       "3     Mani  2011\n",
       "4  Kalpana  2010"
      ]
     },
     "execution_count": 6,
     "metadata": {},
     "output_type": "execute_result"
    }
   ],
   "source": [
    "df2"
   ]
  },
  {
   "cell_type": "code",
   "execution_count": 7,
   "id": "ca0bc35c",
   "metadata": {},
   "outputs": [
    {
     "data": {
      "text/html": [
       "<div>\n",
       "<style scoped>\n",
       "    .dataframe tbody tr th:only-of-type {\n",
       "        vertical-align: middle;\n",
       "    }\n",
       "\n",
       "    .dataframe tbody tr th {\n",
       "        vertical-align: top;\n",
       "    }\n",
       "\n",
       "    .dataframe thead th {\n",
       "        text-align: right;\n",
       "    }\n",
       "</style>\n",
       "<table border=\"1\" class=\"dataframe\">\n",
       "  <thead>\n",
       "    <tr style=\"text-align: right;\">\n",
       "      <th></th>\n",
       "      <th>Employee</th>\n",
       "      <th>Department</th>\n",
       "      <th>YOJ</th>\n",
       "    </tr>\n",
       "  </thead>\n",
       "  <tbody>\n",
       "    <tr>\n",
       "      <th>0</th>\n",
       "      <td>Archana</td>\n",
       "      <td>CSE</td>\n",
       "      <td>2001</td>\n",
       "    </tr>\n",
       "    <tr>\n",
       "      <th>1</th>\n",
       "      <td>Sana</td>\n",
       "      <td>ECE</td>\n",
       "      <td>2000</td>\n",
       "    </tr>\n",
       "    <tr>\n",
       "      <th>2</th>\n",
       "      <td>Thiru</td>\n",
       "      <td>CSE</td>\n",
       "      <td>2012</td>\n",
       "    </tr>\n",
       "    <tr>\n",
       "      <th>3</th>\n",
       "      <td>Mani</td>\n",
       "      <td>MECH</td>\n",
       "      <td>2011</td>\n",
       "    </tr>\n",
       "    <tr>\n",
       "      <th>4</th>\n",
       "      <td>Kalpana</td>\n",
       "      <td>IT</td>\n",
       "      <td>2010</td>\n",
       "    </tr>\n",
       "  </tbody>\n",
       "</table>\n",
       "</div>"
      ],
      "text/plain": [
       "  Employee Department   YOJ\n",
       "0  Archana        CSE  2001\n",
       "1     Sana        ECE  2000\n",
       "2    Thiru        CSE  2012\n",
       "3     Mani       MECH  2011\n",
       "4  Kalpana         IT  2010"
      ]
     },
     "execution_count": 7,
     "metadata": {},
     "output_type": "execute_result"
    }
   ],
   "source": [
    "pd.merge(df1,df2)"
   ]
  },
  {
   "cell_type": "code",
   "execution_count": 29,
   "id": "7a78e4a3",
   "metadata": {},
   "outputs": [],
   "source": [
    "# one to one"
   ]
  },
  {
   "cell_type": "code",
   "execution_count": 8,
   "id": "0dd6ccc7",
   "metadata": {},
   "outputs": [],
   "source": [
    "df3=pd.merge(df1,df2)"
   ]
  },
  {
   "cell_type": "code",
   "execution_count": 9,
   "id": "28486e4f",
   "metadata": {},
   "outputs": [
    {
     "data": {
      "text/html": [
       "<div>\n",
       "<style scoped>\n",
       "    .dataframe tbody tr th:only-of-type {\n",
       "        vertical-align: middle;\n",
       "    }\n",
       "\n",
       "    .dataframe tbody tr th {\n",
       "        vertical-align: top;\n",
       "    }\n",
       "\n",
       "    .dataframe thead th {\n",
       "        text-align: right;\n",
       "    }\n",
       "</style>\n",
       "<table border=\"1\" class=\"dataframe\">\n",
       "  <thead>\n",
       "    <tr style=\"text-align: right;\">\n",
       "      <th></th>\n",
       "      <th>Employee</th>\n",
       "      <th>Department</th>\n",
       "      <th>YOJ</th>\n",
       "    </tr>\n",
       "  </thead>\n",
       "  <tbody>\n",
       "    <tr>\n",
       "      <th>0</th>\n",
       "      <td>Archana</td>\n",
       "      <td>CSE</td>\n",
       "      <td>2001</td>\n",
       "    </tr>\n",
       "    <tr>\n",
       "      <th>1</th>\n",
       "      <td>Sana</td>\n",
       "      <td>ECE</td>\n",
       "      <td>2000</td>\n",
       "    </tr>\n",
       "    <tr>\n",
       "      <th>2</th>\n",
       "      <td>Thiru</td>\n",
       "      <td>CSE</td>\n",
       "      <td>2012</td>\n",
       "    </tr>\n",
       "    <tr>\n",
       "      <th>3</th>\n",
       "      <td>Mani</td>\n",
       "      <td>MECH</td>\n",
       "      <td>2011</td>\n",
       "    </tr>\n",
       "    <tr>\n",
       "      <th>4</th>\n",
       "      <td>Kalpana</td>\n",
       "      <td>IT</td>\n",
       "      <td>2010</td>\n",
       "    </tr>\n",
       "  </tbody>\n",
       "</table>\n",
       "</div>"
      ],
      "text/plain": [
       "  Employee Department   YOJ\n",
       "0  Archana        CSE  2001\n",
       "1     Sana        ECE  2000\n",
       "2    Thiru        CSE  2012\n",
       "3     Mani       MECH  2011\n",
       "4  Kalpana         IT  2010"
      ]
     },
     "execution_count": 9,
     "metadata": {},
     "output_type": "execute_result"
    }
   ],
   "source": [
    "df3"
   ]
  },
  {
   "cell_type": "code",
   "execution_count": 10,
   "id": "985d100c",
   "metadata": {},
   "outputs": [],
   "source": [
    "df4=pd.DataFrame({\"Department\":[\"CSE\",\"ECE\",\"MECH\",\"IT\"],\"Head\":[\"PSK\",\"KAR\",\"AKT\",\"VJP\"]})"
   ]
  },
  {
   "cell_type": "code",
   "execution_count": 11,
   "id": "2813abff",
   "metadata": {},
   "outputs": [
    {
     "data": {
      "text/html": [
       "<div>\n",
       "<style scoped>\n",
       "    .dataframe tbody tr th:only-of-type {\n",
       "        vertical-align: middle;\n",
       "    }\n",
       "\n",
       "    .dataframe tbody tr th {\n",
       "        vertical-align: top;\n",
       "    }\n",
       "\n",
       "    .dataframe thead th {\n",
       "        text-align: right;\n",
       "    }\n",
       "</style>\n",
       "<table border=\"1\" class=\"dataframe\">\n",
       "  <thead>\n",
       "    <tr style=\"text-align: right;\">\n",
       "      <th></th>\n",
       "      <th>Department</th>\n",
       "      <th>Head</th>\n",
       "    </tr>\n",
       "  </thead>\n",
       "  <tbody>\n",
       "    <tr>\n",
       "      <th>0</th>\n",
       "      <td>CSE</td>\n",
       "      <td>PSK</td>\n",
       "    </tr>\n",
       "    <tr>\n",
       "      <th>1</th>\n",
       "      <td>ECE</td>\n",
       "      <td>KAR</td>\n",
       "    </tr>\n",
       "    <tr>\n",
       "      <th>2</th>\n",
       "      <td>MECH</td>\n",
       "      <td>AKT</td>\n",
       "    </tr>\n",
       "    <tr>\n",
       "      <th>3</th>\n",
       "      <td>IT</td>\n",
       "      <td>VJP</td>\n",
       "    </tr>\n",
       "  </tbody>\n",
       "</table>\n",
       "</div>"
      ],
      "text/plain": [
       "  Department Head\n",
       "0        CSE  PSK\n",
       "1        ECE  KAR\n",
       "2       MECH  AKT\n",
       "3         IT  VJP"
      ]
     },
     "execution_count": 11,
     "metadata": {},
     "output_type": "execute_result"
    }
   ],
   "source": [
    "df4"
   ]
  },
  {
   "cell_type": "code",
   "execution_count": 30,
   "id": "ec14de34",
   "metadata": {},
   "outputs": [],
   "source": [
    "# one to many"
   ]
  },
  {
   "cell_type": "code",
   "execution_count": 13,
   "id": "aaa14828",
   "metadata": {},
   "outputs": [],
   "source": [
    "df5=pd.merge(df3,df4)"
   ]
  },
  {
   "cell_type": "code",
   "execution_count": 14,
   "id": "c7bf6bb6",
   "metadata": {},
   "outputs": [
    {
     "data": {
      "text/html": [
       "<div>\n",
       "<style scoped>\n",
       "    .dataframe tbody tr th:only-of-type {\n",
       "        vertical-align: middle;\n",
       "    }\n",
       "\n",
       "    .dataframe tbody tr th {\n",
       "        vertical-align: top;\n",
       "    }\n",
       "\n",
       "    .dataframe thead th {\n",
       "        text-align: right;\n",
       "    }\n",
       "</style>\n",
       "<table border=\"1\" class=\"dataframe\">\n",
       "  <thead>\n",
       "    <tr style=\"text-align: right;\">\n",
       "      <th></th>\n",
       "      <th>Employee</th>\n",
       "      <th>Department</th>\n",
       "      <th>YOJ</th>\n",
       "      <th>Head</th>\n",
       "    </tr>\n",
       "  </thead>\n",
       "  <tbody>\n",
       "    <tr>\n",
       "      <th>0</th>\n",
       "      <td>Archana</td>\n",
       "      <td>CSE</td>\n",
       "      <td>2001</td>\n",
       "      <td>PSK</td>\n",
       "    </tr>\n",
       "    <tr>\n",
       "      <th>1</th>\n",
       "      <td>Thiru</td>\n",
       "      <td>CSE</td>\n",
       "      <td>2012</td>\n",
       "      <td>PSK</td>\n",
       "    </tr>\n",
       "    <tr>\n",
       "      <th>2</th>\n",
       "      <td>Sana</td>\n",
       "      <td>ECE</td>\n",
       "      <td>2000</td>\n",
       "      <td>KAR</td>\n",
       "    </tr>\n",
       "    <tr>\n",
       "      <th>3</th>\n",
       "      <td>Mani</td>\n",
       "      <td>MECH</td>\n",
       "      <td>2011</td>\n",
       "      <td>AKT</td>\n",
       "    </tr>\n",
       "    <tr>\n",
       "      <th>4</th>\n",
       "      <td>Kalpana</td>\n",
       "      <td>IT</td>\n",
       "      <td>2010</td>\n",
       "      <td>VJP</td>\n",
       "    </tr>\n",
       "  </tbody>\n",
       "</table>\n",
       "</div>"
      ],
      "text/plain": [
       "  Employee Department   YOJ Head\n",
       "0  Archana        CSE  2001  PSK\n",
       "1    Thiru        CSE  2012  PSK\n",
       "2     Sana        ECE  2000  KAR\n",
       "3     Mani       MECH  2011  AKT\n",
       "4  Kalpana         IT  2010  VJP"
      ]
     },
     "execution_count": 14,
     "metadata": {},
     "output_type": "execute_result"
    }
   ],
   "source": [
    "df5"
   ]
  },
  {
   "cell_type": "code",
   "execution_count": 15,
   "id": "929f980c",
   "metadata": {},
   "outputs": [],
   "source": [
    "# Department and Head has 2 duplicates"
   ]
  },
  {
   "cell_type": "code",
   "execution_count": 16,
   "id": "081626db",
   "metadata": {},
   "outputs": [],
   "source": [
    "df6=pd.DataFrame({\"Department\":['CSE','CSE','ECE','MECH','IT'],\"Skill\":['CV','Programming','Embedded','ThermoEngineering','Data']})"
   ]
  },
  {
   "cell_type": "code",
   "execution_count": 17,
   "id": "65e3776f",
   "metadata": {},
   "outputs": [
    {
     "data": {
      "text/html": [
       "<div>\n",
       "<style scoped>\n",
       "    .dataframe tbody tr th:only-of-type {\n",
       "        vertical-align: middle;\n",
       "    }\n",
       "\n",
       "    .dataframe tbody tr th {\n",
       "        vertical-align: top;\n",
       "    }\n",
       "\n",
       "    .dataframe thead th {\n",
       "        text-align: right;\n",
       "    }\n",
       "</style>\n",
       "<table border=\"1\" class=\"dataframe\">\n",
       "  <thead>\n",
       "    <tr style=\"text-align: right;\">\n",
       "      <th></th>\n",
       "      <th>Department</th>\n",
       "      <th>Skill</th>\n",
       "    </tr>\n",
       "  </thead>\n",
       "  <tbody>\n",
       "    <tr>\n",
       "      <th>0</th>\n",
       "      <td>CSE</td>\n",
       "      <td>CV</td>\n",
       "    </tr>\n",
       "    <tr>\n",
       "      <th>1</th>\n",
       "      <td>CSE</td>\n",
       "      <td>Programming</td>\n",
       "    </tr>\n",
       "    <tr>\n",
       "      <th>2</th>\n",
       "      <td>ECE</td>\n",
       "      <td>Embedded</td>\n",
       "    </tr>\n",
       "    <tr>\n",
       "      <th>3</th>\n",
       "      <td>MECH</td>\n",
       "      <td>ThermoEngineering</td>\n",
       "    </tr>\n",
       "    <tr>\n",
       "      <th>4</th>\n",
       "      <td>IT</td>\n",
       "      <td>Data</td>\n",
       "    </tr>\n",
       "  </tbody>\n",
       "</table>\n",
       "</div>"
      ],
      "text/plain": [
       "  Department              Skill\n",
       "0        CSE                 CV\n",
       "1        CSE        Programming\n",
       "2        ECE           Embedded\n",
       "3       MECH  ThermoEngineering\n",
       "4         IT               Data"
      ]
     },
     "execution_count": 17,
     "metadata": {},
     "output_type": "execute_result"
    }
   ],
   "source": [
    "df6"
   ]
  },
  {
   "cell_type": "code",
   "execution_count": 18,
   "id": "1ba99cee",
   "metadata": {},
   "outputs": [],
   "source": [
    "df7=pd.merge(df1,df6)"
   ]
  },
  {
   "cell_type": "code",
   "execution_count": 31,
   "id": "73dc1d72",
   "metadata": {},
   "outputs": [
    {
     "data": {
      "text/html": [
       "<div>\n",
       "<style scoped>\n",
       "    .dataframe tbody tr th:only-of-type {\n",
       "        vertical-align: middle;\n",
       "    }\n",
       "\n",
       "    .dataframe tbody tr th {\n",
       "        vertical-align: top;\n",
       "    }\n",
       "\n",
       "    .dataframe thead th {\n",
       "        text-align: right;\n",
       "    }\n",
       "</style>\n",
       "<table border=\"1\" class=\"dataframe\">\n",
       "  <thead>\n",
       "    <tr style=\"text-align: right;\">\n",
       "      <th></th>\n",
       "      <th>Employee</th>\n",
       "      <th>Department</th>\n",
       "    </tr>\n",
       "  </thead>\n",
       "  <tbody>\n",
       "    <tr>\n",
       "      <th>0</th>\n",
       "      <td>Archana</td>\n",
       "      <td>CSE</td>\n",
       "    </tr>\n",
       "    <tr>\n",
       "      <th>1</th>\n",
       "      <td>Sana</td>\n",
       "      <td>ECE</td>\n",
       "    </tr>\n",
       "    <tr>\n",
       "      <th>2</th>\n",
       "      <td>Thiru</td>\n",
       "      <td>CSE</td>\n",
       "    </tr>\n",
       "    <tr>\n",
       "      <th>3</th>\n",
       "      <td>Mani</td>\n",
       "      <td>MECH</td>\n",
       "    </tr>\n",
       "    <tr>\n",
       "      <th>4</th>\n",
       "      <td>Kalpana</td>\n",
       "      <td>IT</td>\n",
       "    </tr>\n",
       "  </tbody>\n",
       "</table>\n",
       "</div>"
      ],
      "text/plain": [
       "  Employee Department\n",
       "0  Archana        CSE\n",
       "1     Sana        ECE\n",
       "2    Thiru        CSE\n",
       "3     Mani       MECH\n",
       "4  Kalpana         IT"
      ]
     },
     "execution_count": 31,
     "metadata": {},
     "output_type": "execute_result"
    }
   ],
   "source": [
    "df1"
   ]
  },
  {
   "cell_type": "code",
   "execution_count": 32,
   "id": "1ddbaa5a",
   "metadata": {},
   "outputs": [
    {
     "data": {
      "text/html": [
       "<div>\n",
       "<style scoped>\n",
       "    .dataframe tbody tr th:only-of-type {\n",
       "        vertical-align: middle;\n",
       "    }\n",
       "\n",
       "    .dataframe tbody tr th {\n",
       "        vertical-align: top;\n",
       "    }\n",
       "\n",
       "    .dataframe thead th {\n",
       "        text-align: right;\n",
       "    }\n",
       "</style>\n",
       "<table border=\"1\" class=\"dataframe\">\n",
       "  <thead>\n",
       "    <tr style=\"text-align: right;\">\n",
       "      <th></th>\n",
       "      <th>Department</th>\n",
       "      <th>Skill</th>\n",
       "    </tr>\n",
       "  </thead>\n",
       "  <tbody>\n",
       "    <tr>\n",
       "      <th>0</th>\n",
       "      <td>CSE</td>\n",
       "      <td>CV</td>\n",
       "    </tr>\n",
       "    <tr>\n",
       "      <th>1</th>\n",
       "      <td>CSE</td>\n",
       "      <td>Programming</td>\n",
       "    </tr>\n",
       "    <tr>\n",
       "      <th>2</th>\n",
       "      <td>ECE</td>\n",
       "      <td>Embedded</td>\n",
       "    </tr>\n",
       "    <tr>\n",
       "      <th>3</th>\n",
       "      <td>MECH</td>\n",
       "      <td>ThermoEngineering</td>\n",
       "    </tr>\n",
       "    <tr>\n",
       "      <th>4</th>\n",
       "      <td>IT</td>\n",
       "      <td>Data</td>\n",
       "    </tr>\n",
       "  </tbody>\n",
       "</table>\n",
       "</div>"
      ],
      "text/plain": [
       "  Department              Skill\n",
       "0        CSE                 CV\n",
       "1        CSE        Programming\n",
       "2        ECE           Embedded\n",
       "3       MECH  ThermoEngineering\n",
       "4         IT               Data"
      ]
     },
     "execution_count": 32,
     "metadata": {},
     "output_type": "execute_result"
    }
   ],
   "source": [
    "df6"
   ]
  },
  {
   "cell_type": "code",
   "execution_count": 33,
   "id": "6a90a711",
   "metadata": {},
   "outputs": [],
   "source": [
    "# many to many"
   ]
  },
  {
   "cell_type": "code",
   "execution_count": 19,
   "id": "72a63f02",
   "metadata": {},
   "outputs": [
    {
     "data": {
      "text/html": [
       "<div>\n",
       "<style scoped>\n",
       "    .dataframe tbody tr th:only-of-type {\n",
       "        vertical-align: middle;\n",
       "    }\n",
       "\n",
       "    .dataframe tbody tr th {\n",
       "        vertical-align: top;\n",
       "    }\n",
       "\n",
       "    .dataframe thead th {\n",
       "        text-align: right;\n",
       "    }\n",
       "</style>\n",
       "<table border=\"1\" class=\"dataframe\">\n",
       "  <thead>\n",
       "    <tr style=\"text-align: right;\">\n",
       "      <th></th>\n",
       "      <th>Employee</th>\n",
       "      <th>Department</th>\n",
       "      <th>Skill</th>\n",
       "    </tr>\n",
       "  </thead>\n",
       "  <tbody>\n",
       "    <tr>\n",
       "      <th>0</th>\n",
       "      <td>Archana</td>\n",
       "      <td>CSE</td>\n",
       "      <td>CV</td>\n",
       "    </tr>\n",
       "    <tr>\n",
       "      <th>1</th>\n",
       "      <td>Archana</td>\n",
       "      <td>CSE</td>\n",
       "      <td>Programming</td>\n",
       "    </tr>\n",
       "    <tr>\n",
       "      <th>2</th>\n",
       "      <td>Thiru</td>\n",
       "      <td>CSE</td>\n",
       "      <td>CV</td>\n",
       "    </tr>\n",
       "    <tr>\n",
       "      <th>3</th>\n",
       "      <td>Thiru</td>\n",
       "      <td>CSE</td>\n",
       "      <td>Programming</td>\n",
       "    </tr>\n",
       "    <tr>\n",
       "      <th>4</th>\n",
       "      <td>Sana</td>\n",
       "      <td>ECE</td>\n",
       "      <td>Embedded</td>\n",
       "    </tr>\n",
       "    <tr>\n",
       "      <th>5</th>\n",
       "      <td>Mani</td>\n",
       "      <td>MECH</td>\n",
       "      <td>ThermoEngineering</td>\n",
       "    </tr>\n",
       "    <tr>\n",
       "      <th>6</th>\n",
       "      <td>Kalpana</td>\n",
       "      <td>IT</td>\n",
       "      <td>Data</td>\n",
       "    </tr>\n",
       "  </tbody>\n",
       "</table>\n",
       "</div>"
      ],
      "text/plain": [
       "  Employee Department              Skill\n",
       "0  Archana        CSE                 CV\n",
       "1  Archana        CSE        Programming\n",
       "2    Thiru        CSE                 CV\n",
       "3    Thiru        CSE        Programming\n",
       "4     Sana        ECE           Embedded\n",
       "5     Mani       MECH  ThermoEngineering\n",
       "6  Kalpana         IT               Data"
      ]
     },
     "execution_count": 19,
     "metadata": {},
     "output_type": "execute_result"
    }
   ],
   "source": [
    "df7"
   ]
  },
  {
   "cell_type": "code",
   "execution_count": 21,
   "id": "34085a15",
   "metadata": {},
   "outputs": [],
   "source": [
    "# It replicates the data once again to match with the dataframe."
   ]
  },
  {
   "cell_type": "markdown",
   "id": "6f3333dd",
   "metadata": {},
   "source": [
    "# One to one"
   ]
  },
  {
   "cell_type": "code",
   "execution_count": 36,
   "id": "6890af4b",
   "metadata": {},
   "outputs": [
    {
     "name": "stdout",
     "output_type": "stream",
     "text": [
      "DataFrame1 ...\n",
      "        Car  Units\n",
      "0      BMW    100\n",
      "1    Lexus    150\n",
      "2     Audi    110\n",
      "3  Mustang     80\n",
      "4  Bentley    110\n",
      "5   Jaguar     90\n",
      "\n",
      "DataFrame2 ...\n",
      "         Car  Reg_Price\n",
      "0       BMW       7000\n",
      "1     Lexus       1500\n",
      "2     Tesla       5000\n",
      "3   Mustang       8000\n",
      "4  Mercedes       9000\n",
      "5    Jaguar       6000\n",
      "\n",
      "Merged dataframe with one-to-one relation...\n",
      "        Car  Units  Reg_Price\n",
      "0      BMW    100       7000\n",
      "1    Lexus    150       1500\n",
      "2  Mustang     80       8000\n",
      "3   Jaguar     90       6000\n"
     ]
    }
   ],
   "source": [
    "import pandas as pd\n",
    "\n",
    "# Create DataFrame1\n",
    "dataFrame1 = pd.DataFrame(\n",
    "   {\n",
    "      \"Car\": ['BMW', 'Lexus', 'Audi', 'Mustang', 'Bentley', 'Jaguar'],\"Units\": [100, 150, 110, 80, 110, 90]\n",
    "   }\n",
    ")\n",
    "\n",
    "print(\"DataFrame1 ...\\n\",dataFrame1)\n",
    "\n",
    "# Create DataFrame2\n",
    "dataFrame2 = pd.DataFrame(\n",
    "   {\n",
    "      \"Car\": ['BMW', 'Lexus', 'Tesla', 'Mustang', 'Mercedes', 'Jaguar'],\"Reg_Price\": [7000, 1500, 5000, 8000, 9000, 6000]\n",
    "\n",
    "   }\n",
    ")\n",
    "\n",
    "print(\"\\nDataFrame2 ...\\n\",dataFrame2)\n",
    "\n",
    "mergedRes = pd.merge(dataFrame1, dataFrame2)\n",
    "print(\"\\nMerged dataframe with one-to-one relation...\\n\", mergedRes)"
   ]
  },
  {
   "cell_type": "markdown",
   "id": "2b9b5efe",
   "metadata": {},
   "source": [
    "# One to many"
   ]
  },
  {
   "cell_type": "code",
   "execution_count": 34,
   "id": "b04b4b77",
   "metadata": {},
   "outputs": [
    {
     "name": "stdout",
     "output_type": "stream",
     "text": [
      "DataFrame1 ...\n",
      "        Car  Units\n",
      "0      BMW    100\n",
      "1    Lexus    150\n",
      "2     Audi    110\n",
      "3  Mustang     80\n",
      "4  Bentley    110\n",
      "5   Jaguar     90\n",
      "\n",
      "DataFrame2 ...\n",
      "         Car  Reg_Price\n",
      "0       BMW       7000\n",
      "1     Lexus       1500\n",
      "2     Tesla       5000\n",
      "3   Mustang       8000\n",
      "4  Mercedes       9000\n",
      "5    Jaguar       6000\n",
      "\n",
      "Merged dataframe with one-to-many relation...\n",
      "        Car  Units  Reg_Price\n",
      "0      BMW    100       7000\n",
      "1    Lexus    150       1500\n",
      "2  Mustang     80       8000\n",
      "3   Jaguar     90       6000\n"
     ]
    }
   ],
   "source": [
    "dataFrame1 = pd.DataFrame(\n",
    "   {\n",
    "      \"Car\": ['BMW', 'Lexus', 'Audi', 'Mustang', 'Bentley', 'Jaguar'],\"Units\": [100, 150, 110, 80, 110, 90]\n",
    "   }\n",
    ")\n",
    "\n",
    "print(\"DataFrame1 ...\\n\",dataFrame1)\n",
    "\n",
    "dataFrame2 = pd.DataFrame(\n",
    "   {\n",
    "      \"Car\": ['BMW', 'Lexus', 'Tesla', 'Mustang', 'Mercedes', 'Jaguar'],\"Reg_Price\": [7000, 1500, 5000, 8000, 9000, 6000]\n",
    "\n",
    "   }\n",
    ")\n",
    "\n",
    "print(\"\\nDataFrame2 ...\\n\",dataFrame2)\n",
    "\n",
    "mergedRes = pd.merge(dataFrame1, dataFrame2)\n",
    "print(\"\\nMerged dataframe with one-to-many relation...\\n\", mergedRes)"
   ]
  },
  {
   "cell_type": "markdown",
   "id": "a73e7808",
   "metadata": {},
   "source": [
    "# Many to one"
   ]
  },
  {
   "cell_type": "code",
   "execution_count": 35,
   "id": "31873f96",
   "metadata": {},
   "outputs": [
    {
     "name": "stdout",
     "output_type": "stream",
     "text": [
      "DataFrame1 ...\n",
      "        Car  Units\n",
      "0      BMW    100\n",
      "1     Audi    110\n",
      "2  Mustang     80\n",
      "3  Bentley    110\n",
      "4   Jaguar     90\n",
      "\n",
      "DataFrame2 ...\n",
      "         Car  Reg_Price\n",
      "0       BMW       7000\n",
      "1     Lexus       1500\n",
      "2     Tesla       5000\n",
      "3   Mustang       8000\n",
      "4  Mercedes       9000\n",
      "5    Jaguar       6000\n",
      "\n",
      "Merged dataframe with many-to-one relation...\n",
      "        Car  Units  Reg_Price\n",
      "0      BMW    100       7000\n",
      "1  Mustang     80       8000\n",
      "2   Jaguar     90       6000\n"
     ]
    }
   ],
   "source": [
    "dataFrame1 = pd.DataFrame(\n",
    "   {\n",
    "      \"Car\": ['BMW', 'Audi', 'Mustang', 'Bentley', 'Jaguar'],\"Units\": [100, 110, 80, 110, 90]\n",
    "   }\n",
    ")\n",
    "\n",
    "print(\"DataFrame1 ...\\n\",dataFrame1)\n",
    "\n",
    "# Create DataFrame2\n",
    "dataFrame2 = pd.DataFrame(\n",
    "   {\n",
    "      \"Car\": ['BMW', 'Lexus', 'Tesla', 'Mustang', 'Mercedes', 'Jaguar'],\"Reg_Price\": [7000, 1500, 5000, 8000, 9000, 6000]\n",
    "\n",
    "   }\n",
    ")\n",
    "\n",
    "print(\"\\nDataFrame2 ...\\n\",dataFrame2)\n",
    "\n",
    "mergedRes = pd.merge(dataFrame1, dataFrame2)\n",
    "print(\"\\nMerged dataframe with many-to-one relation...\\n\", mergedRes)"
   ]
  }
 ],
 "metadata": {
  "kernelspec": {
   "display_name": "Python 3 (ipykernel)",
   "language": "python",
   "name": "python3"
  },
  "language_info": {
   "codemirror_mode": {
    "name": "ipython",
    "version": 3
   },
   "file_extension": ".py",
   "mimetype": "text/x-python",
   "name": "python",
   "nbconvert_exporter": "python",
   "pygments_lexer": "ipython3",
   "version": "3.9.7"
  }
 },
 "nbformat": 4,
 "nbformat_minor": 5
}
