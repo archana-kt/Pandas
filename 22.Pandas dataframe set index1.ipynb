{
 "cells": [
  {
   "cell_type": "markdown",
   "id": "5bf6d532",
   "metadata": {},
   "source": [
    "# Pandas dataframe set index1"
   ]
  },
  {
   "cell_type": "code",
   "execution_count": 1,
   "id": "89c9dc31",
   "metadata": {},
   "outputs": [],
   "source": [
    "import pandas as pd"
   ]
  },
  {
   "cell_type": "code",
   "execution_count": 2,
   "id": "b40c642d",
   "metadata": {},
   "outputs": [],
   "source": [
    "students = [('Archana',23,'Salem','India'),\n",
    "           ('Mani',22,'Coimbatore','India'),\n",
    "            ('Thiru',32,'Los Vegas','US'),\n",
    "            ('Kalpana',31,'London','UK'),\n",
    "            ('Sandhiya',21,'Chennai','India')]"
   ]
  },
  {
   "cell_type": "code",
   "execution_count": 3,
   "id": "2e6956ae",
   "metadata": {},
   "outputs": [],
   "source": [
    "data = pd.DataFrame(students)"
   ]
  },
  {
   "cell_type": "code",
   "execution_count": 4,
   "id": "46453e6b",
   "metadata": {},
   "outputs": [
    {
     "data": {
      "text/html": [
       "<div>\n",
       "<style scoped>\n",
       "    .dataframe tbody tr th:only-of-type {\n",
       "        vertical-align: middle;\n",
       "    }\n",
       "\n",
       "    .dataframe tbody tr th {\n",
       "        vertical-align: top;\n",
       "    }\n",
       "\n",
       "    .dataframe thead th {\n",
       "        text-align: right;\n",
       "    }\n",
       "</style>\n",
       "<table border=\"1\" class=\"dataframe\">\n",
       "  <thead>\n",
       "    <tr style=\"text-align: right;\">\n",
       "      <th></th>\n",
       "      <th>0</th>\n",
       "      <th>1</th>\n",
       "      <th>2</th>\n",
       "      <th>3</th>\n",
       "    </tr>\n",
       "  </thead>\n",
       "  <tbody>\n",
       "    <tr>\n",
       "      <th>0</th>\n",
       "      <td>Archana</td>\n",
       "      <td>23</td>\n",
       "      <td>Salem</td>\n",
       "      <td>India</td>\n",
       "    </tr>\n",
       "    <tr>\n",
       "      <th>1</th>\n",
       "      <td>Mani</td>\n",
       "      <td>22</td>\n",
       "      <td>Coimbatore</td>\n",
       "      <td>India</td>\n",
       "    </tr>\n",
       "    <tr>\n",
       "      <th>2</th>\n",
       "      <td>Thiru</td>\n",
       "      <td>32</td>\n",
       "      <td>Los Vegas</td>\n",
       "      <td>US</td>\n",
       "    </tr>\n",
       "    <tr>\n",
       "      <th>3</th>\n",
       "      <td>Kalpana</td>\n",
       "      <td>31</td>\n",
       "      <td>London</td>\n",
       "      <td>UK</td>\n",
       "    </tr>\n",
       "    <tr>\n",
       "      <th>4</th>\n",
       "      <td>Sandhiya</td>\n",
       "      <td>21</td>\n",
       "      <td>Chennai</td>\n",
       "      <td>India</td>\n",
       "    </tr>\n",
       "  </tbody>\n",
       "</table>\n",
       "</div>"
      ],
      "text/plain": [
       "          0   1           2      3\n",
       "0   Archana  23       Salem  India\n",
       "1      Mani  22  Coimbatore  India\n",
       "2     Thiru  32   Los Vegas     US\n",
       "3   Kalpana  31      London     UK\n",
       "4  Sandhiya  21     Chennai  India"
      ]
     },
     "execution_count": 4,
     "metadata": {},
     "output_type": "execute_result"
    }
   ],
   "source": [
    "data"
   ]
  },
  {
   "cell_type": "code",
   "execution_count": 5,
   "id": "52eda427",
   "metadata": {},
   "outputs": [],
   "source": [
    "data = pd.DataFrame(students, columns = ['Name','Age','City','Country'])"
   ]
  },
  {
   "cell_type": "code",
   "execution_count": 6,
   "id": "de4d459a",
   "metadata": {},
   "outputs": [
    {
     "data": {
      "text/html": [
       "<div>\n",
       "<style scoped>\n",
       "    .dataframe tbody tr th:only-of-type {\n",
       "        vertical-align: middle;\n",
       "    }\n",
       "\n",
       "    .dataframe tbody tr th {\n",
       "        vertical-align: top;\n",
       "    }\n",
       "\n",
       "    .dataframe thead th {\n",
       "        text-align: right;\n",
       "    }\n",
       "</style>\n",
       "<table border=\"1\" class=\"dataframe\">\n",
       "  <thead>\n",
       "    <tr style=\"text-align: right;\">\n",
       "      <th></th>\n",
       "      <th>Name</th>\n",
       "      <th>Age</th>\n",
       "      <th>City</th>\n",
       "      <th>Country</th>\n",
       "    </tr>\n",
       "  </thead>\n",
       "  <tbody>\n",
       "    <tr>\n",
       "      <th>0</th>\n",
       "      <td>Archana</td>\n",
       "      <td>23</td>\n",
       "      <td>Salem</td>\n",
       "      <td>India</td>\n",
       "    </tr>\n",
       "    <tr>\n",
       "      <th>1</th>\n",
       "      <td>Mani</td>\n",
       "      <td>22</td>\n",
       "      <td>Coimbatore</td>\n",
       "      <td>India</td>\n",
       "    </tr>\n",
       "    <tr>\n",
       "      <th>2</th>\n",
       "      <td>Thiru</td>\n",
       "      <td>32</td>\n",
       "      <td>Los Vegas</td>\n",
       "      <td>US</td>\n",
       "    </tr>\n",
       "    <tr>\n",
       "      <th>3</th>\n",
       "      <td>Kalpana</td>\n",
       "      <td>31</td>\n",
       "      <td>London</td>\n",
       "      <td>UK</td>\n",
       "    </tr>\n",
       "    <tr>\n",
       "      <th>4</th>\n",
       "      <td>Sandhiya</td>\n",
       "      <td>21</td>\n",
       "      <td>Chennai</td>\n",
       "      <td>India</td>\n",
       "    </tr>\n",
       "  </tbody>\n",
       "</table>\n",
       "</div>"
      ],
      "text/plain": [
       "       Name  Age        City Country\n",
       "0   Archana   23       Salem   India\n",
       "1      Mani   22  Coimbatore   India\n",
       "2     Thiru   32   Los Vegas      US\n",
       "3   Kalpana   31      London      UK\n",
       "4  Sandhiya   21     Chennai   India"
      ]
     },
     "execution_count": 6,
     "metadata": {},
     "output_type": "execute_result"
    }
   ],
   "source": [
    "data"
   ]
  },
  {
   "cell_type": "code",
   "execution_count": 7,
   "id": "b993e5de",
   "metadata": {},
   "outputs": [],
   "source": [
    "data = pd.DataFrame(students, columns = ['Name','Age','City','Country'], index = ['s1','s2','s3','s4','s5'])"
   ]
  },
  {
   "cell_type": "code",
   "execution_count": 8,
   "id": "4a9885d7",
   "metadata": {},
   "outputs": [
    {
     "data": {
      "text/html": [
       "<div>\n",
       "<style scoped>\n",
       "    .dataframe tbody tr th:only-of-type {\n",
       "        vertical-align: middle;\n",
       "    }\n",
       "\n",
       "    .dataframe tbody tr th {\n",
       "        vertical-align: top;\n",
       "    }\n",
       "\n",
       "    .dataframe thead th {\n",
       "        text-align: right;\n",
       "    }\n",
       "</style>\n",
       "<table border=\"1\" class=\"dataframe\">\n",
       "  <thead>\n",
       "    <tr style=\"text-align: right;\">\n",
       "      <th></th>\n",
       "      <th>Name</th>\n",
       "      <th>Age</th>\n",
       "      <th>City</th>\n",
       "      <th>Country</th>\n",
       "    </tr>\n",
       "  </thead>\n",
       "  <tbody>\n",
       "    <tr>\n",
       "      <th>s1</th>\n",
       "      <td>Archana</td>\n",
       "      <td>23</td>\n",
       "      <td>Salem</td>\n",
       "      <td>India</td>\n",
       "    </tr>\n",
       "    <tr>\n",
       "      <th>s2</th>\n",
       "      <td>Mani</td>\n",
       "      <td>22</td>\n",
       "      <td>Coimbatore</td>\n",
       "      <td>India</td>\n",
       "    </tr>\n",
       "    <tr>\n",
       "      <th>s3</th>\n",
       "      <td>Thiru</td>\n",
       "      <td>32</td>\n",
       "      <td>Los Vegas</td>\n",
       "      <td>US</td>\n",
       "    </tr>\n",
       "    <tr>\n",
       "      <th>s4</th>\n",
       "      <td>Kalpana</td>\n",
       "      <td>31</td>\n",
       "      <td>London</td>\n",
       "      <td>UK</td>\n",
       "    </tr>\n",
       "    <tr>\n",
       "      <th>s5</th>\n",
       "      <td>Sandhiya</td>\n",
       "      <td>21</td>\n",
       "      <td>Chennai</td>\n",
       "      <td>India</td>\n",
       "    </tr>\n",
       "  </tbody>\n",
       "</table>\n",
       "</div>"
      ],
      "text/plain": [
       "        Name  Age        City Country\n",
       "s1   Archana   23       Salem   India\n",
       "s2      Mani   22  Coimbatore   India\n",
       "s3     Thiru   32   Los Vegas      US\n",
       "s4   Kalpana   31      London      UK\n",
       "s5  Sandhiya   21     Chennai   India"
      ]
     },
     "execution_count": 8,
     "metadata": {},
     "output_type": "execute_result"
    }
   ],
   "source": [
    "data"
   ]
  },
  {
   "cell_type": "markdown",
   "id": "c4efccc3",
   "metadata": {},
   "source": [
    "# Another method"
   ]
  },
  {
   "cell_type": "code",
   "execution_count": 11,
   "id": "081bbaf3",
   "metadata": {},
   "outputs": [],
   "source": [
    "data = pd.DataFrame(students, columns = ['Name','Age','City','Country'])"
   ]
  },
  {
   "cell_type": "code",
   "execution_count": 12,
   "id": "05bbd8c9",
   "metadata": {},
   "outputs": [
    {
     "data": {
      "text/html": [
       "<div>\n",
       "<style scoped>\n",
       "    .dataframe tbody tr th:only-of-type {\n",
       "        vertical-align: middle;\n",
       "    }\n",
       "\n",
       "    .dataframe tbody tr th {\n",
       "        vertical-align: top;\n",
       "    }\n",
       "\n",
       "    .dataframe thead th {\n",
       "        text-align: right;\n",
       "    }\n",
       "</style>\n",
       "<table border=\"1\" class=\"dataframe\">\n",
       "  <thead>\n",
       "    <tr style=\"text-align: right;\">\n",
       "      <th></th>\n",
       "      <th>Name</th>\n",
       "      <th>Age</th>\n",
       "      <th>City</th>\n",
       "      <th>Country</th>\n",
       "    </tr>\n",
       "  </thead>\n",
       "  <tbody>\n",
       "    <tr>\n",
       "      <th>0</th>\n",
       "      <td>Archana</td>\n",
       "      <td>23</td>\n",
       "      <td>Salem</td>\n",
       "      <td>India</td>\n",
       "    </tr>\n",
       "    <tr>\n",
       "      <th>1</th>\n",
       "      <td>Mani</td>\n",
       "      <td>22</td>\n",
       "      <td>Coimbatore</td>\n",
       "      <td>India</td>\n",
       "    </tr>\n",
       "    <tr>\n",
       "      <th>2</th>\n",
       "      <td>Thiru</td>\n",
       "      <td>32</td>\n",
       "      <td>Los Vegas</td>\n",
       "      <td>US</td>\n",
       "    </tr>\n",
       "    <tr>\n",
       "      <th>3</th>\n",
       "      <td>Kalpana</td>\n",
       "      <td>31</td>\n",
       "      <td>London</td>\n",
       "      <td>UK</td>\n",
       "    </tr>\n",
       "    <tr>\n",
       "      <th>4</th>\n",
       "      <td>Sandhiya</td>\n",
       "      <td>21</td>\n",
       "      <td>Chennai</td>\n",
       "      <td>India</td>\n",
       "    </tr>\n",
       "  </tbody>\n",
       "</table>\n",
       "</div>"
      ],
      "text/plain": [
       "       Name  Age        City Country\n",
       "0   Archana   23       Salem   India\n",
       "1      Mani   22  Coimbatore   India\n",
       "2     Thiru   32   Los Vegas      US\n",
       "3   Kalpana   31      London      UK\n",
       "4  Sandhiya   21     Chennai   India"
      ]
     },
     "execution_count": 12,
     "metadata": {},
     "output_type": "execute_result"
    }
   ],
   "source": [
    "data"
   ]
  },
  {
   "cell_type": "code",
   "execution_count": 13,
   "id": "6169c081",
   "metadata": {},
   "outputs": [],
   "source": [
    "index = pd.Index(['s1','s2','s3','s4','s5'])"
   ]
  },
  {
   "cell_type": "code",
   "execution_count": 14,
   "id": "df0de040",
   "metadata": {},
   "outputs": [
    {
     "data": {
      "text/html": [
       "<div>\n",
       "<style scoped>\n",
       "    .dataframe tbody tr th:only-of-type {\n",
       "        vertical-align: middle;\n",
       "    }\n",
       "\n",
       "    .dataframe tbody tr th {\n",
       "        vertical-align: top;\n",
       "    }\n",
       "\n",
       "    .dataframe thead th {\n",
       "        text-align: right;\n",
       "    }\n",
       "</style>\n",
       "<table border=\"1\" class=\"dataframe\">\n",
       "  <thead>\n",
       "    <tr style=\"text-align: right;\">\n",
       "      <th></th>\n",
       "      <th>Name</th>\n",
       "      <th>Age</th>\n",
       "      <th>City</th>\n",
       "      <th>Country</th>\n",
       "    </tr>\n",
       "  </thead>\n",
       "  <tbody>\n",
       "    <tr>\n",
       "      <th>s1</th>\n",
       "      <td>Archana</td>\n",
       "      <td>23</td>\n",
       "      <td>Salem</td>\n",
       "      <td>India</td>\n",
       "    </tr>\n",
       "    <tr>\n",
       "      <th>s2</th>\n",
       "      <td>Mani</td>\n",
       "      <td>22</td>\n",
       "      <td>Coimbatore</td>\n",
       "      <td>India</td>\n",
       "    </tr>\n",
       "    <tr>\n",
       "      <th>s3</th>\n",
       "      <td>Thiru</td>\n",
       "      <td>32</td>\n",
       "      <td>Los Vegas</td>\n",
       "      <td>US</td>\n",
       "    </tr>\n",
       "    <tr>\n",
       "      <th>s4</th>\n",
       "      <td>Kalpana</td>\n",
       "      <td>31</td>\n",
       "      <td>London</td>\n",
       "      <td>UK</td>\n",
       "    </tr>\n",
       "    <tr>\n",
       "      <th>s5</th>\n",
       "      <td>Sandhiya</td>\n",
       "      <td>21</td>\n",
       "      <td>Chennai</td>\n",
       "      <td>India</td>\n",
       "    </tr>\n",
       "  </tbody>\n",
       "</table>\n",
       "</div>"
      ],
      "text/plain": [
       "        Name  Age        City Country\n",
       "s1   Archana   23       Salem   India\n",
       "s2      Mani   22  Coimbatore   India\n",
       "s3     Thiru   32   Los Vegas      US\n",
       "s4   Kalpana   31      London      UK\n",
       "s5  Sandhiya   21     Chennai   India"
      ]
     },
     "execution_count": 14,
     "metadata": {},
     "output_type": "execute_result"
    }
   ],
   "source": [
    "data.set_index(index)"
   ]
  },
  {
   "cell_type": "code",
   "execution_count": 15,
   "id": "280d31cd",
   "metadata": {},
   "outputs": [],
   "source": [
    "data = data.set_index(\"Name\")"
   ]
  },
  {
   "cell_type": "code",
   "execution_count": 16,
   "id": "2da58f99",
   "metadata": {},
   "outputs": [
    {
     "data": {
      "text/html": [
       "<div>\n",
       "<style scoped>\n",
       "    .dataframe tbody tr th:only-of-type {\n",
       "        vertical-align: middle;\n",
       "    }\n",
       "\n",
       "    .dataframe tbody tr th {\n",
       "        vertical-align: top;\n",
       "    }\n",
       "\n",
       "    .dataframe thead th {\n",
       "        text-align: right;\n",
       "    }\n",
       "</style>\n",
       "<table border=\"1\" class=\"dataframe\">\n",
       "  <thead>\n",
       "    <tr style=\"text-align: right;\">\n",
       "      <th></th>\n",
       "      <th>Age</th>\n",
       "      <th>City</th>\n",
       "      <th>Country</th>\n",
       "    </tr>\n",
       "    <tr>\n",
       "      <th>Name</th>\n",
       "      <th></th>\n",
       "      <th></th>\n",
       "      <th></th>\n",
       "    </tr>\n",
       "  </thead>\n",
       "  <tbody>\n",
       "    <tr>\n",
       "      <th>Archana</th>\n",
       "      <td>23</td>\n",
       "      <td>Salem</td>\n",
       "      <td>India</td>\n",
       "    </tr>\n",
       "    <tr>\n",
       "      <th>Mani</th>\n",
       "      <td>22</td>\n",
       "      <td>Coimbatore</td>\n",
       "      <td>India</td>\n",
       "    </tr>\n",
       "    <tr>\n",
       "      <th>Thiru</th>\n",
       "      <td>32</td>\n",
       "      <td>Los Vegas</td>\n",
       "      <td>US</td>\n",
       "    </tr>\n",
       "    <tr>\n",
       "      <th>Kalpana</th>\n",
       "      <td>31</td>\n",
       "      <td>London</td>\n",
       "      <td>UK</td>\n",
       "    </tr>\n",
       "    <tr>\n",
       "      <th>Sandhiya</th>\n",
       "      <td>21</td>\n",
       "      <td>Chennai</td>\n",
       "      <td>India</td>\n",
       "    </tr>\n",
       "  </tbody>\n",
       "</table>\n",
       "</div>"
      ],
      "text/plain": [
       "          Age        City Country\n",
       "Name                             \n",
       "Archana    23       Salem   India\n",
       "Mani       22  Coimbatore   India\n",
       "Thiru      32   Los Vegas      US\n",
       "Kalpana    31      London      UK\n",
       "Sandhiya   21     Chennai   India"
      ]
     },
     "execution_count": 16,
     "metadata": {},
     "output_type": "execute_result"
    }
   ],
   "source": [
    "data"
   ]
  },
  {
   "cell_type": "code",
   "execution_count": 17,
   "id": "bc42a7d4",
   "metadata": {},
   "outputs": [],
   "source": [
    "# This will make Name as an index"
   ]
  }
 ],
 "metadata": {
  "kernelspec": {
   "display_name": "Python 3 (ipykernel)",
   "language": "python",
   "name": "python3"
  },
  "language_info": {
   "codemirror_mode": {
    "name": "ipython",
    "version": 3
   },
   "file_extension": ".py",
   "mimetype": "text/x-python",
   "name": "python",
   "nbconvert_exporter": "python",
   "pygments_lexer": "ipython3",
   "version": "3.9.7"
  }
 },
 "nbformat": 4,
 "nbformat_minor": 5
}
