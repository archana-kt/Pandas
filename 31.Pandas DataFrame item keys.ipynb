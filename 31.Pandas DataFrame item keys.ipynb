{
 "cells": [
  {
   "cell_type": "markdown",
   "id": "26a8032f",
   "metadata": {},
   "source": [
    "# Pandas DataFrame item keys"
   ]
  },
  {
   "cell_type": "code",
   "execution_count": 1,
   "id": "32312d54",
   "metadata": {},
   "outputs": [],
   "source": [
    "import pandas as pd"
   ]
  },
  {
   "cell_type": "code",
   "execution_count": 2,
   "id": "9b336735",
   "metadata": {},
   "outputs": [],
   "source": [
    "data = pd.DataFrame({\"Student Name\":[\"Archana\",\"Mani\",\"Kalpana\",\"Thiru\"],\"Age\":[23,25,28,21]})"
   ]
  },
  {
   "cell_type": "code",
   "execution_count": 3,
   "id": "78b109a9",
   "metadata": {},
   "outputs": [
    {
     "data": {
      "text/html": [
       "<div>\n",
       "<style scoped>\n",
       "    .dataframe tbody tr th:only-of-type {\n",
       "        vertical-align: middle;\n",
       "    }\n",
       "\n",
       "    .dataframe tbody tr th {\n",
       "        vertical-align: top;\n",
       "    }\n",
       "\n",
       "    .dataframe thead th {\n",
       "        text-align: right;\n",
       "    }\n",
       "</style>\n",
       "<table border=\"1\" class=\"dataframe\">\n",
       "  <thead>\n",
       "    <tr style=\"text-align: right;\">\n",
       "      <th></th>\n",
       "      <th>Student Name</th>\n",
       "      <th>Age</th>\n",
       "    </tr>\n",
       "  </thead>\n",
       "  <tbody>\n",
       "    <tr>\n",
       "      <th>0</th>\n",
       "      <td>Archana</td>\n",
       "      <td>23</td>\n",
       "    </tr>\n",
       "    <tr>\n",
       "      <th>1</th>\n",
       "      <td>Mani</td>\n",
       "      <td>25</td>\n",
       "    </tr>\n",
       "    <tr>\n",
       "      <th>2</th>\n",
       "      <td>Kalpana</td>\n",
       "      <td>28</td>\n",
       "    </tr>\n",
       "    <tr>\n",
       "      <th>3</th>\n",
       "      <td>Thiru</td>\n",
       "      <td>21</td>\n",
       "    </tr>\n",
       "  </tbody>\n",
       "</table>\n",
       "</div>"
      ],
      "text/plain": [
       "  Student Name  Age\n",
       "0      Archana   23\n",
       "1         Mani   25\n",
       "2      Kalpana   28\n",
       "3        Thiru   21"
      ]
     },
     "execution_count": 3,
     "metadata": {},
     "output_type": "execute_result"
    }
   ],
   "source": [
    "data"
   ]
  },
  {
   "cell_type": "code",
   "execution_count": 4,
   "id": "b3dfdce7",
   "metadata": {},
   "outputs": [
    {
     "data": {
      "text/plain": [
       "Index(['Student Name', 'Age'], dtype='object')"
      ]
     },
     "execution_count": 4,
     "metadata": {},
     "output_type": "execute_result"
    }
   ],
   "source": [
    "data.columns"
   ]
  },
  {
   "cell_type": "code",
   "execution_count": 5,
   "id": "f6508302",
   "metadata": {},
   "outputs": [
    {
     "data": {
      "text/plain": [
       "<map at 0x7fa7e1ce56a0>"
      ]
     },
     "execution_count": 5,
     "metadata": {},
     "output_type": "execute_result"
    }
   ],
   "source": [
    "data.__iter__()"
   ]
  },
  {
   "cell_type": "code",
   "execution_count": 6,
   "id": "54761d2c",
   "metadata": {},
   "outputs": [
    {
     "name": "stdout",
     "output_type": "stream",
     "text": [
      "Student Name\n",
      "Age\n"
     ]
    }
   ],
   "source": [
    "for i in data.__iter__():\n",
    "    print(i)"
   ]
  },
  {
   "cell_type": "code",
   "execution_count": 7,
   "id": "c005bc72",
   "metadata": {},
   "outputs": [
    {
     "data": {
      "text/plain": [
       "<generator object DataFrame.items at 0x7fa7e1ca82e0>"
      ]
     },
     "execution_count": 7,
     "metadata": {},
     "output_type": "execute_result"
    }
   ],
   "source": [
    "data.items()"
   ]
  },
  {
   "cell_type": "code",
   "execution_count": 8,
   "id": "b021d4f5",
   "metadata": {},
   "outputs": [
    {
     "name": "stdout",
     "output_type": "stream",
     "text": [
      "('Student Name', 0    Archana\n",
      "1       Mani\n",
      "2    Kalpana\n",
      "3      Thiru\n",
      "Name: Student Name, dtype: object)\n",
      "('Age', 0    23\n",
      "1    25\n",
      "2    28\n",
      "3    21\n",
      "Name: Age, dtype: int64)\n"
     ]
    }
   ],
   "source": [
    "for i in data.items():\n",
    "    print(i)"
   ]
  },
  {
   "cell_type": "code",
   "execution_count": 9,
   "id": "01cb5cc8",
   "metadata": {},
   "outputs": [],
   "source": [
    "# Here tuple is created"
   ]
  },
  {
   "cell_type": "code",
   "execution_count": 10,
   "id": "c7c97f10",
   "metadata": {},
   "outputs": [],
   "source": [
    "data.items?"
   ]
  },
  {
   "cell_type": "raw",
   "id": "690f0ede",
   "metadata": {},
   "source": [
    "Signature: data.items() -> 'Iterable[tuple[Hashable, Series]]'\n",
    "Docstring:\n",
    "Iterate over (column name, Series) pairs.\n",
    "\n",
    "Iterates over the DataFrame columns, returning a tuple with\n",
    "the column name and the content as a Series.\n",
    "\n",
    "Yields\n",
    "------\n",
    "label : object\n",
    "    The column names for the DataFrame being iterated over.\n",
    "content : Series\n",
    "    The column entries belonging to each label, as a Series.\n",
    "\n",
    "See Also\n",
    "--------\n",
    "DataFrame.iterrows : Iterate over DataFrame rows as\n",
    "    (index, Series) pairs.\n",
    "DataFrame.itertuples : Iterate over DataFrame rows as namedtuples\n",
    "    of the values.\n",
    "\n",
    "Examples\n",
    "--------\n",
    ">>> df = pd.DataFrame({'species': ['bear', 'bear', 'marsupial'],\n",
    "...                   'population': [1864, 22000, 80000]},\n",
    "...                   index=['panda', 'polar', 'koala'])\n",
    ">>> df\n",
    "        species   population\n",
    "panda   bear      1864\n",
    "polar   bear      22000\n",
    "koala   marsupial 80000\n",
    ">>> for label, content in df.items():\n",
    "...     print(f'label: {label}')\n",
    "...     print(f'content: {content}', sep='\\n')\n",
    "...\n",
    "label: species\n",
    "content:\n",
    "panda         bear\n",
    "polar         bear\n",
    "koala    marsupial\n",
    "Name: species, dtype: object\n",
    "label: population\n",
    "content:\n",
    "panda     1864\n",
    "polar    22000\n",
    "koala    80000\n",
    "Name: population, dtype: int64\n",
    "File:      ~/opt/anaconda3/lib/python3.9/site-packages/pandas/core/frame.py\n",
    "Type:      method"
   ]
  },
  {
   "cell_type": "code",
   "execution_count": 13,
   "id": "ca702a0b",
   "metadata": {},
   "outputs": [
    {
     "data": {
      "text/html": [
       "<div>\n",
       "<style scoped>\n",
       "    .dataframe tbody tr th:only-of-type {\n",
       "        vertical-align: middle;\n",
       "    }\n",
       "\n",
       "    .dataframe tbody tr th {\n",
       "        vertical-align: top;\n",
       "    }\n",
       "\n",
       "    .dataframe thead th {\n",
       "        text-align: right;\n",
       "    }\n",
       "</style>\n",
       "<table border=\"1\" class=\"dataframe\">\n",
       "  <thead>\n",
       "    <tr style=\"text-align: right;\">\n",
       "      <th></th>\n",
       "      <th>Student Name</th>\n",
       "      <th>Age</th>\n",
       "    </tr>\n",
       "  </thead>\n",
       "  <tbody>\n",
       "    <tr>\n",
       "      <th>0</th>\n",
       "      <td>Archana</td>\n",
       "      <td>23</td>\n",
       "    </tr>\n",
       "    <tr>\n",
       "      <th>1</th>\n",
       "      <td>Mani</td>\n",
       "      <td>25</td>\n",
       "    </tr>\n",
       "    <tr>\n",
       "      <th>2</th>\n",
       "      <td>Kalpana</td>\n",
       "      <td>28</td>\n",
       "    </tr>\n",
       "    <tr>\n",
       "      <th>3</th>\n",
       "      <td>Thiru</td>\n",
       "      <td>21</td>\n",
       "    </tr>\n",
       "  </tbody>\n",
       "</table>\n",
       "</div>"
      ],
      "text/plain": [
       "  Student Name  Age\n",
       "0      Archana   23\n",
       "1         Mani   25\n",
       "2      Kalpana   28\n",
       "3        Thiru   21"
      ]
     },
     "execution_count": 13,
     "metadata": {},
     "output_type": "execute_result"
    }
   ],
   "source": [
    "data"
   ]
  },
  {
   "cell_type": "code",
   "execution_count": 12,
   "id": "de76a64a",
   "metadata": {},
   "outputs": [
    {
     "name": "stdout",
     "output_type": "stream",
     "text": [
      "label:Student Name\n",
      "content0    Archana\n",
      "1       Mani\n",
      "2    Kalpana\n",
      "3      Thiru\n",
      "Name: Student Name, dtype: object\n",
      "label:Age\n",
      "content0    23\n",
      "1    25\n",
      "2    28\n",
      "3    21\n",
      "Name: Age, dtype: int64\n"
     ]
    }
   ],
   "source": [
    "for i,j in data.items():\n",
    "    print(f\"label:{i}\")\n",
    "    print(f\"content{j}\",sep=\"\\n\")"
   ]
  },
  {
   "cell_type": "code",
   "execution_count": 14,
   "id": "f93b55bf",
   "metadata": {},
   "outputs": [],
   "source": [
    "# Label is Age\n",
    "# Content is Name"
   ]
  },
  {
   "cell_type": "code",
   "execution_count": 15,
   "id": "c45e73df",
   "metadata": {},
   "outputs": [],
   "source": [
    "# items always iterate over the entire data"
   ]
  },
  {
   "cell_type": "code",
   "execution_count": 16,
   "id": "dab0dd87",
   "metadata": {},
   "outputs": [],
   "source": [
    "data = pd.read_csv(\"/Users/archanaqueen/Desktop/i18n/Daily Class/Pandas/Dataset_work/All-CSV-ML-Data-Files-Download-master/chicago.csv\")"
   ]
  },
  {
   "cell_type": "code",
   "execution_count": 17,
   "id": "169e4fa9",
   "metadata": {},
   "outputs": [
    {
     "data": {
      "text/html": [
       "<div>\n",
       "<style scoped>\n",
       "    .dataframe tbody tr th:only-of-type {\n",
       "        vertical-align: middle;\n",
       "    }\n",
       "\n",
       "    .dataframe tbody tr th {\n",
       "        vertical-align: top;\n",
       "    }\n",
       "\n",
       "    .dataframe thead th {\n",
       "        text-align: right;\n",
       "    }\n",
       "</style>\n",
       "<table border=\"1\" class=\"dataframe\">\n",
       "  <thead>\n",
       "    <tr style=\"text-align: right;\">\n",
       "      <th></th>\n",
       "      <th>Name</th>\n",
       "      <th>Position Title</th>\n",
       "      <th>Department</th>\n",
       "      <th>Employee Annual Salary</th>\n",
       "    </tr>\n",
       "  </thead>\n",
       "  <tbody>\n",
       "    <tr>\n",
       "      <th>0</th>\n",
       "      <td>AARON,  ELVIA J</td>\n",
       "      <td>WATER RATE TAKER</td>\n",
       "      <td>WATER MGMNT</td>\n",
       "      <td>$90744.00</td>\n",
       "    </tr>\n",
       "    <tr>\n",
       "      <th>1</th>\n",
       "      <td>AARON,  JEFFERY M</td>\n",
       "      <td>POLICE OFFICER</td>\n",
       "      <td>POLICE</td>\n",
       "      <td>$84450.00</td>\n",
       "    </tr>\n",
       "    <tr>\n",
       "      <th>2</th>\n",
       "      <td>AARON,  KARINA</td>\n",
       "      <td>POLICE OFFICER</td>\n",
       "      <td>POLICE</td>\n",
       "      <td>$84450.00</td>\n",
       "    </tr>\n",
       "    <tr>\n",
       "      <th>3</th>\n",
       "      <td>AARON,  KIMBERLEI R</td>\n",
       "      <td>CHIEF CONTRACT EXPEDITER</td>\n",
       "      <td>GENERAL SERVICES</td>\n",
       "      <td>$89880.00</td>\n",
       "    </tr>\n",
       "    <tr>\n",
       "      <th>4</th>\n",
       "      <td>ABAD JR,  VICENTE M</td>\n",
       "      <td>CIVIL ENGINEER IV</td>\n",
       "      <td>WATER MGMNT</td>\n",
       "      <td>$106836.00</td>\n",
       "    </tr>\n",
       "    <tr>\n",
       "      <th>...</th>\n",
       "      <td>...</td>\n",
       "      <td>...</td>\n",
       "      <td>...</td>\n",
       "      <td>...</td>\n",
       "    </tr>\n",
       "    <tr>\n",
       "      <th>32058</th>\n",
       "      <td>ZYGOWICZ,  PETER J</td>\n",
       "      <td>POLICE OFFICER</td>\n",
       "      <td>POLICE</td>\n",
       "      <td>$87384.00</td>\n",
       "    </tr>\n",
       "    <tr>\n",
       "      <th>32059</th>\n",
       "      <td>ZYMANTAS,  MARK E</td>\n",
       "      <td>POLICE OFFICER</td>\n",
       "      <td>POLICE</td>\n",
       "      <td>$84450.00</td>\n",
       "    </tr>\n",
       "    <tr>\n",
       "      <th>32060</th>\n",
       "      <td>ZYRKOWSKI,  CARLO E</td>\n",
       "      <td>POLICE OFFICER</td>\n",
       "      <td>POLICE</td>\n",
       "      <td>$87384.00</td>\n",
       "    </tr>\n",
       "    <tr>\n",
       "      <th>32061</th>\n",
       "      <td>ZYSKOWSKI,  DARIUSZ</td>\n",
       "      <td>CHIEF DATA BASE ANALYST</td>\n",
       "      <td>DoIT</td>\n",
       "      <td>$113664.00</td>\n",
       "    </tr>\n",
       "    <tr>\n",
       "      <th>32062</th>\n",
       "      <td>NaN</td>\n",
       "      <td>NaN</td>\n",
       "      <td>NaN</td>\n",
       "      <td>NaN</td>\n",
       "    </tr>\n",
       "  </tbody>\n",
       "</table>\n",
       "<p>32063 rows × 4 columns</p>\n",
       "</div>"
      ],
      "text/plain": [
       "                      Name            Position Title        Department  \\\n",
       "0          AARON,  ELVIA J          WATER RATE TAKER       WATER MGMNT   \n",
       "1        AARON,  JEFFERY M            POLICE OFFICER            POLICE   \n",
       "2           AARON,  KARINA            POLICE OFFICER            POLICE   \n",
       "3      AARON,  KIMBERLEI R  CHIEF CONTRACT EXPEDITER  GENERAL SERVICES   \n",
       "4      ABAD JR,  VICENTE M         CIVIL ENGINEER IV       WATER MGMNT   \n",
       "...                    ...                       ...               ...   \n",
       "32058   ZYGOWICZ,  PETER J            POLICE OFFICER            POLICE   \n",
       "32059    ZYMANTAS,  MARK E            POLICE OFFICER            POLICE   \n",
       "32060  ZYRKOWSKI,  CARLO E            POLICE OFFICER            POLICE   \n",
       "32061  ZYSKOWSKI,  DARIUSZ   CHIEF DATA BASE ANALYST              DoIT   \n",
       "32062                  NaN                       NaN               NaN   \n",
       "\n",
       "      Employee Annual Salary  \n",
       "0                  $90744.00  \n",
       "1                  $84450.00  \n",
       "2                  $84450.00  \n",
       "3                  $89880.00  \n",
       "4                 $106836.00  \n",
       "...                      ...  \n",
       "32058              $87384.00  \n",
       "32059              $84450.00  \n",
       "32060              $87384.00  \n",
       "32061             $113664.00  \n",
       "32062                    NaN  \n",
       "\n",
       "[32063 rows x 4 columns]"
      ]
     },
     "execution_count": 17,
     "metadata": {},
     "output_type": "execute_result"
    }
   ],
   "source": [
    "data"
   ]
  },
  {
   "cell_type": "code",
   "execution_count": 18,
   "id": "4717a4e7",
   "metadata": {},
   "outputs": [
    {
     "data": {
      "text/plain": [
       "<generator object DataFrame.items at 0x7fa7e1ee65f0>"
      ]
     },
     "execution_count": 18,
     "metadata": {},
     "output_type": "execute_result"
    }
   ],
   "source": [
    "data.items()"
   ]
  },
  {
   "cell_type": "code",
   "execution_count": 19,
   "id": "4d6c9fe1",
   "metadata": {},
   "outputs": [
    {
     "name": "stdout",
     "output_type": "stream",
     "text": [
      "('Name', 0            AARON,  ELVIA J\n",
      "1          AARON,  JEFFERY M\n",
      "2             AARON,  KARINA\n",
      "3        AARON,  KIMBERLEI R\n",
      "4        ABAD JR,  VICENTE M\n",
      "                ...         \n",
      "32058     ZYGOWICZ,  PETER J\n",
      "32059      ZYMANTAS,  MARK E\n",
      "32060    ZYRKOWSKI,  CARLO E\n",
      "32061    ZYSKOWSKI,  DARIUSZ\n",
      "32062                    NaN\n",
      "Name: Name, Length: 32063, dtype: object)\n",
      "('Position Title', 0                WATER RATE TAKER\n",
      "1                  POLICE OFFICER\n",
      "2                  POLICE OFFICER\n",
      "3        CHIEF CONTRACT EXPEDITER\n",
      "4               CIVIL ENGINEER IV\n",
      "                   ...           \n",
      "32058              POLICE OFFICER\n",
      "32059              POLICE OFFICER\n",
      "32060              POLICE OFFICER\n",
      "32061     CHIEF DATA BASE ANALYST\n",
      "32062                         NaN\n",
      "Name: Position Title, Length: 32063, dtype: object)\n",
      "('Department', 0             WATER MGMNT\n",
      "1                  POLICE\n",
      "2                  POLICE\n",
      "3        GENERAL SERVICES\n",
      "4             WATER MGMNT\n",
      "               ...       \n",
      "32058              POLICE\n",
      "32059              POLICE\n",
      "32060              POLICE\n",
      "32061                DoIT\n",
      "32062                 NaN\n",
      "Name: Department, Length: 32063, dtype: object)\n",
      "('Employee Annual Salary', 0         $90744.00\n",
      "1         $84450.00\n",
      "2         $84450.00\n",
      "3         $89880.00\n",
      "4        $106836.00\n",
      "            ...    \n",
      "32058     $87384.00\n",
      "32059     $84450.00\n",
      "32060     $87384.00\n",
      "32061    $113664.00\n",
      "32062           NaN\n",
      "Name: Employee Annual Salary, Length: 32063, dtype: object)\n"
     ]
    }
   ],
   "source": [
    "for i in data.items():\n",
    "    print(i)"
   ]
  },
  {
   "cell_type": "code",
   "execution_count": 20,
   "id": "8e21fffc",
   "metadata": {},
   "outputs": [],
   "source": [
    "# All columns are created as a tuple"
   ]
  },
  {
   "cell_type": "code",
   "execution_count": 22,
   "id": "2c702c30",
   "metadata": {},
   "outputs": [
    {
     "name": "stdout",
     "output_type": "stream",
     "text": [
      "Name\n",
      "0            AARON,  ELVIA J\n",
      "1          AARON,  JEFFERY M\n",
      "2             AARON,  KARINA\n",
      "3        AARON,  KIMBERLEI R\n",
      "4        ABAD JR,  VICENTE M\n",
      "                ...         \n",
      "32058     ZYGOWICZ,  PETER J\n",
      "32059      ZYMANTAS,  MARK E\n",
      "32060    ZYRKOWSKI,  CARLO E\n",
      "32061    ZYSKOWSKI,  DARIUSZ\n",
      "32062                    NaN\n",
      "Name: Name, Length: 32063, dtype: object\n",
      "Position Title\n",
      "0                WATER RATE TAKER\n",
      "1                  POLICE OFFICER\n",
      "2                  POLICE OFFICER\n",
      "3        CHIEF CONTRACT EXPEDITER\n",
      "4               CIVIL ENGINEER IV\n",
      "                   ...           \n",
      "32058              POLICE OFFICER\n",
      "32059              POLICE OFFICER\n",
      "32060              POLICE OFFICER\n",
      "32061     CHIEF DATA BASE ANALYST\n",
      "32062                         NaN\n",
      "Name: Position Title, Length: 32063, dtype: object\n",
      "Department\n",
      "0             WATER MGMNT\n",
      "1                  POLICE\n",
      "2                  POLICE\n",
      "3        GENERAL SERVICES\n",
      "4             WATER MGMNT\n",
      "               ...       \n",
      "32058              POLICE\n",
      "32059              POLICE\n",
      "32060              POLICE\n",
      "32061                DoIT\n",
      "32062                 NaN\n",
      "Name: Department, Length: 32063, dtype: object\n",
      "Employee Annual Salary\n",
      "0         $90744.00\n",
      "1         $84450.00\n",
      "2         $84450.00\n",
      "3         $89880.00\n",
      "4        $106836.00\n",
      "            ...    \n",
      "32058     $87384.00\n",
      "32059     $84450.00\n",
      "32060     $87384.00\n",
      "32061    $113664.00\n",
      "32062           NaN\n",
      "Name: Employee Annual Salary, Length: 32063, dtype: object\n"
     ]
    }
   ],
   "source": [
    "for i,j in data.items():\n",
    "    print(i)\n",
    "    print(j,sep = \"\\n\")"
   ]
  },
  {
   "cell_type": "code",
   "execution_count": 23,
   "id": "d8c9f0e8",
   "metadata": {},
   "outputs": [
    {
     "data": {
      "text/plain": [
       "Index(['Name', 'Position Title', 'Department', 'Employee Annual Salary'], dtype='object')"
      ]
     },
     "execution_count": 23,
     "metadata": {},
     "output_type": "execute_result"
    }
   ],
   "source": [
    "data.keys()"
   ]
  },
  {
   "cell_type": "code",
   "execution_count": 24,
   "id": "426674de",
   "metadata": {},
   "outputs": [
    {
     "name": "stdout",
     "output_type": "stream",
     "text": [
      "Name\n",
      "Position Title\n",
      "Department\n",
      "Employee Annual Salary\n"
     ]
    }
   ],
   "source": [
    "for i in data.keys():\n",
    "    print(i)"
   ]
  },
  {
   "cell_type": "code",
   "execution_count": 25,
   "id": "218199f8",
   "metadata": {},
   "outputs": [],
   "source": [
    "# It gives names of the columns"
   ]
  },
  {
   "cell_type": "code",
   "execution_count": null,
   "id": "8d2740bd",
   "metadata": {},
   "outputs": [],
   "source": []
  },
  {
   "cell_type": "code",
   "execution_count": null,
   "id": "402846a8",
   "metadata": {},
   "outputs": [],
   "source": []
  },
  {
   "cell_type": "code",
   "execution_count": null,
   "id": "7d897e9f",
   "metadata": {},
   "outputs": [],
   "source": []
  }
 ],
 "metadata": {
  "kernelspec": {
   "display_name": "Python 3 (ipykernel)",
   "language": "python",
   "name": "python3"
  },
  "language_info": {
   "codemirror_mode": {
    "name": "ipython",
    "version": 3
   },
   "file_extension": ".py",
   "mimetype": "text/x-python",
   "name": "python",
   "nbconvert_exporter": "python",
   "pygments_lexer": "ipython3",
   "version": "3.9.7"
  }
 },
 "nbformat": 4,
 "nbformat_minor": 5
}
