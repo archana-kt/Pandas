{
 "cells": [
  {
   "cell_type": "markdown",
   "id": "91363507-3e79-4178-a06d-68613e3f013a",
   "metadata": {},
   "source": [
    "# Pandas DataFrame astype"
   ]
  },
  {
   "cell_type": "code",
   "execution_count": 1,
   "id": "a5f4d6fa-1ceb-4cb1-8449-b0c8330a9af5",
   "metadata": {},
   "outputs": [],
   "source": [
    "import pandas as pd"
   ]
  },
  {
   "cell_type": "code",
   "execution_count": 2,
   "id": "3476078c-a3a1-4819-b2d4-1eb6e4f17e6d",
   "metadata": {},
   "outputs": [],
   "source": [
    "sales_data = pd.DataFrame({ \"name\": [\"John\", \"Alice\", \"Bob\", \"Eva\", \"Mike\", \"Laura\", \"David\", \"Sophie\", \"Daniel\", \"Linda\", \"Matthew\"],\n",
    "    \"region\": [\"North\", \"South\", \"East\", \"West\", \"Central\", \"North\", \"South\", \"East\", \"West\", \"Central\", \"North\"],\n",
    "    \"sales\": [50000, 60000, 75000, 48000, 90000, 55000, 62000, 71000, 49000, 88000, 53000],\n",
    "    \"expenses\": [30000, 25000, 35000, 28000, 40000, 28000, 32000, 39000, 27000, 42000, 31000]\n",
    "}, dtype = \"object\" )"
   ]
  },
  {
   "cell_type": "code",
   "execution_count": 3,
   "id": "a44fad4b-79ad-4ee1-9140-bc728fc62e7f",
   "metadata": {},
   "outputs": [
    {
     "data": {
      "text/html": [
       "<div>\n",
       "<style scoped>\n",
       "    .dataframe tbody tr th:only-of-type {\n",
       "        vertical-align: middle;\n",
       "    }\n",
       "\n",
       "    .dataframe tbody tr th {\n",
       "        vertical-align: top;\n",
       "    }\n",
       "\n",
       "    .dataframe thead th {\n",
       "        text-align: right;\n",
       "    }\n",
       "</style>\n",
       "<table border=\"1\" class=\"dataframe\">\n",
       "  <thead>\n",
       "    <tr style=\"text-align: right;\">\n",
       "      <th></th>\n",
       "      <th>name</th>\n",
       "      <th>region</th>\n",
       "      <th>sales</th>\n",
       "      <th>expenses</th>\n",
       "    </tr>\n",
       "  </thead>\n",
       "  <tbody>\n",
       "    <tr>\n",
       "      <th>0</th>\n",
       "      <td>John</td>\n",
       "      <td>North</td>\n",
       "      <td>50000</td>\n",
       "      <td>30000</td>\n",
       "    </tr>\n",
       "    <tr>\n",
       "      <th>1</th>\n",
       "      <td>Alice</td>\n",
       "      <td>South</td>\n",
       "      <td>60000</td>\n",
       "      <td>25000</td>\n",
       "    </tr>\n",
       "    <tr>\n",
       "      <th>2</th>\n",
       "      <td>Bob</td>\n",
       "      <td>East</td>\n",
       "      <td>75000</td>\n",
       "      <td>35000</td>\n",
       "    </tr>\n",
       "    <tr>\n",
       "      <th>3</th>\n",
       "      <td>Eva</td>\n",
       "      <td>West</td>\n",
       "      <td>48000</td>\n",
       "      <td>28000</td>\n",
       "    </tr>\n",
       "    <tr>\n",
       "      <th>4</th>\n",
       "      <td>Mike</td>\n",
       "      <td>Central</td>\n",
       "      <td>90000</td>\n",
       "      <td>40000</td>\n",
       "    </tr>\n",
       "    <tr>\n",
       "      <th>5</th>\n",
       "      <td>Laura</td>\n",
       "      <td>North</td>\n",
       "      <td>55000</td>\n",
       "      <td>28000</td>\n",
       "    </tr>\n",
       "    <tr>\n",
       "      <th>6</th>\n",
       "      <td>David</td>\n",
       "      <td>South</td>\n",
       "      <td>62000</td>\n",
       "      <td>32000</td>\n",
       "    </tr>\n",
       "    <tr>\n",
       "      <th>7</th>\n",
       "      <td>Sophie</td>\n",
       "      <td>East</td>\n",
       "      <td>71000</td>\n",
       "      <td>39000</td>\n",
       "    </tr>\n",
       "    <tr>\n",
       "      <th>8</th>\n",
       "      <td>Daniel</td>\n",
       "      <td>West</td>\n",
       "      <td>49000</td>\n",
       "      <td>27000</td>\n",
       "    </tr>\n",
       "    <tr>\n",
       "      <th>9</th>\n",
       "      <td>Linda</td>\n",
       "      <td>Central</td>\n",
       "      <td>88000</td>\n",
       "      <td>42000</td>\n",
       "    </tr>\n",
       "    <tr>\n",
       "      <th>10</th>\n",
       "      <td>Matthew</td>\n",
       "      <td>North</td>\n",
       "      <td>53000</td>\n",
       "      <td>31000</td>\n",
       "    </tr>\n",
       "  </tbody>\n",
       "</table>\n",
       "</div>"
      ],
      "text/plain": [
       "       name   region  sales expenses\n",
       "0      John    North  50000    30000\n",
       "1     Alice    South  60000    25000\n",
       "2       Bob     East  75000    35000\n",
       "3       Eva     West  48000    28000\n",
       "4      Mike  Central  90000    40000\n",
       "5     Laura    North  55000    28000\n",
       "6     David    South  62000    32000\n",
       "7    Sophie     East  71000    39000\n",
       "8    Daniel     West  49000    27000\n",
       "9     Linda  Central  88000    42000\n",
       "10  Matthew    North  53000    31000"
      ]
     },
     "execution_count": 3,
     "metadata": {},
     "output_type": "execute_result"
    }
   ],
   "source": [
    "sales_data"
   ]
  },
  {
   "cell_type": "code",
   "execution_count": 4,
   "id": "714af832-756b-4e71-a94c-6639bccd3412",
   "metadata": {},
   "outputs": [
    {
     "data": {
      "text/plain": [
       "name        object\n",
       "region      object\n",
       "sales       object\n",
       "expenses    object\n",
       "dtype: object"
      ]
     },
     "execution_count": 4,
     "metadata": {},
     "output_type": "execute_result"
    }
   ],
   "source": [
    "sales_data.dtypes"
   ]
  },
  {
   "cell_type": "code",
   "execution_count": 5,
   "id": "4d368979-7b0f-4d87-a0f7-0bf4af6da9b7",
   "metadata": {},
   "outputs": [],
   "source": [
    "sales_data['sales'] = sales_data['sales'].astype(int) # astype is a method and it has integer as a parameter"
   ]
  },
  {
   "cell_type": "code",
   "execution_count": 6,
   "id": "c4c17fe5-0ce2-47df-9f1a-7f7310636509",
   "metadata": {},
   "outputs": [
    {
     "data": {
      "text/plain": [
       "name        object\n",
       "region      object\n",
       "sales        int32\n",
       "expenses    object\n",
       "dtype: object"
      ]
     },
     "execution_count": 6,
     "metadata": {},
     "output_type": "execute_result"
    }
   ],
   "source": [
    "sales_data.dtypes"
   ]
  },
  {
   "cell_type": "code",
   "execution_count": 7,
   "id": "1bc6d399-ce3e-48ed-9118-8498f2b96b25",
   "metadata": {},
   "outputs": [],
   "source": [
    "# see now, it is the datatype changed to integer"
   ]
  },
  {
   "cell_type": "code",
   "execution_count": 8,
   "id": "725d5521-c7fb-4693-a7a5-fda3c82e9480",
   "metadata": {},
   "outputs": [],
   "source": [
    "# if we want to change the datatype of multiple columns, we can directly apply the astype method to the dataframe itself not the series"
   ]
  },
  {
   "cell_type": "code",
   "execution_count": 9,
   "id": "c86f66ca-8baa-4629-9f11-4fb47e5ab130",
   "metadata": {},
   "outputs": [
    {
     "data": {
      "text/plain": [
       "pandas.core.series.Series"
      ]
     },
     "execution_count": 9,
     "metadata": {},
     "output_type": "execute_result"
    }
   ],
   "source": [
    "type(sales_data['sales'])"
   ]
  },
  {
   "cell_type": "code",
   "execution_count": 10,
   "id": "ddabb2d0-5d47-424e-832a-a7b8bda99211",
   "metadata": {},
   "outputs": [
    {
     "data": {
      "text/plain": [
       "name        object\n",
       "region      object\n",
       "sales        int32\n",
       "expenses    object\n",
       "dtype: object"
      ]
     },
     "execution_count": 10,
     "metadata": {},
     "output_type": "execute_result"
    }
   ],
   "source": [
    "sales_data.dtypes"
   ]
  },
  {
   "cell_type": "code",
   "execution_count": 11,
   "id": "6317b6bf-781a-4b61-b16d-e6c9272126d8",
   "metadata": {},
   "outputs": [],
   "source": [
    "# To change the entire column dtypes"
   ]
  },
  {
   "cell_type": "code",
   "execution_count": 12,
   "id": "a27750ad-f805-4a56-b99d-c3580ad45923",
   "metadata": {},
   "outputs": [],
   "source": [
    "sales_data = sales_data.astype({\"expenses\":int}) # we can give multiple columns here"
   ]
  },
  {
   "cell_type": "code",
   "execution_count": 13,
   "id": "e92c9138-32d0-4069-9fd2-6dad6d942007",
   "metadata": {},
   "outputs": [
    {
     "data": {
      "text/html": [
       "<div>\n",
       "<style scoped>\n",
       "    .dataframe tbody tr th:only-of-type {\n",
       "        vertical-align: middle;\n",
       "    }\n",
       "\n",
       "    .dataframe tbody tr th {\n",
       "        vertical-align: top;\n",
       "    }\n",
       "\n",
       "    .dataframe thead th {\n",
       "        text-align: right;\n",
       "    }\n",
       "</style>\n",
       "<table border=\"1\" class=\"dataframe\">\n",
       "  <thead>\n",
       "    <tr style=\"text-align: right;\">\n",
       "      <th></th>\n",
       "      <th>name</th>\n",
       "      <th>region</th>\n",
       "      <th>sales</th>\n",
       "      <th>expenses</th>\n",
       "    </tr>\n",
       "  </thead>\n",
       "  <tbody>\n",
       "    <tr>\n",
       "      <th>0</th>\n",
       "      <td>John</td>\n",
       "      <td>North</td>\n",
       "      <td>50000</td>\n",
       "      <td>30000</td>\n",
       "    </tr>\n",
       "    <tr>\n",
       "      <th>1</th>\n",
       "      <td>Alice</td>\n",
       "      <td>South</td>\n",
       "      <td>60000</td>\n",
       "      <td>25000</td>\n",
       "    </tr>\n",
       "    <tr>\n",
       "      <th>2</th>\n",
       "      <td>Bob</td>\n",
       "      <td>East</td>\n",
       "      <td>75000</td>\n",
       "      <td>35000</td>\n",
       "    </tr>\n",
       "    <tr>\n",
       "      <th>3</th>\n",
       "      <td>Eva</td>\n",
       "      <td>West</td>\n",
       "      <td>48000</td>\n",
       "      <td>28000</td>\n",
       "    </tr>\n",
       "    <tr>\n",
       "      <th>4</th>\n",
       "      <td>Mike</td>\n",
       "      <td>Central</td>\n",
       "      <td>90000</td>\n",
       "      <td>40000</td>\n",
       "    </tr>\n",
       "    <tr>\n",
       "      <th>5</th>\n",
       "      <td>Laura</td>\n",
       "      <td>North</td>\n",
       "      <td>55000</td>\n",
       "      <td>28000</td>\n",
       "    </tr>\n",
       "    <tr>\n",
       "      <th>6</th>\n",
       "      <td>David</td>\n",
       "      <td>South</td>\n",
       "      <td>62000</td>\n",
       "      <td>32000</td>\n",
       "    </tr>\n",
       "    <tr>\n",
       "      <th>7</th>\n",
       "      <td>Sophie</td>\n",
       "      <td>East</td>\n",
       "      <td>71000</td>\n",
       "      <td>39000</td>\n",
       "    </tr>\n",
       "    <tr>\n",
       "      <th>8</th>\n",
       "      <td>Daniel</td>\n",
       "      <td>West</td>\n",
       "      <td>49000</td>\n",
       "      <td>27000</td>\n",
       "    </tr>\n",
       "    <tr>\n",
       "      <th>9</th>\n",
       "      <td>Linda</td>\n",
       "      <td>Central</td>\n",
       "      <td>88000</td>\n",
       "      <td>42000</td>\n",
       "    </tr>\n",
       "    <tr>\n",
       "      <th>10</th>\n",
       "      <td>Matthew</td>\n",
       "      <td>North</td>\n",
       "      <td>53000</td>\n",
       "      <td>31000</td>\n",
       "    </tr>\n",
       "  </tbody>\n",
       "</table>\n",
       "</div>"
      ],
      "text/plain": [
       "       name   region  sales  expenses\n",
       "0      John    North  50000     30000\n",
       "1     Alice    South  60000     25000\n",
       "2       Bob     East  75000     35000\n",
       "3       Eva     West  48000     28000\n",
       "4      Mike  Central  90000     40000\n",
       "5     Laura    North  55000     28000\n",
       "6     David    South  62000     32000\n",
       "7    Sophie     East  71000     39000\n",
       "8    Daniel     West  49000     27000\n",
       "9     Linda  Central  88000     42000\n",
       "10  Matthew    North  53000     31000"
      ]
     },
     "execution_count": 13,
     "metadata": {},
     "output_type": "execute_result"
    }
   ],
   "source": [
    "sales_data"
   ]
  },
  {
   "cell_type": "code",
   "execution_count": 14,
   "id": "b5a01bc6-9484-41eb-9e2d-0171102757eb",
   "metadata": {},
   "outputs": [
    {
     "data": {
      "text/plain": [
       "name        object\n",
       "region      object\n",
       "sales        int32\n",
       "expenses     int32\n",
       "dtype: object"
      ]
     },
     "execution_count": 14,
     "metadata": {},
     "output_type": "execute_result"
    }
   ],
   "source": [
    "sales_data.dtypes"
   ]
  },
  {
   "cell_type": "code",
   "execution_count": 15,
   "id": "8ed5a4af-89fd-4ed9-aaa5-3bc03f54b25c",
   "metadata": {},
   "outputs": [
    {
     "data": {
      "text/plain": [
       "0       North\n",
       "1       South\n",
       "2        East\n",
       "3        West\n",
       "4     Central\n",
       "5       North\n",
       "6       South\n",
       "7        East\n",
       "8        West\n",
       "9     Central\n",
       "10      North\n",
       "Name: region, dtype: object"
      ]
     },
     "execution_count": 15,
     "metadata": {},
     "output_type": "execute_result"
    }
   ],
   "source": [
    "sales_data.region"
   ]
  }
 ],
 "metadata": {
  "kernelspec": {
   "display_name": "Python 3 (ipykernel)",
   "language": "python",
   "name": "python3"
  },
  "language_info": {
   "codemirror_mode": {
    "name": "ipython",
    "version": 3
   },
   "file_extension": ".py",
   "mimetype": "text/x-python",
   "name": "python",
   "nbconvert_exporter": "python",
   "pygments_lexer": "ipython3",
   "version": "3.11.4"
  }
 },
 "nbformat": 4,
 "nbformat_minor": 5
}
