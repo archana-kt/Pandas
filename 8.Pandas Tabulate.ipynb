{
 "cells": [
  {
   "cell_type": "markdown",
   "id": "359f6877",
   "metadata": {},
   "source": [
    "# Pandas Tabulate"
   ]
  },
  {
   "cell_type": "code",
   "execution_count": 2,
   "id": "7c02cacb",
   "metadata": {},
   "outputs": [],
   "source": [
    "import pandas as pd"
   ]
  },
  {
   "cell_type": "code",
   "execution_count": 3,
   "id": "2b4e8eb6",
   "metadata": {},
   "outputs": [],
   "source": [
    "data = pd.DataFrame({\"Name\":[\"Archana\",\"Mani\",\"Thiru\",\"Kalpana\"], \"Age\":[21,22,23,24], \"City\":[\"Salem\",\"Coimbatore\",\"Madurai\",\"Trichy\"]})"
   ]
  },
  {
   "cell_type": "code",
   "execution_count": 4,
   "id": "8a035c5d",
   "metadata": {},
   "outputs": [
    {
     "data": {
      "text/html": [
       "<div>\n",
       "<style scoped>\n",
       "    .dataframe tbody tr th:only-of-type {\n",
       "        vertical-align: middle;\n",
       "    }\n",
       "\n",
       "    .dataframe tbody tr th {\n",
       "        vertical-align: top;\n",
       "    }\n",
       "\n",
       "    .dataframe thead th {\n",
       "        text-align: right;\n",
       "    }\n",
       "</style>\n",
       "<table border=\"1\" class=\"dataframe\">\n",
       "  <thead>\n",
       "    <tr style=\"text-align: right;\">\n",
       "      <th></th>\n",
       "      <th>Name</th>\n",
       "      <th>Age</th>\n",
       "      <th>City</th>\n",
       "    </tr>\n",
       "  </thead>\n",
       "  <tbody>\n",
       "    <tr>\n",
       "      <th>0</th>\n",
       "      <td>Archana</td>\n",
       "      <td>21</td>\n",
       "      <td>Salem</td>\n",
       "    </tr>\n",
       "    <tr>\n",
       "      <th>1</th>\n",
       "      <td>Mani</td>\n",
       "      <td>22</td>\n",
       "      <td>Coimbatore</td>\n",
       "    </tr>\n",
       "    <tr>\n",
       "      <th>2</th>\n",
       "      <td>Thiru</td>\n",
       "      <td>23</td>\n",
       "      <td>Madurai</td>\n",
       "    </tr>\n",
       "    <tr>\n",
       "      <th>3</th>\n",
       "      <td>Kalpana</td>\n",
       "      <td>24</td>\n",
       "      <td>Trichy</td>\n",
       "    </tr>\n",
       "  </tbody>\n",
       "</table>\n",
       "</div>"
      ],
      "text/plain": [
       "      Name  Age        City\n",
       "0  Archana   21       Salem\n",
       "1     Mani   22  Coimbatore\n",
       "2    Thiru   23     Madurai\n",
       "3  Kalpana   24      Trichy"
      ]
     },
     "execution_count": 4,
     "metadata": {},
     "output_type": "execute_result"
    }
   ],
   "source": [
    "data"
   ]
  },
  {
   "cell_type": "code",
   "execution_count": 5,
   "id": "eedc03fc",
   "metadata": {},
   "outputs": [],
   "source": [
    "# See there is no bound in this dataframe. To get bound in dataframe, we need to install tabulate from python"
   ]
  },
  {
   "cell_type": "code",
   "execution_count": 5,
   "id": "37d437b7",
   "metadata": {},
   "outputs": [],
   "source": [
    "# pypi.org/project/tabulate"
   ]
  },
  {
   "cell_type": "code",
   "execution_count": 6,
   "id": "d3fbb579",
   "metadata": {},
   "outputs": [
    {
     "name": "stdout",
     "output_type": "stream",
     "text": [
      "Requirement already satisfied: tabulate in c:\\users\\91701\\anaconda3\\lib\\site-packages (0.8.10)\n",
      "Note: you may need to restart the kernel to use updated packages.\n"
     ]
    }
   ],
   "source": [
    "pip install tabulate"
   ]
  },
  {
   "cell_type": "code",
   "execution_count": 7,
   "id": "5b06e0bd",
   "metadata": {},
   "outputs": [],
   "source": [
    "from tabulate import tabulate"
   ]
  },
  {
   "cell_type": "code",
   "execution_count": 8,
   "id": "fc5d7ba3",
   "metadata": {},
   "outputs": [
    {
     "name": "stdout",
     "output_type": "stream",
     "text": [
      "    Name       Age  City\n",
      "--  -------  -----  ----------\n",
      " 0  Archana     21  Salem\n",
      " 1  Mani        22  Coimbatore\n",
      " 2  Thiru       23  Madurai\n",
      " 3  Kalpana     24  Trichy\n"
     ]
    }
   ],
   "source": [
    "print(tabulate(data, headers = \"keys\"))"
   ]
  },
  {
   "cell_type": "code",
   "execution_count": 9,
   "id": "ff44d410",
   "metadata": {},
   "outputs": [],
   "source": [
    "# now we can have a table structure"
   ]
  },
  {
   "cell_type": "code",
   "execution_count": 10,
   "id": "a46341ed",
   "metadata": {},
   "outputs": [
    {
     "name": "stdout",
     "output_type": "stream",
     "text": [
      "    Name       Age  City\n",
      "--  -------  -----  ----------\n",
      " 0  Archana     21  Salem\n",
      " 1  Mani        22  Coimbatore\n",
      " 2  Thiru       23  Madurai\n",
      " 3  Kalpana     24  Trichy\n"
     ]
    }
   ],
   "source": [
    "print(tabulate(data, headers = \"keys\", tablefmt = \"simple\"))"
   ]
  },
  {
   "cell_type": "code",
   "execution_count": 11,
   "id": "d44d9b29",
   "metadata": {},
   "outputs": [
    {
     "name": "stdout",
     "output_type": "stream",
     "text": [
      "+----+---------+-------+------------+\n",
      "|    | Name    |   Age | City       |\n",
      "+====+=========+=======+============+\n",
      "|  0 | Archana |    21 | Salem      |\n",
      "+----+---------+-------+------------+\n",
      "|  1 | Mani    |    22 | Coimbatore |\n",
      "+----+---------+-------+------------+\n",
      "|  2 | Thiru   |    23 | Madurai    |\n",
      "+----+---------+-------+------------+\n",
      "|  3 | Kalpana |    24 | Trichy     |\n",
      "+----+---------+-------+------------+\n"
     ]
    }
   ],
   "source": [
    "print(tabulate(data, headers = \"keys\", tablefmt = \"grid\"))"
   ]
  },
  {
   "cell_type": "code",
   "execution_count": 13,
   "id": "8f67f1ae",
   "metadata": {},
   "outputs": [],
   "source": [
    "# When we want pretty dataframe, we can use this tabulate"
   ]
  },
  {
   "cell_type": "code",
   "execution_count": 14,
   "id": "1b6e8a60-3eeb-4c89-a234-06866110936a",
   "metadata": {},
   "outputs": [
    {
     "name": "stdout",
     "output_type": "stream",
     "text": [
      "    Name       Age  City\n",
      "--  -------  -----  ----------\n",
      " 0  Archana     21  Salem\n",
      " 1  Mani        22  Coimbatore\n",
      " 2  Thiru       23  Madurai\n",
      " 3  Kalpana     24  Trichy\n"
     ]
    }
   ],
   "source": [
    "print(tabulate(data, headers = \"keys\", tablefmt = \"simple_grid\"))"
   ]
  },
  {
   "cell_type": "code",
   "execution_count": 15,
   "id": "ac6de6b1",
   "metadata": {},
   "outputs": [
    {
     "name": "stdout",
     "output_type": "stream",
     "text": [
      "    Name       Age  City\n",
      "--  -------  -----  ----------\n",
      " 0  Archana     21  Salem\n",
      " 1  Mani        22  Coimbatore\n",
      " 2  Thiru       23  Madurai\n",
      " 3  Kalpana     24  Trichy\n"
     ]
    }
   ],
   "source": [
    "print(tabulate(data, headers=\"keys\", tablefmt=\"rounded_grid\"))"
   ]
  },
  {
   "attachments": {
    "a902f797-75da-4ef7-89a4-5e2dc2b9fd47.png": {
     "image/png": "[encoded data removed]"
    }
   },
   "cell_type": "markdown",
   "id": "5c6175fa-65d2-488a-9e76-d63340df2fc4",
   "metadata": {},
   "source": [
    "![image.png](attachment:a902f797-75da-4ef7-89a4-5e2dc2b9fd47.png)"
   ]
  },
  {
   "cell_type": "code",
   "execution_count": 16,
   "id": "992ebd36",
   "metadata": {},
   "outputs": [
    {
     "name": "stdout",
     "output_type": "stream",
     "text": [
      "    Name       Age  City\n",
      "--  -------  -----  ----------\n",
      " 0  Archana     21  Salem\n",
      " 1  Mani        22  Coimbatore\n",
      " 2  Thiru       23  Madurai\n",
      " 3  Kalpana     24  Trichy\n"
     ]
    }
   ],
   "source": [
    "print(tabulate(data, headers = \"keys\", tablefmt = \"heavy_grid\"))"
   ]
  },
  {
   "attachments": {
    "6931ae95-2b37-4f10-802c-ff4254d3f857.png": {
     "image/png": "[encoded data removed]"
    }
   },
   "cell_type": "markdown",
   "id": "6ae6e62c-f78d-431c-8186-48088200c49a",
   "metadata": {},
   "source": [
    "![image.png](attachment:6931ae95-2b37-4f10-802c-ff4254d3f857.png)"
   ]
  },
  {
   "cell_type": "code",
   "execution_count": 17,
   "id": "f2047556",
   "metadata": {},
   "outputs": [
    {
     "name": "stdout",
     "output_type": "stream",
     "text": [
      "<table>\n",
      "<thead>\n",
      "<tr><th style=\"text-align: right;\">  </th><th>Name   </th><th style=\"text-align: right;\">  Age</th><th>City      </th></tr>\n",
      "</thead>\n",
      "<tbody>\n",
      "<tr><td style=\"text-align: right;\"> 0</td><td>Archana</td><td style=\"text-align: right;\">   21</td><td>Salem     </td></tr>\n",
      "<tr><td style=\"text-align: right;\"> 1</td><td>Mani   </td><td style=\"text-align: right;\">   22</td><td>Coimbatore</td></tr>\n",
      "<tr><td style=\"text-align: right;\"> 2</td><td>Thiru  </td><td style=\"text-align: right;\">   23</td><td>Madurai   </td></tr>\n",
      "<tr><td style=\"text-align: right;\"> 3</td><td>Kalpana</td><td style=\"text-align: right;\">   24</td><td>Trichy    </td></tr>\n",
      "</tbody>\n",
      "</table>\n"
     ]
    }
   ],
   "source": [
    "print(tabulate(data, headers = \"keys\", tablefmt = \"html\"))"
   ]
  },
  {
   "cell_type": "code",
   "execution_count": 18,
   "id": "08827592",
   "metadata": {},
   "outputs": [
    {
     "name": "stdout",
     "output_type": "stream",
     "text": [
      "\\begin{tabular}{rlrl}\n",
      "\\hline\n",
      "    & Name    &   Age & City       \\\\\n",
      "\\hline\n",
      "  0 & Archana &    21 & Salem      \\\\\n",
      "  1 & Mani    &    22 & Coimbatore \\\\\n",
      "  2 & Thiru   &    23 & Madurai    \\\\\n",
      "  3 & Kalpana &    24 & Trichy     \\\\\n",
      "\\hline\n",
      "\\end{tabular}\n"
     ]
    }
   ],
   "source": [
    "print(tabulate(data, headers = \"keys\", tablefmt = \"latex\"))"
   ]
  },
  {
   "cell_type": "raw",
   "id": "1cde17f3",
   "metadata": {},
   "source": [
    "Like-wise, we are having many tablefmt\n",
    "\n",
    " -> mixed_grid\n",
    " -> double_grid\n",
    " -> fancy_grid\n",
    " -> outline\n",
    " -> heavy_outline\n",
    " -> mixed_outline\n",
    " -> double_outline\n",
    " -> fancy_outline"
   ]
  },
  {
   "cell_type": "code",
   "execution_count": 19,
   "id": "1efafedb-4f21-4a63-9abb-a05baa8bb47a",
   "metadata": {},
   "outputs": [
    {
     "name": "stdout",
     "output_type": "stream",
     "text": [
      "    Name       Age  City\n",
      "--  -------  -----  ----------\n",
      " 0  Archana     21  Salem\n",
      " 1  Mani        22  Coimbatore\n",
      " 2  Thiru       23  Madurai\n",
      " 3  Kalpana     24  Trichy\n"
     ]
    }
   ],
   "source": [
    "print(tabulate(data, headers = \"keys\", tablefmt = \"mixed_grid\"))"
   ]
  },
  {
   "attachments": {
    "764f6d24-d01f-4453-ae11-0189ac3e9244.png": {
     "image/png": "[encoded data removed]"
    }
   },
   "cell_type": "markdown",
   "id": "3d125ad3-79f5-42e9-9325-5f82f604a9ff",
   "metadata": {},
   "source": [
    "![image.png](attachment:764f6d24-d01f-4453-ae11-0189ac3e9244.png)"
   ]
  },
  {
   "cell_type": "code",
   "execution_count": 20,
   "id": "c2c984f7-637f-4484-a904-c3decb988d14",
   "metadata": {},
   "outputs": [
    {
     "name": "stdout",
     "output_type": "stream",
     "text": [
      "    Name       Age  City\n",
      "--  -------  -----  ----------\n",
      " 0  Archana     21  Salem\n",
      " 1  Mani        22  Coimbatore\n",
      " 2  Thiru       23  Madurai\n",
      " 3  Kalpana     24  Trichy\n"
     ]
    }
   ],
   "source": [
    "print(tabulate(data, headers = \"keys\", tablefmt = \"double_grid\"))"
   ]
  },
  {
   "attachments": {
    "b44cb4e1-a537-4405-a586-dfe93f92ed79.png": {
     "image/png": "[encoded data removed]"
    }
   },
   "cell_type": "markdown",
   "id": "34530b4a-af9e-4cd3-954e-b108f81f1340",
   "metadata": {},
   "source": [
    "![image.png](attachment:b44cb4e1-a537-4405-a586-dfe93f92ed79.png)"
   ]
  },
  {
   "cell_type": "code",
   "execution_count": 21,
   "id": "e0c69bb7-0ac6-4d48-9735-4b6d25b0a7c3",
   "metadata": {},
   "outputs": [
    {
     "name": "stdout",
     "output_type": "stream",
     "text": [
      "╒════╤═════════╤═══════╤════════════╕\n",
      "│    │ Name    │   Age │ City       │\n",
      "╞════╪═════════╪═══════╪════════════╡\n",
      "│  0 │ Archana │    21 │ Salem      │\n",
      "├────┼─────────┼───────┼────────────┤\n",
      "│  1 │ Mani    │    22 │ Coimbatore │\n",
      "├────┼─────────┼───────┼────────────┤\n",
      "│  2 │ Thiru   │    23 │ Madurai    │\n",
      "├────┼─────────┼───────┼────────────┤\n",
      "│  3 │ Kalpana │    24 │ Trichy     │\n",
      "╘════╧═════════╧═══════╧════════════╛\n"
     ]
    }
   ],
   "source": [
    "print(tabulate(data, headers = \"keys\", tablefmt = \"fancy_grid\"))"
   ]
  },
  {
   "cell_type": "code",
   "execution_count": 22,
   "id": "c6d834b4-4d8d-40e7-a3a9-7287e4712d01",
   "metadata": {},
   "outputs": [
    {
     "name": "stdout",
     "output_type": "stream",
     "text": [
      "    Name       Age  City\n",
      "--  -------  -----  ----------\n",
      " 0  Archana     21  Salem\n",
      " 1  Mani        22  Coimbatore\n",
      " 2  Thiru       23  Madurai\n",
      " 3  Kalpana     24  Trichy\n"
     ]
    }
   ],
   "source": [
    "print(tabulate(data, headers = \"keys\", tablefmt = \"ouline\"))"
   ]
  },
  {
   "cell_type": "code",
   "execution_count": 23,
   "id": "65611358-1d83-4277-832a-be1ce85c8770",
   "metadata": {},
   "outputs": [
    {
     "name": "stdout",
     "output_type": "stream",
     "text": [
      "    Name       Age  City\n",
      "--  -------  -----  ----------\n",
      " 0  Archana     21  Salem\n",
      " 1  Mani        22  Coimbatore\n",
      " 2  Thiru       23  Madurai\n",
      " 3  Kalpana     24  Trichy\n"
     ]
    }
   ],
   "source": [
    "print(tabulate(data, headers = \"keys\", tablefmt = \"heavy_outline\"))"
   ]
  },
  {
   "attachments": {
    "e0562db0-ad4c-44e6-88f4-97aba890411d.png": {
     "image/png": "[encoded data removed]"
    }
   },
   "cell_type": "markdown",
   "id": "99e5a4ba-e758-4380-9e44-547067c37887",
   "metadata": {},
   "source": [
    "![image.png](attachment:e0562db0-ad4c-44e6-88f4-97aba890411d.png)"
   ]
  },
  {
   "cell_type": "code",
   "execution_count": 24,
   "id": "ededa9fc-e300-4de4-866c-3f793368adfb",
   "metadata": {},
   "outputs": [
    {
     "name": "stdout",
     "output_type": "stream",
     "text": [
      "    Name       Age  City\n",
      "--  -------  -----  ----------\n",
      " 0  Archana     21  Salem\n",
      " 1  Mani        22  Coimbatore\n",
      " 2  Thiru       23  Madurai\n",
      " 3  Kalpana     24  Trichy\n"
     ]
    }
   ],
   "source": [
    "print(tabulate(data, headers = \"keys\", tablefmt = \"mixed_outline\"))"
   ]
  },
  {
   "attachments": {
    "48342956-0804-49c7-9be3-fff6221da6e6.png": {
     "image/png": "[encoded data removed]"
    }
   },
   "cell_type": "markdown",
   "id": "49defa2d-6ec2-4869-8f33-dcd4033bc145",
   "metadata": {},
   "source": [
    "![image.png](attachment:48342956-0804-49c7-9be3-fff6221da6e6.png)"
   ]
  },
  {
   "cell_type": "code",
   "execution_count": 25,
   "id": "bdf8c65e-0b6a-4135-8114-fdca66022342",
   "metadata": {},
   "outputs": [
    {
     "name": "stdout",
     "output_type": "stream",
     "text": [
      "    Name       Age  City\n",
      "--  -------  -----  ----------\n",
      " 0  Archana     21  Salem\n",
      " 1  Mani        22  Coimbatore\n",
      " 2  Thiru       23  Madurai\n",
      " 3  Kalpana     24  Trichy\n"
     ]
    }
   ],
   "source": [
    "print(tabulate(data, headers = \"keys\", tablefmt = \"double_outline\"))"
   ]
  },
  {
   "attachments": {
    "7763438c-b224-4bbc-8a59-ed8b9240a1aa.png": {
     "image/png": "[encoded data removed]"
    }
   },
   "cell_type": "markdown",
   "id": "9f1b8cef-7d72-4ab9-91ed-2c5fa2a979ae",
   "metadata": {},
   "source": [
    "![image.png](attachment:7763438c-b224-4bbc-8a59-ed8b9240a1aa.png)"
   ]
  },
  {
   "cell_type": "code",
   "execution_count": 26,
   "id": "18e9f321-cdb7-4f97-bbcc-7c1051515881",
   "metadata": {},
   "outputs": [
    {
     "name": "stdout",
     "output_type": "stream",
     "text": [
      "╒════╤═════════╤═══════╤════════════╕\n",
      "│    │ Name    │   Age │ City       │\n",
      "╞════╪═════════╪═══════╪════════════╡\n",
      "│  0 │ Archana │    21 │ Salem      │\n",
      "│  1 │ Mani    │    22 │ Coimbatore │\n",
      "│  2 │ Thiru   │    23 │ Madurai    │\n",
      "│  3 │ Kalpana │    24 │ Trichy     │\n",
      "╘════╧═════════╧═══════╧════════════╛\n"
     ]
    }
   ],
   "source": [
    "print(tabulate(data, headers = \"keys\", tablefmt = \"fancy_outline\"))"
   ]
  }
 ],
 "metadata": {
  "kernelspec": {
   "display_name": "Python 3 (ipykernel)",
   "language": "python",
   "name": "python3"
  },
  "language_info": {
   "codemirror_mode": {
    "name": "ipython",
    "version": 3
   },
   "file_extension": ".py",
   "mimetype": "text/x-python",
   "name": "python",
   "nbconvert_exporter": "python",
   "pygments_lexer": "ipython3",
   "version": "3.11.4"
  }
 },
 "nbformat": 4,
 "nbformat_minor": 5
}
