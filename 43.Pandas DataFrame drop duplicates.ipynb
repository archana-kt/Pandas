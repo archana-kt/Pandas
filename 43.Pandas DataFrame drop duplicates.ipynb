{
 "cells": [
  {
   "cell_type": "markdown",
   "id": "67d0da81",
   "metadata": {},
   "source": [
    "# Pandas DataFrame drop duplicates"
   ]
  },
  {
   "cell_type": "code",
   "execution_count": 1,
   "id": "0787d4d3",
   "metadata": {},
   "outputs": [],
   "source": [
    "import pandas as pd"
   ]
  },
  {
   "cell_type": "code",
   "execution_count": 2,
   "id": "a07610f5",
   "metadata": {},
   "outputs": [],
   "source": [
    "data = pd.DataFrame({\"Name\":[\"Archana\",\"Mani\",\"Thiru\",\"Kalpana\"]})"
   ]
  },
  {
   "cell_type": "code",
   "execution_count": 3,
   "id": "f4d5933f",
   "metadata": {},
   "outputs": [
    {
     "data": {
      "text/html": [
       "<div>\n",
       "<style scoped>\n",
       "    .dataframe tbody tr th:only-of-type {\n",
       "        vertical-align: middle;\n",
       "    }\n",
       "\n",
       "    .dataframe tbody tr th {\n",
       "        vertical-align: top;\n",
       "    }\n",
       "\n",
       "    .dataframe thead th {\n",
       "        text-align: right;\n",
       "    }\n",
       "</style>\n",
       "<table border=\"1\" class=\"dataframe\">\n",
       "  <thead>\n",
       "    <tr style=\"text-align: right;\">\n",
       "      <th></th>\n",
       "      <th>Name</th>\n",
       "    </tr>\n",
       "  </thead>\n",
       "  <tbody>\n",
       "    <tr>\n",
       "      <th>0</th>\n",
       "      <td>Archana</td>\n",
       "    </tr>\n",
       "    <tr>\n",
       "      <th>1</th>\n",
       "      <td>Mani</td>\n",
       "    </tr>\n",
       "    <tr>\n",
       "      <th>2</th>\n",
       "      <td>Thiru</td>\n",
       "    </tr>\n",
       "    <tr>\n",
       "      <th>3</th>\n",
       "      <td>Kalpana</td>\n",
       "    </tr>\n",
       "  </tbody>\n",
       "</table>\n",
       "</div>"
      ],
      "text/plain": [
       "      Name\n",
       "0  Archana\n",
       "1     Mani\n",
       "2    Thiru\n",
       "3  Kalpana"
      ]
     },
     "execution_count": 3,
     "metadata": {},
     "output_type": "execute_result"
    }
   ],
   "source": [
    "data"
   ]
  },
  {
   "cell_type": "code",
   "execution_count": 4,
   "id": "77c5bf91",
   "metadata": {},
   "outputs": [],
   "source": [
    "data[\"Age\"] = [23,23,34,12]"
   ]
  },
  {
   "cell_type": "code",
   "execution_count": 5,
   "id": "043fc335",
   "metadata": {},
   "outputs": [
    {
     "data": {
      "text/html": [
       "<div>\n",
       "<style scoped>\n",
       "    .dataframe tbody tr th:only-of-type {\n",
       "        vertical-align: middle;\n",
       "    }\n",
       "\n",
       "    .dataframe tbody tr th {\n",
       "        vertical-align: top;\n",
       "    }\n",
       "\n",
       "    .dataframe thead th {\n",
       "        text-align: right;\n",
       "    }\n",
       "</style>\n",
       "<table border=\"1\" class=\"dataframe\">\n",
       "  <thead>\n",
       "    <tr style=\"text-align: right;\">\n",
       "      <th></th>\n",
       "      <th>Name</th>\n",
       "      <th>Age</th>\n",
       "    </tr>\n",
       "  </thead>\n",
       "  <tbody>\n",
       "    <tr>\n",
       "      <th>0</th>\n",
       "      <td>Archana</td>\n",
       "      <td>23</td>\n",
       "    </tr>\n",
       "    <tr>\n",
       "      <th>1</th>\n",
       "      <td>Mani</td>\n",
       "      <td>23</td>\n",
       "    </tr>\n",
       "    <tr>\n",
       "      <th>2</th>\n",
       "      <td>Thiru</td>\n",
       "      <td>34</td>\n",
       "    </tr>\n",
       "    <tr>\n",
       "      <th>3</th>\n",
       "      <td>Kalpana</td>\n",
       "      <td>12</td>\n",
       "    </tr>\n",
       "  </tbody>\n",
       "</table>\n",
       "</div>"
      ],
      "text/plain": [
       "      Name  Age\n",
       "0  Archana   23\n",
       "1     Mani   23\n",
       "2    Thiru   34\n",
       "3  Kalpana   12"
      ]
     },
     "execution_count": 5,
     "metadata": {},
     "output_type": "execute_result"
    }
   ],
   "source": [
    "data"
   ]
  },
  {
   "cell_type": "code",
   "execution_count": 6,
   "id": "d38131d2",
   "metadata": {},
   "outputs": [],
   "source": [
    "# Now I am adding one duplicate name of same name"
   ]
  },
  {
   "cell_type": "code",
   "execution_count": 15,
   "id": "0a50a98d",
   "metadata": {},
   "outputs": [],
   "source": [
    "data = pd.DataFrame({\"Name\":[\"Archana\",\"Archana\",\"Thiru\",\"Kalpana\",\"Kalpana\"]})"
   ]
  },
  {
   "cell_type": "code",
   "execution_count": 16,
   "id": "8bf7fbad",
   "metadata": {},
   "outputs": [
    {
     "data": {
      "text/html": [
       "<div>\n",
       "<style scoped>\n",
       "    .dataframe tbody tr th:only-of-type {\n",
       "        vertical-align: middle;\n",
       "    }\n",
       "\n",
       "    .dataframe tbody tr th {\n",
       "        vertical-align: top;\n",
       "    }\n",
       "\n",
       "    .dataframe thead th {\n",
       "        text-align: right;\n",
       "    }\n",
       "</style>\n",
       "<table border=\"1\" class=\"dataframe\">\n",
       "  <thead>\n",
       "    <tr style=\"text-align: right;\">\n",
       "      <th></th>\n",
       "      <th>Name</th>\n",
       "    </tr>\n",
       "  </thead>\n",
       "  <tbody>\n",
       "    <tr>\n",
       "      <th>0</th>\n",
       "      <td>Archana</td>\n",
       "    </tr>\n",
       "    <tr>\n",
       "      <th>1</th>\n",
       "      <td>Archana</td>\n",
       "    </tr>\n",
       "    <tr>\n",
       "      <th>2</th>\n",
       "      <td>Thiru</td>\n",
       "    </tr>\n",
       "    <tr>\n",
       "      <th>3</th>\n",
       "      <td>Kalpana</td>\n",
       "    </tr>\n",
       "    <tr>\n",
       "      <th>4</th>\n",
       "      <td>Kalpana</td>\n",
       "    </tr>\n",
       "  </tbody>\n",
       "</table>\n",
       "</div>"
      ],
      "text/plain": [
       "      Name\n",
       "0  Archana\n",
       "1  Archana\n",
       "2    Thiru\n",
       "3  Kalpana\n",
       "4  Kalpana"
      ]
     },
     "execution_count": 16,
     "metadata": {},
     "output_type": "execute_result"
    }
   ],
   "source": [
    "data"
   ]
  },
  {
   "cell_type": "code",
   "execution_count": 17,
   "id": "d69bce8c",
   "metadata": {},
   "outputs": [],
   "source": [
    "data[\"Age\"] = [23,23,34,22,22]"
   ]
  },
  {
   "cell_type": "code",
   "execution_count": 18,
   "id": "0abc2bb4",
   "metadata": {},
   "outputs": [
    {
     "data": {
      "text/html": [
       "<div>\n",
       "<style scoped>\n",
       "    .dataframe tbody tr th:only-of-type {\n",
       "        vertical-align: middle;\n",
       "    }\n",
       "\n",
       "    .dataframe tbody tr th {\n",
       "        vertical-align: top;\n",
       "    }\n",
       "\n",
       "    .dataframe thead th {\n",
       "        text-align: right;\n",
       "    }\n",
       "</style>\n",
       "<table border=\"1\" class=\"dataframe\">\n",
       "  <thead>\n",
       "    <tr style=\"text-align: right;\">\n",
       "      <th></th>\n",
       "      <th>Name</th>\n",
       "      <th>Age</th>\n",
       "    </tr>\n",
       "  </thead>\n",
       "  <tbody>\n",
       "    <tr>\n",
       "      <th>0</th>\n",
       "      <td>Archana</td>\n",
       "      <td>23</td>\n",
       "    </tr>\n",
       "    <tr>\n",
       "      <th>1</th>\n",
       "      <td>Archana</td>\n",
       "      <td>23</td>\n",
       "    </tr>\n",
       "    <tr>\n",
       "      <th>2</th>\n",
       "      <td>Thiru</td>\n",
       "      <td>34</td>\n",
       "    </tr>\n",
       "    <tr>\n",
       "      <th>3</th>\n",
       "      <td>Kalpana</td>\n",
       "      <td>22</td>\n",
       "    </tr>\n",
       "    <tr>\n",
       "      <th>4</th>\n",
       "      <td>Kalpana</td>\n",
       "      <td>22</td>\n",
       "    </tr>\n",
       "  </tbody>\n",
       "</table>\n",
       "</div>"
      ],
      "text/plain": [
       "      Name  Age\n",
       "0  Archana   23\n",
       "1  Archana   23\n",
       "2    Thiru   34\n",
       "3  Kalpana   22\n",
       "4  Kalpana   22"
      ]
     },
     "execution_count": 18,
     "metadata": {},
     "output_type": "execute_result"
    }
   ],
   "source": [
    "data"
   ]
  },
  {
   "cell_type": "code",
   "execution_count": 19,
   "id": "9ecf4660",
   "metadata": {},
   "outputs": [
    {
     "data": {
      "text/plain": [
       "pandas.core.frame.DataFrame"
      ]
     },
     "execution_count": 19,
     "metadata": {},
     "output_type": "execute_result"
    }
   ],
   "source": [
    "type(data)"
   ]
  },
  {
   "cell_type": "code",
   "execution_count": 20,
   "id": "32f15b62",
   "metadata": {},
   "outputs": [
    {
     "data": {
      "text/html": [
       "<div>\n",
       "<style scoped>\n",
       "    .dataframe tbody tr th:only-of-type {\n",
       "        vertical-align: middle;\n",
       "    }\n",
       "\n",
       "    .dataframe tbody tr th {\n",
       "        vertical-align: top;\n",
       "    }\n",
       "\n",
       "    .dataframe thead th {\n",
       "        text-align: right;\n",
       "    }\n",
       "</style>\n",
       "<table border=\"1\" class=\"dataframe\">\n",
       "  <thead>\n",
       "    <tr style=\"text-align: right;\">\n",
       "      <th></th>\n",
       "      <th>Name</th>\n",
       "      <th>Age</th>\n",
       "    </tr>\n",
       "  </thead>\n",
       "  <tbody>\n",
       "    <tr>\n",
       "      <th>0</th>\n",
       "      <td>Archana</td>\n",
       "      <td>23</td>\n",
       "    </tr>\n",
       "    <tr>\n",
       "      <th>2</th>\n",
       "      <td>Thiru</td>\n",
       "      <td>34</td>\n",
       "    </tr>\n",
       "    <tr>\n",
       "      <th>3</th>\n",
       "      <td>Kalpana</td>\n",
       "      <td>22</td>\n",
       "    </tr>\n",
       "  </tbody>\n",
       "</table>\n",
       "</div>"
      ],
      "text/plain": [
       "      Name  Age\n",
       "0  Archana   23\n",
       "2    Thiru   34\n",
       "3  Kalpana   22"
      ]
     },
     "execution_count": 20,
     "metadata": {},
     "output_type": "execute_result"
    }
   ],
   "source": [
    "data.drop_duplicates() # These remove the duplicates"
   ]
  },
  {
   "cell_type": "code",
   "execution_count": 21,
   "id": "4011d1a1",
   "metadata": {},
   "outputs": [],
   "source": [
    "data[\"City\"] = [\"Salem\",\"Salem\",\"Madurai\",\"Nellai\",\"Erode\"]"
   ]
  },
  {
   "cell_type": "code",
   "execution_count": 22,
   "id": "cf961e05",
   "metadata": {},
   "outputs": [
    {
     "data": {
      "text/html": [
       "<div>\n",
       "<style scoped>\n",
       "    .dataframe tbody tr th:only-of-type {\n",
       "        vertical-align: middle;\n",
       "    }\n",
       "\n",
       "    .dataframe tbody tr th {\n",
       "        vertical-align: top;\n",
       "    }\n",
       "\n",
       "    .dataframe thead th {\n",
       "        text-align: right;\n",
       "    }\n",
       "</style>\n",
       "<table border=\"1\" class=\"dataframe\">\n",
       "  <thead>\n",
       "    <tr style=\"text-align: right;\">\n",
       "      <th></th>\n",
       "      <th>Name</th>\n",
       "      <th>Age</th>\n",
       "      <th>City</th>\n",
       "    </tr>\n",
       "  </thead>\n",
       "  <tbody>\n",
       "    <tr>\n",
       "      <th>0</th>\n",
       "      <td>Archana</td>\n",
       "      <td>23</td>\n",
       "      <td>Salem</td>\n",
       "    </tr>\n",
       "    <tr>\n",
       "      <th>1</th>\n",
       "      <td>Archana</td>\n",
       "      <td>23</td>\n",
       "      <td>Salem</td>\n",
       "    </tr>\n",
       "    <tr>\n",
       "      <th>2</th>\n",
       "      <td>Thiru</td>\n",
       "      <td>34</td>\n",
       "      <td>Madurai</td>\n",
       "    </tr>\n",
       "    <tr>\n",
       "      <th>3</th>\n",
       "      <td>Kalpana</td>\n",
       "      <td>22</td>\n",
       "      <td>Nellai</td>\n",
       "    </tr>\n",
       "    <tr>\n",
       "      <th>4</th>\n",
       "      <td>Kalpana</td>\n",
       "      <td>22</td>\n",
       "      <td>Erode</td>\n",
       "    </tr>\n",
       "  </tbody>\n",
       "</table>\n",
       "</div>"
      ],
      "text/plain": [
       "      Name  Age     City\n",
       "0  Archana   23    Salem\n",
       "1  Archana   23    Salem\n",
       "2    Thiru   34  Madurai\n",
       "3  Kalpana   22   Nellai\n",
       "4  Kalpana   22    Erode"
      ]
     },
     "execution_count": 22,
     "metadata": {},
     "output_type": "execute_result"
    }
   ],
   "source": [
    "data"
   ]
  },
  {
   "cell_type": "code",
   "execution_count": 23,
   "id": "1ded1de0",
   "metadata": {},
   "outputs": [
    {
     "data": {
      "text/html": [
       "<div>\n",
       "<style scoped>\n",
       "    .dataframe tbody tr th:only-of-type {\n",
       "        vertical-align: middle;\n",
       "    }\n",
       "\n",
       "    .dataframe tbody tr th {\n",
       "        vertical-align: top;\n",
       "    }\n",
       "\n",
       "    .dataframe thead th {\n",
       "        text-align: right;\n",
       "    }\n",
       "</style>\n",
       "<table border=\"1\" class=\"dataframe\">\n",
       "  <thead>\n",
       "    <tr style=\"text-align: right;\">\n",
       "      <th></th>\n",
       "      <th>Name</th>\n",
       "      <th>Age</th>\n",
       "      <th>City</th>\n",
       "    </tr>\n",
       "  </thead>\n",
       "  <tbody>\n",
       "    <tr>\n",
       "      <th>0</th>\n",
       "      <td>Archana</td>\n",
       "      <td>23</td>\n",
       "      <td>Salem</td>\n",
       "    </tr>\n",
       "    <tr>\n",
       "      <th>2</th>\n",
       "      <td>Thiru</td>\n",
       "      <td>34</td>\n",
       "      <td>Madurai</td>\n",
       "    </tr>\n",
       "    <tr>\n",
       "      <th>3</th>\n",
       "      <td>Kalpana</td>\n",
       "      <td>22</td>\n",
       "      <td>Nellai</td>\n",
       "    </tr>\n",
       "    <tr>\n",
       "      <th>4</th>\n",
       "      <td>Kalpana</td>\n",
       "      <td>22</td>\n",
       "      <td>Erode</td>\n",
       "    </tr>\n",
       "  </tbody>\n",
       "</table>\n",
       "</div>"
      ],
      "text/plain": [
       "      Name  Age     City\n",
       "0  Archana   23    Salem\n",
       "2    Thiru   34  Madurai\n",
       "3  Kalpana   22   Nellai\n",
       "4  Kalpana   22    Erode"
      ]
     },
     "execution_count": 23,
     "metadata": {},
     "output_type": "execute_result"
    }
   ],
   "source": [
    "data.drop_duplicates()"
   ]
  },
  {
   "cell_type": "code",
   "execution_count": 25,
   "id": "0da0f546",
   "metadata": {},
   "outputs": [],
   "source": [
    "# See here, only Archana got removed. Bcoz Kalpana has 2 different city names called Nellai,Erode"
   ]
  },
  {
   "cell_type": "code",
   "execution_count": 26,
   "id": "1d4cd6b2",
   "metadata": {},
   "outputs": [],
   "source": [
    "data.drop_duplicates?"
   ]
  },
  {
   "cell_type": "raw",
   "id": "a8cd3988",
   "metadata": {},
   "source": [
    "Signature:\n",
    "data.drop_duplicates(\n",
    "    subset: 'Hashable | Sequence[Hashable] | None' = None,\n",
    "    keep: \"Literal['first'] | Literal['last'] | Literal[False]\" = 'first',\n",
    "    inplace: 'bool' = False,\n",
    "    ignore_index: 'bool' = False,\n",
    ") -> 'DataFrame | None'\n",
    "Docstring:\n",
    "Return DataFrame with duplicate rows removed.\n",
    "\n",
    "Considering certain columns is optional. Indexes, including time indexes\n",
    "are ignored.\n",
    "\n",
    "Parameters\n",
    "----------\n",
    "subset : column label or sequence of labels, optional\n",
    "    Only consider certain columns for identifying duplicates, by\n",
    "    default use all of the columns.\n",
    "keep : {'first', 'last', False}, default 'first'\n",
    "    Determines which duplicates (if any) to keep.\n",
    "    - ``first`` : Drop duplicates except for the first occurrence.\n",
    "    - ``last`` : Drop duplicates except for the last occurrence.\n",
    "    - False : Drop all duplicates.\n",
    "inplace : bool, default False\n",
    "    Whether to drop duplicates in place or to return a copy.\n",
    "ignore_index : bool, default False\n",
    "    If True, the resulting axis will be labeled 0, 1, …, n - 1.\n",
    "\n",
    "    .. versionadded:: 1.0.0\n",
    "\n",
    "Returns\n",
    "-------\n",
    "DataFrame or None\n",
    "    DataFrame with duplicates removed or None if ``inplace=True``.\n",
    "\n",
    "See Also\n",
    "--------\n",
    "DataFrame.value_counts: Count unique combinations of columns.\n",
    "\n",
    "Examples\n",
    "--------\n",
    "Consider dataset containing ramen rating.\n",
    "\n",
    ">>> df = pd.DataFrame({\n",
    "...     'brand': ['Yum Yum', 'Yum Yum', 'Indomie', 'Indomie', 'Indomie'],\n",
    "...     'style': ['cup', 'cup', 'cup', 'pack', 'pack'],\n",
    "...     'rating': [4, 4, 3.5, 15, 5]\n",
    "... })\n",
    ">>> df\n",
    "    brand style  rating\n",
    "0  Yum Yum   cup     4.0\n",
    "1  Yum Yum   cup     4.0\n",
    "2  Indomie   cup     3.5\n",
    "3  Indomie  pack    15.0\n",
    "4  Indomie  pack     5.0\n",
    "\n",
    "By default, it removes duplicate rows based on all columns.\n",
    "\n",
    ">>> df.drop_duplicates()\n",
    "    brand style  rating\n",
    "0  Yum Yum   cup     4.0\n",
    "2  Indomie   cup     3.5\n",
    "3  Indomie  pack    15.0\n",
    "4  Indomie  pack     5.0\n",
    "\n",
    "To remove duplicates on specific column(s), use ``subset``.\n",
    "\n",
    ">>> df.drop_duplicates(subset=['brand'])\n",
    "    brand style  rating\n",
    "0  Yum Yum   cup     4.0\n",
    "2  Indomie   cup     3.5\n",
    "\n",
    "To remove duplicates and keep last occurrences, use ``keep``.\n",
    "\n",
    ">>> df.drop_duplicates(subset=['brand', 'style'], keep='last')\n",
    "    brand style  rating\n",
    "1  Yum Yum   cup     4.0\n",
    "2  Indomie   cup     3.5\n",
    "4  Indomie  pack     5.0"
   ]
  },
  {
   "cell_type": "code",
   "execution_count": 27,
   "id": "d8ba8d7b",
   "metadata": {},
   "outputs": [
    {
     "data": {
      "text/html": [
       "<div>\n",
       "<style scoped>\n",
       "    .dataframe tbody tr th:only-of-type {\n",
       "        vertical-align: middle;\n",
       "    }\n",
       "\n",
       "    .dataframe tbody tr th {\n",
       "        vertical-align: top;\n",
       "    }\n",
       "\n",
       "    .dataframe thead th {\n",
       "        text-align: right;\n",
       "    }\n",
       "</style>\n",
       "<table border=\"1\" class=\"dataframe\">\n",
       "  <thead>\n",
       "    <tr style=\"text-align: right;\">\n",
       "      <th></th>\n",
       "      <th>Name</th>\n",
       "      <th>Age</th>\n",
       "      <th>City</th>\n",
       "    </tr>\n",
       "  </thead>\n",
       "  <tbody>\n",
       "    <tr>\n",
       "      <th>0</th>\n",
       "      <td>Archana</td>\n",
       "      <td>23</td>\n",
       "      <td>Salem</td>\n",
       "    </tr>\n",
       "    <tr>\n",
       "      <th>2</th>\n",
       "      <td>Thiru</td>\n",
       "      <td>34</td>\n",
       "      <td>Madurai</td>\n",
       "    </tr>\n",
       "    <tr>\n",
       "      <th>3</th>\n",
       "      <td>Kalpana</td>\n",
       "      <td>22</td>\n",
       "      <td>Nellai</td>\n",
       "    </tr>\n",
       "  </tbody>\n",
       "</table>\n",
       "</div>"
      ],
      "text/plain": [
       "      Name  Age     City\n",
       "0  Archana   23    Salem\n",
       "2    Thiru   34  Madurai\n",
       "3  Kalpana   22   Nellai"
      ]
     },
     "execution_count": 27,
     "metadata": {},
     "output_type": "execute_result"
    }
   ],
   "source": [
    "data.drop_duplicates(subset=[\"Name\",\"Age\"])"
   ]
  },
  {
   "cell_type": "code",
   "execution_count": 28,
   "id": "5c314cd2",
   "metadata": {},
   "outputs": [],
   "source": [
    "# Bcoz this will consider only Name and Age. So duplicates are removed correctly without thinking about City"
   ]
  },
  {
   "cell_type": "code",
   "execution_count": 29,
   "id": "316dee0d",
   "metadata": {},
   "outputs": [],
   "source": [
    "# keep attribute will consider the occurances. If keep=\"last\" means, it takes kalpana of last occurances"
   ]
  },
  {
   "cell_type": "code",
   "execution_count": 30,
   "id": "0913491e",
   "metadata": {},
   "outputs": [
    {
     "data": {
      "text/html": [
       "<div>\n",
       "<style scoped>\n",
       "    .dataframe tbody tr th:only-of-type {\n",
       "        vertical-align: middle;\n",
       "    }\n",
       "\n",
       "    .dataframe tbody tr th {\n",
       "        vertical-align: top;\n",
       "    }\n",
       "\n",
       "    .dataframe thead th {\n",
       "        text-align: right;\n",
       "    }\n",
       "</style>\n",
       "<table border=\"1\" class=\"dataframe\">\n",
       "  <thead>\n",
       "    <tr style=\"text-align: right;\">\n",
       "      <th></th>\n",
       "      <th>Name</th>\n",
       "      <th>Age</th>\n",
       "      <th>City</th>\n",
       "    </tr>\n",
       "  </thead>\n",
       "  <tbody>\n",
       "    <tr>\n",
       "      <th>1</th>\n",
       "      <td>Archana</td>\n",
       "      <td>23</td>\n",
       "      <td>Salem</td>\n",
       "    </tr>\n",
       "    <tr>\n",
       "      <th>2</th>\n",
       "      <td>Thiru</td>\n",
       "      <td>34</td>\n",
       "      <td>Madurai</td>\n",
       "    </tr>\n",
       "    <tr>\n",
       "      <th>4</th>\n",
       "      <td>Kalpana</td>\n",
       "      <td>22</td>\n",
       "      <td>Erode</td>\n",
       "    </tr>\n",
       "  </tbody>\n",
       "</table>\n",
       "</div>"
      ],
      "text/plain": [
       "      Name  Age     City\n",
       "1  Archana   23    Salem\n",
       "2    Thiru   34  Madurai\n",
       "4  Kalpana   22    Erode"
      ]
     },
     "execution_count": 30,
     "metadata": {},
     "output_type": "execute_result"
    }
   ],
   "source": [
    "data.drop_duplicates(subset=[\"Name\",\"Age\"], keep=\"last\")"
   ]
  },
  {
   "cell_type": "code",
   "execution_count": 31,
   "id": "29e8ab3c",
   "metadata": {},
   "outputs": [],
   "source": [
    "# So now based on that last occurance, Kalpana with Erode is considered."
   ]
  },
  {
   "cell_type": "code",
   "execution_count": 32,
   "id": "67ef7087",
   "metadata": {},
   "outputs": [],
   "source": [
    "# Subset and keep are the important attributes"
   ]
  },
  {
   "cell_type": "code",
   "execution_count": 33,
   "id": "ebc5d2b1",
   "metadata": {},
   "outputs": [],
   "source": [
    "# If keep not given means, it takes always 1st occurances."
   ]
  }
 ],
 "metadata": {
  "kernelspec": {
   "display_name": "Python 3 (ipykernel)",
   "language": "python",
   "name": "python3"
  },
  "language_info": {
   "codemirror_mode": {
    "name": "ipython",
    "version": 3
   },
   "file_extension": ".py",
   "mimetype": "text/x-python",
   "name": "python",
   "nbconvert_exporter": "python",
   "pygments_lexer": "ipython3",
   "version": "3.9.7"
  }
 },
 "nbformat": 4,
 "nbformat_minor": 5
}
