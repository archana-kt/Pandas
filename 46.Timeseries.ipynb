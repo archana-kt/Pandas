{
 "cells": [
  {
   "cell_type": "markdown",
   "id": "78e327f1",
   "metadata": {},
   "source": [
    "# Time Series"
   ]
  },
  {
   "cell_type": "code",
   "execution_count": 1,
   "id": "d232897c",
   "metadata": {},
   "outputs": [],
   "source": [
    "import pandas as pd"
   ]
  },
  {
   "cell_type": "code",
   "execution_count": 2,
   "id": "38eef1b4",
   "metadata": {},
   "outputs": [],
   "source": [
    "import numpy as np"
   ]
  },
  {
   "cell_type": "markdown",
   "id": "36016c7a",
   "metadata": {},
   "source": [
    "## to_datetime"
   ]
  },
  {
   "cell_type": "code",
   "execution_count": 3,
   "id": "d5142542",
   "metadata": {},
   "outputs": [],
   "source": [
    "date = pd.to_datetime('20 Feb 2024')"
   ]
  },
  {
   "cell_type": "code",
   "execution_count": 4,
   "id": "61c6a48c",
   "metadata": {},
   "outputs": [
    {
     "data": {
      "text/plain": [
       "Timestamp('2024-02-20 00:00:00')"
      ]
     },
     "execution_count": 4,
     "metadata": {},
     "output_type": "execute_result"
    }
   ],
   "source": [
    "date"
   ]
  },
  {
   "cell_type": "code",
   "execution_count": 5,
   "id": "1817b49b",
   "metadata": {},
   "outputs": [],
   "source": [
    "date = pd.to_datetime('Feb 20 2024')"
   ]
  },
  {
   "cell_type": "code",
   "execution_count": 6,
   "id": "1edfd504",
   "metadata": {},
   "outputs": [
    {
     "data": {
      "text/plain": [
       "Timestamp('2024-02-20 00:00:00')"
      ]
     },
     "execution_count": 6,
     "metadata": {},
     "output_type": "execute_result"
    }
   ],
   "source": [
    "date"
   ]
  },
  {
   "cell_type": "code",
   "execution_count": 7,
   "id": "65cfbfa5",
   "metadata": {},
   "outputs": [],
   "source": [
    "date = pd.to_datetime('2024 Feb 20')"
   ]
  },
  {
   "cell_type": "code",
   "execution_count": 8,
   "id": "9f9df76f",
   "metadata": {},
   "outputs": [
    {
     "data": {
      "text/plain": [
       "Timestamp('2024-02-20 00:00:00')"
      ]
     },
     "execution_count": 8,
     "metadata": {},
     "output_type": "execute_result"
    }
   ],
   "source": [
    "date"
   ]
  },
  {
   "cell_type": "code",
   "execution_count": 9,
   "id": "854a546f",
   "metadata": {},
   "outputs": [],
   "source": [
    "# Which means, it takes in timestamp form whetever we give in any format"
   ]
  },
  {
   "cell_type": "code",
   "execution_count": 10,
   "id": "d3a28613",
   "metadata": {},
   "outputs": [],
   "source": [
    "s = date.strftime('%a %m %y')"
   ]
  },
  {
   "cell_type": "code",
   "execution_count": 11,
   "id": "708aa024",
   "metadata": {},
   "outputs": [
    {
     "data": {
      "text/plain": [
       "'Tue 02 24'"
      ]
     },
     "execution_count": 11,
     "metadata": {},
     "output_type": "execute_result"
    }
   ],
   "source": [
    "s"
   ]
  },
  {
   "cell_type": "raw",
   "id": "a306656a",
   "metadata": {},
   "source": [
    "\n",
    "Code\tExample\tDescription\n",
    "%a\tSun\tWeekday as locale’s abbreviated name.\n",
    "%A\tSunday\tWeekday as locale’s full name.\n",
    "%w\t0\tWeekday as a decimal number, where 0 is Sunday and 6 is Saturday.\n",
    "%d\t08\tDay of the month as a zero-padded decimal number.\n",
    "%-d\t8\tDay of the month as a decimal number. (Platform specific)\n",
    "%b\tSep\tMonth as locale’s abbreviated name.\n",
    "%B\tSeptember\tMonth as locale’s full name.\n",
    "%m\t09\tMonth as a zero-padded decimal number.\n",
    "%-m\t9\tMonth as a decimal number. (Platform specific)\n",
    "%y\t13\tYear without century as a zero-padded decimal number.\n",
    "%Y\t2013\tYear with century as a decimal number.\n",
    "%H\t07\tHour (24-hour clock) as a zero-padded decimal number.\n",
    "%-H\t7\tHour (24-hour clock) as a decimal number. (Platform specific)\n",
    "%I\t07\tHour (12-hour clock) as a zero-padded decimal number.\n",
    "%-I\t7\tHour (12-hour clock) as a decimal number. (Platform specific)\n",
    "%p\tAM\tLocale’s equivalent of either AM or PM.\n",
    "%M\t06\tMinute as a zero-padded decimal number.\n",
    "%-M\t6\tMinute as a decimal number. (Platform specific)\n",
    "%S\t05\tSecond as a zero-padded decimal number.\n",
    "%-S\t5\tSecond as a decimal number. (Platform specific)\n",
    "%f\t000000\tMicrosecond as a decimal number, zero-padded to 6 digits.\n",
    "%z\t+0000\tUTC offset in the form ±HHMM[SS[.ffffff]] (empty string if the object is naive).\n",
    "%Z\tUTC\tTime zone name (empty string if the object is naive).\n",
    "%j\t251\tDay of the year as a zero-padded decimal number.\n",
    "%-j\t251\tDay of the year as a decimal number. (Platform specific)\n",
    "%U\t36\tWeek number of the year (Sunday as the first day of the week) as a zero-padded decimal number. All days in a new year preceding the first Sunday are considered to be in week 0.\n",
    "%-U\t36\tWeek number of the year (Sunday as the first day of the week) as a decimal number. All days in a new year preceding the first Sunday are considered to be in week 0. (Platform specific)\n",
    "%W\t35\tWeek number of the year (Monday as the first day of the week) as a zero-padded decimal number. All days in a new year preceding the first Monday are considered to be in week 0.\n",
    "%-W\t35\tWeek number of the year (Monday as the first day of the week) as a decimal number. All days in a new year preceding the first Monday are considered to be in week 0. (Platform specific)\n",
    "%c\tSun Sep 8 07:06:05 2013\tLocale’s appropriate date and time representation.\n",
    "%x\t09/08/13\tLocale’s appropriate date representation.\n",
    "%X\t07:06:05\tLocale’s appropriate time representation.\n",
    "%%\t%\tA literal '%' character."
   ]
  },
  {
   "cell_type": "code",
   "execution_count": 12,
   "id": "050c406e",
   "metadata": {},
   "outputs": [],
   "source": [
    "s = date.strftime('%H %m %y')"
   ]
  },
  {
   "cell_type": "code",
   "execution_count": 13,
   "id": "9221f80d",
   "metadata": {},
   "outputs": [
    {
     "data": {
      "text/plain": [
       "'00 02 24'"
      ]
     },
     "execution_count": 13,
     "metadata": {},
     "output_type": "execute_result"
    }
   ],
   "source": [
    "s"
   ]
  },
  {
   "cell_type": "code",
   "execution_count": 14,
   "id": "f116916f",
   "metadata": {},
   "outputs": [
    {
     "data": {
      "text/plain": [
       "'24'"
      ]
     },
     "execution_count": 14,
     "metadata": {},
     "output_type": "execute_result"
    }
   ],
   "source": [
    "date.strftime(\"%y\")"
   ]
  },
  {
   "cell_type": "code",
   "execution_count": 15,
   "id": "6d048c9d",
   "metadata": {},
   "outputs": [
    {
     "data": {
      "text/plain": [
       "'2024-Feb-20'"
      ]
     },
     "execution_count": 15,
     "metadata": {},
     "output_type": "execute_result"
    }
   ],
   "source": [
    "date.strftime(\"%Y-%b-%d\")# Month as locale’s abbreviated name."
   ]
  },
  {
   "cell_type": "code",
   "execution_count": 16,
   "id": "a007b988",
   "metadata": {},
   "outputs": [
    {
     "data": {
      "text/plain": [
       "'2024-02-20'"
      ]
     },
     "execution_count": 16,
     "metadata": {},
     "output_type": "execute_result"
    }
   ],
   "source": [
    "date.strftime(\"%Y-%m-%d\") # Month as a zero-padded decimal number."
   ]
  },
  {
   "cell_type": "code",
   "execution_count": 17,
   "id": "c0e9fed3",
   "metadata": {},
   "outputs": [
    {
     "data": {
      "text/plain": [
       "'20/02/2024'"
      ]
     },
     "execution_count": 17,
     "metadata": {},
     "output_type": "execute_result"
    }
   ],
   "source": [
    "date.strftime(\"%d/%m/%Y\")"
   ]
  },
  {
   "cell_type": "markdown",
   "id": "9af9eedb",
   "metadata": {},
   "source": [
    "## to_timedelta"
   ]
  },
  {
   "cell_type": "code",
   "execution_count": 18,
   "id": "6d8993c7",
   "metadata": {},
   "outputs": [],
   "source": [
    "pd.to_timedelta?"
   ]
  },
  {
   "cell_type": "raw",
   "id": "d7cdbeb1",
   "metadata": {},
   "source": [
    "Signature:\n",
    "pd.to_timedelta(\n",
    "    arg: 'str | int | float | timedelta | list | tuple | range | ArrayLike | Index | Series',\n",
    "    unit: 'UnitChoices | None' = None,\n",
    "    errors: 'DateTimeErrorChoices' = 'raise',\n",
    ") -> 'Timedelta | TimedeltaIndex | Series'\n",
    "Docstring:\n",
    "Convert argument to timedelta.\n",
    "\n",
    "Timedeltas are absolute differences in times, expressed in difference\n",
    "units (e.g. days, hours, minutes, seconds). This method converts\n",
    "an argument from a recognized timedelta format / value into\n",
    "a Timedelta type.\n",
    "\n",
    "Parameters\n",
    "----------\n",
    "arg : str, timedelta, list-like or Series\n",
    "    The data to be converted to timedelta.\n",
    "\n",
    "    .. deprecated:: 1.2\n",
    "        Strings with units 'M', 'Y' and 'y' do not represent\n",
    "        unambiguous timedelta values and will be removed in a future version\n",
    "\n",
    "unit : str, optional\n",
    "    Denotes the unit of the arg for numeric `arg`. Defaults to ``\"ns\"``.\n",
    "\n",
    "    Possible values:\n",
    "\n",
    "    * 'W'\n",
    "    * 'D' / 'days' / 'day'\n",
    "    * 'hours' / 'hour' / 'hr' / 'h'\n",
    "    * 'm' / 'minute' / 'min' / 'minutes' / 'T'\n",
    "    * 'S' / 'seconds' / 'sec' / 'second'\n",
    "    * 'ms' / 'milliseconds' / 'millisecond' / 'milli' / 'millis' / 'L'\n",
    "    * 'us' / 'microseconds' / 'microsecond' / 'micro' / 'micros' / 'U'\n",
    "    * 'ns' / 'nanoseconds' / 'nano' / 'nanos' / 'nanosecond' / 'N'\n",
    "\n",
    "    .. versionchanged:: 1.1.0\n",
    "\n",
    "       Must not be specified when `arg` context strings and\n",
    "       ``errors=\"raise\"``.\n",
    "\n",
    "errors : {'ignore', 'raise', 'coerce'}, default 'raise'\n",
    "    - If 'raise', then invalid parsing will raise an exception.\n",
    "    - If 'coerce', then invalid parsing will be set as NaT.\n",
    "    - If 'ignore', then invalid parsing will return the input.\n",
    "\n",
    "Returns\n",
    "-------\n",
    "timedelta\n",
    "    If parsing succeeded.\n",
    "    Return type depends on input:\n",
    "\n",
    "    - list-like: TimedeltaIndex of timedelta64 dtype\n",
    "    - Series: Series of timedelta64 dtype\n",
    "    - scalar: Timedelta\n",
    "\n",
    "See Also\n",
    "--------\n",
    "DataFrame.astype : Cast argument to a specified dtype.\n",
    "to_datetime : Convert argument to datetime.\n",
    "convert_dtypes : Convert dtypes.\n",
    "\n",
    "Notes\n",
    "-----\n",
    "If the precision is higher than nanoseconds, the precision of the duration is\n",
    "truncated to nanoseconds for string inputs.\n",
    "\n",
    "Examples\n",
    "--------\n",
    "Parsing a single string to a Timedelta:\n",
    "\n",
    ">>> pd.to_timedelta('1 days 06:05:01.00003')\n",
    "Timedelta('1 days 06:05:01.000030')\n",
    ">>> pd.to_timedelta('15.5us')\n",
    "Timedelta('0 days 00:00:00.000015500')\n",
    "\n",
    "Parsing a list or array of strings:\n",
    "\n",
    ">>> pd.to_timedelta(['1 days 06:05:01.00003', '15.5us', 'nan'])\n",
    "TimedeltaIndex(['1 days 06:05:01.000030', '0 days 00:00:00.000015500', NaT],\n",
    "               dtype='timedelta64[ns]', freq=None)\n",
    "\n",
    "Converting numbers by specifying the `unit` keyword argument:\n",
    "\n",
    ">>> pd.to_timedelta(np.arange(5), unit='s')\n",
    "TimedeltaIndex(['0 days 00:00:00', '0 days 00:00:01', '0 days 00:00:02',\n",
    "                '0 days 00:00:03', '0 days 00:00:04'],\n",
    "               dtype='timedelta64[ns]', freq=None)\n",
    ">>> pd.to_timedelta(np.arange(5), unit='d')\n",
    "TimedeltaIndex(['0 days', '1 days', '2 days', '3 days', '4 days'],\n",
    "               dtype='timedelta64[ns]', freq=None)"
   ]
  },
  {
   "cell_type": "code",
   "execution_count": 20,
   "id": "a12e83a7",
   "metadata": {},
   "outputs": [],
   "source": [
    "import datetime"
   ]
  },
  {
   "cell_type": "code",
   "execution_count": 22,
   "id": "ea651e66",
   "metadata": {},
   "outputs": [],
   "source": [
    "x = datetime.datetime.now()+pd.to_timedelta(np.arange(10),'D')"
   ]
  },
  {
   "cell_type": "code",
   "execution_count": 23,
   "id": "425dfece",
   "metadata": {},
   "outputs": [
    {
     "data": {
      "text/plain": [
       "DatetimeIndex(['2024-02-21 10:51:17.836303', '2024-02-22 10:51:17.836303',\n",
       "               '2024-02-23 10:51:17.836303', '2024-02-24 10:51:17.836303',\n",
       "               '2024-02-25 10:51:17.836303', '2024-02-26 10:51:17.836303',\n",
       "               '2024-02-27 10:51:17.836303', '2024-02-28 10:51:17.836303',\n",
       "               '2024-02-29 10:51:17.836303', '2024-03-01 10:51:17.836303'],\n",
       "              dtype='datetime64[ns]', freq=None)"
      ]
     },
     "execution_count": 23,
     "metadata": {},
     "output_type": "execute_result"
    }
   ],
   "source": [
    "x"
   ]
  },
  {
   "cell_type": "code",
   "execution_count": 24,
   "id": "1ac88fff",
   "metadata": {},
   "outputs": [
    {
     "data": {
      "text/plain": [
       "pandas.core.indexes.datetimes.DatetimeIndex"
      ]
     },
     "execution_count": 24,
     "metadata": {},
     "output_type": "execute_result"
    }
   ],
   "source": [
    "type(x)"
   ]
  },
  {
   "cell_type": "code",
   "execution_count": 27,
   "id": "ce7357e5",
   "metadata": {},
   "outputs": [],
   "source": [
    "index = pd.to_datetime('20th feb 2024')+pd.to_timedelta(np.arange(20),'d') # timedelta has range of 20 to display 'd' dates"
   ]
  },
  {
   "cell_type": "code",
   "execution_count": 28,
   "id": "e100ca30",
   "metadata": {},
   "outputs": [
    {
     "data": {
      "text/plain": [
       "DatetimeIndex(['2024-02-20', '2024-02-21', '2024-02-22', '2024-02-23',\n",
       "               '2024-02-24', '2024-02-25', '2024-02-26', '2024-02-27',\n",
       "               '2024-02-28', '2024-02-29', '2024-03-01', '2024-03-02',\n",
       "               '2024-03-03', '2024-03-04', '2024-03-05', '2024-03-06',\n",
       "               '2024-03-07', '2024-03-08', '2024-03-09', '2024-03-10'],\n",
       "              dtype='datetime64[ns]', freq=None)"
      ]
     },
     "execution_count": 28,
     "metadata": {},
     "output_type": "execute_result"
    }
   ],
   "source": [
    "index"
   ]
  },
  {
   "cell_type": "code",
   "execution_count": 29,
   "id": "f2b14d17",
   "metadata": {},
   "outputs": [
    {
     "data": {
      "text/plain": [
       "Timestamp('1990-01-01 00:00:00')"
      ]
     },
     "execution_count": 29,
     "metadata": {},
     "output_type": "execute_result"
    }
   ],
   "source": [
    "pd.to_datetime('1st jan 1990')"
   ]
  },
  {
   "cell_type": "code",
   "execution_count": 30,
   "id": "90ac34fc",
   "metadata": {},
   "outputs": [
    {
     "data": {
      "text/plain": [
       "DatetimeIndex(['1990-01-01', '1990-01-02', '1990-01-03', '1990-01-04',\n",
       "               '1990-01-05', '1990-01-06', '1990-01-07', '1990-01-08',\n",
       "               '1990-01-09', '1990-01-10',\n",
       "               ...\n",
       "               '1992-09-17', '1992-09-18', '1992-09-19', '1992-09-20',\n",
       "               '1992-09-21', '1992-09-22', '1992-09-23', '1992-09-24',\n",
       "               '1992-09-25', '1992-09-26'],\n",
       "              dtype='datetime64[ns]', length=1000, freq=None)"
      ]
     },
     "execution_count": 30,
     "metadata": {},
     "output_type": "execute_result"
    }
   ],
   "source": [
    "pd.to_datetime('1st jan 1990')+pd.to_timedelta(np.arange(1000),'D')"
   ]
  },
  {
   "cell_type": "code",
   "execution_count": 31,
   "id": "33eeae2d",
   "metadata": {},
   "outputs": [
    {
     "data": {
      "text/plain": [
       "DatetimeIndex(['2024-02-20', '2024-02-22'], dtype='datetime64[ns]', freq=None)"
      ]
     },
     "execution_count": 31,
     "metadata": {},
     "output_type": "execute_result"
    }
   ],
   "source": [
    "pd.DatetimeIndex(['20th feb 2024','22nd feb 2024'])"
   ]
  },
  {
   "cell_type": "code",
   "execution_count": 33,
   "id": "a4b4afd0",
   "metadata": {},
   "outputs": [],
   "source": [
    "inx = pd.DatetimeIndex(['01st feb 2024','21st feb 2024'])"
   ]
  },
  {
   "cell_type": "code",
   "execution_count": 34,
   "id": "3673fc68",
   "metadata": {},
   "outputs": [
    {
     "data": {
      "text/plain": [
       "DatetimeIndex(['2024-02-01', '2024-02-21'], dtype='datetime64[ns]', freq=None)"
      ]
     },
     "execution_count": 34,
     "metadata": {},
     "output_type": "execute_result"
    }
   ],
   "source": [
    "inx"
   ]
  },
  {
   "cell_type": "code",
   "execution_count": 35,
   "id": "3aa4d75a",
   "metadata": {},
   "outputs": [],
   "source": [
    "data = pd.Series([2000,2303],index=inx)"
   ]
  },
  {
   "cell_type": "code",
   "execution_count": 36,
   "id": "31e3d1db",
   "metadata": {},
   "outputs": [
    {
     "data": {
      "text/plain": [
       "2024-02-01    2000\n",
       "2024-02-21    2303\n",
       "dtype: int64"
      ]
     },
     "execution_count": 36,
     "metadata": {},
     "output_type": "execute_result"
    }
   ],
   "source": [
    "data"
   ]
  },
  {
   "cell_type": "markdown",
   "id": "34318cda",
   "metadata": {},
   "source": [
    "## date_range"
   ]
  },
  {
   "cell_type": "code",
   "execution_count": 37,
   "id": "bf2d8a9f",
   "metadata": {},
   "outputs": [
    {
     "data": {
      "text/plain": [
       "DatetimeIndex(['2023-02-20', '2023-02-21', '2023-02-22', '2023-02-23',\n",
       "               '2023-02-24', '2023-02-25', '2023-02-26', '2023-02-27',\n",
       "               '2023-02-28', '2023-03-01',\n",
       "               ...\n",
       "               '2023-12-22', '2023-12-23', '2023-12-24', '2023-12-25',\n",
       "               '2023-12-26', '2023-12-27', '2023-12-28', '2023-12-29',\n",
       "               '2023-12-30', '2023-12-31'],\n",
       "              dtype='datetime64[ns]', length=315, freq='D')"
      ]
     },
     "execution_count": 37,
     "metadata": {},
     "output_type": "execute_result"
    }
   ],
   "source": [
    "pd.date_range('20th feb 2023','31st dec 2023')"
   ]
  },
  {
   "cell_type": "code",
   "execution_count": 38,
   "id": "7dc0a57b",
   "metadata": {},
   "outputs": [
    {
     "name": "stdout",
     "output_type": "stream",
     "text": [
      "2023-02-20 00:00:00\n",
      "2023-02-21 00:00:00\n",
      "2023-02-22 00:00:00\n",
      "2023-02-23 00:00:00\n",
      "2023-02-24 00:00:00\n",
      "2023-02-25 00:00:00\n",
      "2023-02-26 00:00:00\n",
      "2023-02-27 00:00:00\n",
      "2023-02-28 00:00:00\n",
      "2023-03-01 00:00:00\n",
      "2023-03-02 00:00:00\n",
      "2023-03-03 00:00:00\n",
      "2023-03-04 00:00:00\n",
      "2023-03-05 00:00:00\n",
      "2023-03-06 00:00:00\n",
      "2023-03-07 00:00:00\n",
      "2023-03-08 00:00:00\n",
      "2023-03-09 00:00:00\n",
      "2023-03-10 00:00:00\n",
      "2023-03-11 00:00:00\n",
      "2023-03-12 00:00:00\n",
      "2023-03-13 00:00:00\n",
      "2023-03-14 00:00:00\n",
      "2023-03-15 00:00:00\n",
      "2023-03-16 00:00:00\n",
      "2023-03-17 00:00:00\n",
      "2023-03-18 00:00:00\n",
      "2023-03-19 00:00:00\n",
      "2023-03-20 00:00:00\n",
      "2023-03-21 00:00:00\n",
      "2023-03-22 00:00:00\n",
      "2023-03-23 00:00:00\n",
      "2023-03-24 00:00:00\n",
      "2023-03-25 00:00:00\n",
      "2023-03-26 00:00:00\n",
      "2023-03-27 00:00:00\n",
      "2023-03-28 00:00:00\n",
      "2023-03-29 00:00:00\n",
      "2023-03-30 00:00:00\n",
      "2023-03-31 00:00:00\n",
      "2023-04-01 00:00:00\n",
      "2023-04-02 00:00:00\n",
      "2023-04-03 00:00:00\n",
      "2023-04-04 00:00:00\n",
      "2023-04-05 00:00:00\n",
      "2023-04-06 00:00:00\n",
      "2023-04-07 00:00:00\n",
      "2023-04-08 00:00:00\n",
      "2023-04-09 00:00:00\n",
      "2023-04-10 00:00:00\n",
      "2023-04-11 00:00:00\n",
      "2023-04-12 00:00:00\n",
      "2023-04-13 00:00:00\n",
      "2023-04-14 00:00:00\n",
      "2023-04-15 00:00:00\n",
      "2023-04-16 00:00:00\n",
      "2023-04-17 00:00:00\n",
      "2023-04-18 00:00:00\n",
      "2023-04-19 00:00:00\n",
      "2023-04-20 00:00:00\n",
      "2023-04-21 00:00:00\n",
      "2023-04-22 00:00:00\n",
      "2023-04-23 00:00:00\n",
      "2023-04-24 00:00:00\n",
      "2023-04-25 00:00:00\n",
      "2023-04-26 00:00:00\n",
      "2023-04-27 00:00:00\n",
      "2023-04-28 00:00:00\n",
      "2023-04-29 00:00:00\n",
      "2023-04-30 00:00:00\n",
      "2023-05-01 00:00:00\n",
      "2023-05-02 00:00:00\n",
      "2023-05-03 00:00:00\n",
      "2023-05-04 00:00:00\n",
      "2023-05-05 00:00:00\n",
      "2023-05-06 00:00:00\n",
      "2023-05-07 00:00:00\n",
      "2023-05-08 00:00:00\n",
      "2023-05-09 00:00:00\n",
      "2023-05-10 00:00:00\n",
      "2023-05-11 00:00:00\n",
      "2023-05-12 00:00:00\n",
      "2023-05-13 00:00:00\n",
      "2023-05-14 00:00:00\n",
      "2023-05-15 00:00:00\n",
      "2023-05-16 00:00:00\n",
      "2023-05-17 00:00:00\n",
      "2023-05-18 00:00:00\n",
      "2023-05-19 00:00:00\n",
      "2023-05-20 00:00:00\n",
      "2023-05-21 00:00:00\n",
      "2023-05-22 00:00:00\n",
      "2023-05-23 00:00:00\n",
      "2023-05-24 00:00:00\n",
      "2023-05-25 00:00:00\n",
      "2023-05-26 00:00:00\n",
      "2023-05-27 00:00:00\n",
      "2023-05-28 00:00:00\n",
      "2023-05-29 00:00:00\n",
      "2023-05-30 00:00:00\n",
      "2023-05-31 00:00:00\n",
      "2023-06-01 00:00:00\n",
      "2023-06-02 00:00:00\n",
      "2023-06-03 00:00:00\n",
      "2023-06-04 00:00:00\n",
      "2023-06-05 00:00:00\n",
      "2023-06-06 00:00:00\n",
      "2023-06-07 00:00:00\n",
      "2023-06-08 00:00:00\n",
      "2023-06-09 00:00:00\n",
      "2023-06-10 00:00:00\n",
      "2023-06-11 00:00:00\n",
      "2023-06-12 00:00:00\n",
      "2023-06-13 00:00:00\n",
      "2023-06-14 00:00:00\n",
      "2023-06-15 00:00:00\n",
      "2023-06-16 00:00:00\n",
      "2023-06-17 00:00:00\n",
      "2023-06-18 00:00:00\n",
      "2023-06-19 00:00:00\n",
      "2023-06-20 00:00:00\n",
      "2023-06-21 00:00:00\n",
      "2023-06-22 00:00:00\n",
      "2023-06-23 00:00:00\n",
      "2023-06-24 00:00:00\n",
      "2023-06-25 00:00:00\n",
      "2023-06-26 00:00:00\n",
      "2023-06-27 00:00:00\n",
      "2023-06-28 00:00:00\n",
      "2023-06-29 00:00:00\n",
      "2023-06-30 00:00:00\n",
      "2023-07-01 00:00:00\n",
      "2023-07-02 00:00:00\n",
      "2023-07-03 00:00:00\n",
      "2023-07-04 00:00:00\n",
      "2023-07-05 00:00:00\n",
      "2023-07-06 00:00:00\n",
      "2023-07-07 00:00:00\n",
      "2023-07-08 00:00:00\n",
      "2023-07-09 00:00:00\n",
      "2023-07-10 00:00:00\n",
      "2023-07-11 00:00:00\n",
      "2023-07-12 00:00:00\n",
      "2023-07-13 00:00:00\n",
      "2023-07-14 00:00:00\n",
      "2023-07-15 00:00:00\n",
      "2023-07-16 00:00:00\n",
      "2023-07-17 00:00:00\n",
      "2023-07-18 00:00:00\n",
      "2023-07-19 00:00:00\n",
      "2023-07-20 00:00:00\n",
      "2023-07-21 00:00:00\n",
      "2023-07-22 00:00:00\n",
      "2023-07-23 00:00:00\n",
      "2023-07-24 00:00:00\n",
      "2023-07-25 00:00:00\n",
      "2023-07-26 00:00:00\n",
      "2023-07-27 00:00:00\n",
      "2023-07-28 00:00:00\n",
      "2023-07-29 00:00:00\n",
      "2023-07-30 00:00:00\n",
      "2023-07-31 00:00:00\n",
      "2023-08-01 00:00:00\n",
      "2023-08-02 00:00:00\n",
      "2023-08-03 00:00:00\n",
      "2023-08-04 00:00:00\n",
      "2023-08-05 00:00:00\n",
      "2023-08-06 00:00:00\n",
      "2023-08-07 00:00:00\n",
      "2023-08-08 00:00:00\n",
      "2023-08-09 00:00:00\n",
      "2023-08-10 00:00:00\n",
      "2023-08-11 00:00:00\n",
      "2023-08-12 00:00:00\n",
      "2023-08-13 00:00:00\n",
      "2023-08-14 00:00:00\n",
      "2023-08-15 00:00:00\n",
      "2023-08-16 00:00:00\n",
      "2023-08-17 00:00:00\n",
      "2023-08-18 00:00:00\n",
      "2023-08-19 00:00:00\n",
      "2023-08-20 00:00:00\n",
      "2023-08-21 00:00:00\n",
      "2023-08-22 00:00:00\n",
      "2023-08-23 00:00:00\n",
      "2023-08-24 00:00:00\n",
      "2023-08-25 00:00:00\n",
      "2023-08-26 00:00:00\n",
      "2023-08-27 00:00:00\n",
      "2023-08-28 00:00:00\n",
      "2023-08-29 00:00:00\n",
      "2023-08-30 00:00:00\n",
      "2023-08-31 00:00:00\n",
      "2023-09-01 00:00:00\n",
      "2023-09-02 00:00:00\n",
      "2023-09-03 00:00:00\n",
      "2023-09-04 00:00:00\n",
      "2023-09-05 00:00:00\n",
      "2023-09-06 00:00:00\n",
      "2023-09-07 00:00:00\n",
      "2023-09-08 00:00:00\n",
      "2023-09-09 00:00:00\n",
      "2023-09-10 00:00:00\n",
      "2023-09-11 00:00:00\n",
      "2023-09-12 00:00:00\n",
      "2023-09-13 00:00:00\n",
      "2023-09-14 00:00:00\n",
      "2023-09-15 00:00:00\n",
      "2023-09-16 00:00:00\n",
      "2023-09-17 00:00:00\n",
      "2023-09-18 00:00:00\n",
      "2023-09-19 00:00:00\n",
      "2023-09-20 00:00:00\n",
      "2023-09-21 00:00:00\n",
      "2023-09-22 00:00:00\n",
      "2023-09-23 00:00:00\n",
      "2023-09-24 00:00:00\n",
      "2023-09-25 00:00:00\n",
      "2023-09-26 00:00:00\n",
      "2023-09-27 00:00:00\n",
      "2023-09-28 00:00:00\n",
      "2023-09-29 00:00:00\n",
      "2023-09-30 00:00:00\n",
      "2023-10-01 00:00:00\n",
      "2023-10-02 00:00:00\n",
      "2023-10-03 00:00:00\n",
      "2023-10-04 00:00:00\n",
      "2023-10-05 00:00:00\n",
      "2023-10-06 00:00:00\n",
      "2023-10-07 00:00:00\n",
      "2023-10-08 00:00:00\n",
      "2023-10-09 00:00:00\n",
      "2023-10-10 00:00:00\n",
      "2023-10-11 00:00:00\n",
      "2023-10-12 00:00:00\n",
      "2023-10-13 00:00:00\n",
      "2023-10-14 00:00:00\n",
      "2023-10-15 00:00:00\n",
      "2023-10-16 00:00:00\n",
      "2023-10-17 00:00:00\n",
      "2023-10-18 00:00:00\n",
      "2023-10-19 00:00:00\n",
      "2023-10-20 00:00:00\n",
      "2023-10-21 00:00:00\n",
      "2023-10-22 00:00:00\n",
      "2023-10-23 00:00:00\n",
      "2023-10-24 00:00:00\n",
      "2023-10-25 00:00:00\n",
      "2023-10-26 00:00:00\n",
      "2023-10-27 00:00:00\n",
      "2023-10-28 00:00:00\n",
      "2023-10-29 00:00:00\n",
      "2023-10-30 00:00:00\n",
      "2023-10-31 00:00:00\n",
      "2023-11-01 00:00:00\n",
      "2023-11-02 00:00:00\n",
      "2023-11-03 00:00:00\n",
      "2023-11-04 00:00:00\n",
      "2023-11-05 00:00:00\n",
      "2023-11-06 00:00:00\n",
      "2023-11-07 00:00:00\n",
      "2023-11-08 00:00:00\n",
      "2023-11-09 00:00:00\n",
      "2023-11-10 00:00:00\n",
      "2023-11-11 00:00:00\n",
      "2023-11-12 00:00:00\n",
      "2023-11-13 00:00:00\n",
      "2023-11-14 00:00:00\n",
      "2023-11-15 00:00:00\n",
      "2023-11-16 00:00:00\n",
      "2023-11-17 00:00:00\n",
      "2023-11-18 00:00:00\n",
      "2023-11-19 00:00:00\n",
      "2023-11-20 00:00:00\n",
      "2023-11-21 00:00:00\n",
      "2023-11-22 00:00:00\n",
      "2023-11-23 00:00:00\n",
      "2023-11-24 00:00:00\n",
      "2023-11-25 00:00:00\n",
      "2023-11-26 00:00:00\n",
      "2023-11-27 00:00:00\n",
      "2023-11-28 00:00:00\n",
      "2023-11-29 00:00:00\n",
      "2023-11-30 00:00:00\n",
      "2023-12-01 00:00:00\n",
      "2023-12-02 00:00:00\n",
      "2023-12-03 00:00:00\n",
      "2023-12-04 00:00:00\n",
      "2023-12-05 00:00:00\n",
      "2023-12-06 00:00:00\n",
      "2023-12-07 00:00:00\n",
      "2023-12-08 00:00:00\n",
      "2023-12-09 00:00:00\n",
      "2023-12-10 00:00:00\n",
      "2023-12-11 00:00:00\n",
      "2023-12-12 00:00:00\n",
      "2023-12-13 00:00:00\n",
      "2023-12-14 00:00:00\n",
      "2023-12-15 00:00:00\n",
      "2023-12-16 00:00:00\n",
      "2023-12-17 00:00:00\n",
      "2023-12-18 00:00:00\n",
      "2023-12-19 00:00:00\n",
      "2023-12-20 00:00:00\n",
      "2023-12-21 00:00:00\n",
      "2023-12-22 00:00:00\n",
      "2023-12-23 00:00:00\n",
      "2023-12-24 00:00:00\n",
      "2023-12-25 00:00:00\n",
      "2023-12-26 00:00:00\n",
      "2023-12-27 00:00:00\n",
      "2023-12-28 00:00:00\n",
      "2023-12-29 00:00:00\n",
      "2023-12-30 00:00:00\n",
      "2023-12-31 00:00:00\n"
     ]
    }
   ],
   "source": [
    "for i in pd.date_range('20th feb 2023','31st dec 2023'):\n",
    "    print(i)"
   ]
  },
  {
   "cell_type": "raw",
   "id": "52a96a3b",
   "metadata": {},
   "source": [
    "# pd.to_datetime\n",
    "# pd.to_timedelta\n",
    "# pd.DatetimeIndex\n",
    "# pd.date_range"
   ]
  },
  {
   "cell_type": "code",
   "execution_count": 39,
   "id": "8e15f392",
   "metadata": {},
   "outputs": [
    {
     "data": {
      "text/plain": [
       "DatetimeIndex(['2024-02-20', '2024-02-21', '2024-02-22', '2024-02-23',\n",
       "               '2024-02-24', '2024-02-25', '2024-02-26', '2024-02-27',\n",
       "               '2024-02-28', '2024-02-29'],\n",
       "              dtype='datetime64[ns]', freq='D')"
      ]
     },
     "execution_count": 39,
     "metadata": {},
     "output_type": "execute_result"
    }
   ],
   "source": [
    "pd.date_range('20th february 2024',periods=10)"
   ]
  },
  {
   "cell_type": "code",
   "execution_count": 40,
   "id": "3bd49f1b",
   "metadata": {},
   "outputs": [
    {
     "data": {
      "text/plain": [
       "DatetimeIndex(['2024-02-20', '2024-02-21', '2024-02-22', '2024-02-23',\n",
       "               '2024-02-24', '2024-02-25', '2024-02-26', '2024-02-27',\n",
       "               '2024-02-28', '2024-02-29'],\n",
       "              dtype='datetime64[ns]', freq='D')"
      ]
     },
     "execution_count": 40,
     "metadata": {},
     "output_type": "execute_result"
    }
   ],
   "source": [
    "pd.date_range('20th february 2024',periods=10,freq='d')"
   ]
  },
  {
   "cell_type": "code",
   "execution_count": 41,
   "id": "a3515960",
   "metadata": {},
   "outputs": [
    {
     "name": "stdout",
     "output_type": "stream",
     "text": [
      "2024-02-20 00:00:00\n",
      "2024-02-21 00:00:00\n",
      "2024-02-22 00:00:00\n",
      "2024-02-23 00:00:00\n",
      "2024-02-24 00:00:00\n",
      "2024-02-25 00:00:00\n",
      "2024-02-26 00:00:00\n",
      "2024-02-27 00:00:00\n",
      "2024-02-28 00:00:00\n",
      "2024-02-29 00:00:00\n"
     ]
    }
   ],
   "source": [
    "for i in pd.date_range('20th february 2024',periods=10,freq='d'):\n",
    "    print(i)"
   ]
  },
  {
   "cell_type": "code",
   "execution_count": 42,
   "id": "d3e7a699",
   "metadata": {},
   "outputs": [
    {
     "data": {
      "text/plain": [
       "DatetimeIndex(['2024-02-20', '2024-02-21', '2024-02-22', '2024-02-23',\n",
       "               '2024-02-26', '2024-02-27', '2024-02-28', '2024-02-29',\n",
       "               '2024-03-01', '2024-03-04'],\n",
       "              dtype='datetime64[ns]', freq='B')"
      ]
     },
     "execution_count": 42,
     "metadata": {},
     "output_type": "execute_result"
    }
   ],
   "source": [
    "pd.date_range('20th february 2024',periods=10,freq='b')"
   ]
  },
  {
   "cell_type": "code",
   "execution_count": 43,
   "id": "b489ef97",
   "metadata": {},
   "outputs": [
    {
     "name": "stdout",
     "output_type": "stream",
     "text": [
      "2024-02-20 00:00:00\n",
      "2024-02-21 00:00:00\n",
      "2024-02-22 00:00:00\n",
      "2024-02-23 00:00:00\n",
      "2024-02-26 00:00:00\n",
      "2024-02-27 00:00:00\n",
      "2024-02-28 00:00:00\n",
      "2024-02-29 00:00:00\n",
      "2024-03-01 00:00:00\n",
      "2024-03-04 00:00:00\n"
     ]
    }
   ],
   "source": [
    "for i in pd.date_range('20th february 2024',periods=10,freq='b'): # 'b' is a business dates. Sat and sunday will be avoided\n",
    "    print(i)"
   ]
  },
  {
   "cell_type": "code",
   "execution_count": 44,
   "id": "d6192086",
   "metadata": {},
   "outputs": [
    {
     "data": {
      "text/plain": [
       "DatetimeIndex(['2024-02-20', '2024-02-21', '2024-02-22', '2024-02-23',\n",
       "               '2024-02-26', '2024-02-27', '2024-02-28', '2024-02-29',\n",
       "               '2024-03-01', '2024-03-04',\n",
       "               ...\n",
       "               '2024-11-12', '2024-11-13', '2024-11-14', '2024-11-15',\n",
       "               '2024-11-18', '2024-11-19', '2024-11-20', '2024-11-21',\n",
       "               '2024-11-22', '2024-11-25'],\n",
       "              dtype='datetime64[ns]', length=200, freq='B')"
      ]
     },
     "execution_count": 44,
     "metadata": {},
     "output_type": "execute_result"
    }
   ],
   "source": [
    "pd.date_range('20th february 2024',periods=200,freq='b')"
   ]
  },
  {
   "cell_type": "code",
   "execution_count": 47,
   "id": "3e9ec03b",
   "metadata": {},
   "outputs": [],
   "source": [
    "data=pd.DataFrame({\"First\":np.random.randint(100,size=200)})"
   ]
  },
  {
   "cell_type": "code",
   "execution_count": 48,
   "id": "80ebc91a",
   "metadata": {},
   "outputs": [
    {
     "data": {
      "text/html": [
       "<div>\n",
       "<style scoped>\n",
       "    .dataframe tbody tr th:only-of-type {\n",
       "        vertical-align: middle;\n",
       "    }\n",
       "\n",
       "    .dataframe tbody tr th {\n",
       "        vertical-align: top;\n",
       "    }\n",
       "\n",
       "    .dataframe thead th {\n",
       "        text-align: right;\n",
       "    }\n",
       "</style>\n",
       "<table border=\"1\" class=\"dataframe\">\n",
       "  <thead>\n",
       "    <tr style=\"text-align: right;\">\n",
       "      <th></th>\n",
       "      <th>First</th>\n",
       "    </tr>\n",
       "  </thead>\n",
       "  <tbody>\n",
       "    <tr>\n",
       "      <th>0</th>\n",
       "      <td>91</td>\n",
       "    </tr>\n",
       "    <tr>\n",
       "      <th>1</th>\n",
       "      <td>44</td>\n",
       "    </tr>\n",
       "    <tr>\n",
       "      <th>2</th>\n",
       "      <td>95</td>\n",
       "    </tr>\n",
       "    <tr>\n",
       "      <th>3</th>\n",
       "      <td>5</td>\n",
       "    </tr>\n",
       "    <tr>\n",
       "      <th>4</th>\n",
       "      <td>69</td>\n",
       "    </tr>\n",
       "    <tr>\n",
       "      <th>...</th>\n",
       "      <td>...</td>\n",
       "    </tr>\n",
       "    <tr>\n",
       "      <th>195</th>\n",
       "      <td>80</td>\n",
       "    </tr>\n",
       "    <tr>\n",
       "      <th>196</th>\n",
       "      <td>31</td>\n",
       "    </tr>\n",
       "    <tr>\n",
       "      <th>197</th>\n",
       "      <td>86</td>\n",
       "    </tr>\n",
       "    <tr>\n",
       "      <th>198</th>\n",
       "      <td>22</td>\n",
       "    </tr>\n",
       "    <tr>\n",
       "      <th>199</th>\n",
       "      <td>37</td>\n",
       "    </tr>\n",
       "  </tbody>\n",
       "</table>\n",
       "<p>200 rows × 1 columns</p>\n",
       "</div>"
      ],
      "text/plain": [
       "     First\n",
       "0       91\n",
       "1       44\n",
       "2       95\n",
       "3        5\n",
       "4       69\n",
       "..     ...\n",
       "195     80\n",
       "196     31\n",
       "197     86\n",
       "198     22\n",
       "199     37\n",
       "\n",
       "[200 rows x 1 columns]"
      ]
     },
     "execution_count": 48,
     "metadata": {},
     "output_type": "execute_result"
    }
   ],
   "source": [
    "data"
   ]
  },
  {
   "cell_type": "code",
   "execution_count": 49,
   "id": "d584d303",
   "metadata": {},
   "outputs": [],
   "source": [
    "inx=pd.date_range('20th february 2024',periods=200,freq='b')"
   ]
  },
  {
   "cell_type": "code",
   "execution_count": 50,
   "id": "27c64600",
   "metadata": {},
   "outputs": [],
   "source": [
    "data=pd.DataFrame({\"First\":np.random.randint(100,size=200)},index=inx)"
   ]
  },
  {
   "cell_type": "code",
   "execution_count": 51,
   "id": "b6679a87",
   "metadata": {},
   "outputs": [
    {
     "data": {
      "text/html": [
       "<div>\n",
       "<style scoped>\n",
       "    .dataframe tbody tr th:only-of-type {\n",
       "        vertical-align: middle;\n",
       "    }\n",
       "\n",
       "    .dataframe tbody tr th {\n",
       "        vertical-align: top;\n",
       "    }\n",
       "\n",
       "    .dataframe thead th {\n",
       "        text-align: right;\n",
       "    }\n",
       "</style>\n",
       "<table border=\"1\" class=\"dataframe\">\n",
       "  <thead>\n",
       "    <tr style=\"text-align: right;\">\n",
       "      <th></th>\n",
       "      <th>First</th>\n",
       "    </tr>\n",
       "  </thead>\n",
       "  <tbody>\n",
       "    <tr>\n",
       "      <th>2024-02-20</th>\n",
       "      <td>77</td>\n",
       "    </tr>\n",
       "    <tr>\n",
       "      <th>2024-02-21</th>\n",
       "      <td>44</td>\n",
       "    </tr>\n",
       "    <tr>\n",
       "      <th>2024-02-22</th>\n",
       "      <td>79</td>\n",
       "    </tr>\n",
       "    <tr>\n",
       "      <th>2024-02-23</th>\n",
       "      <td>37</td>\n",
       "    </tr>\n",
       "    <tr>\n",
       "      <th>2024-02-26</th>\n",
       "      <td>11</td>\n",
       "    </tr>\n",
       "    <tr>\n",
       "      <th>...</th>\n",
       "      <td>...</td>\n",
       "    </tr>\n",
       "    <tr>\n",
       "      <th>2024-11-19</th>\n",
       "      <td>60</td>\n",
       "    </tr>\n",
       "    <tr>\n",
       "      <th>2024-11-20</th>\n",
       "      <td>11</td>\n",
       "    </tr>\n",
       "    <tr>\n",
       "      <th>2024-11-21</th>\n",
       "      <td>88</td>\n",
       "    </tr>\n",
       "    <tr>\n",
       "      <th>2024-11-22</th>\n",
       "      <td>96</td>\n",
       "    </tr>\n",
       "    <tr>\n",
       "      <th>2024-11-25</th>\n",
       "      <td>35</td>\n",
       "    </tr>\n",
       "  </tbody>\n",
       "</table>\n",
       "<p>200 rows × 1 columns</p>\n",
       "</div>"
      ],
      "text/plain": [
       "            First\n",
       "2024-02-20     77\n",
       "2024-02-21     44\n",
       "2024-02-22     79\n",
       "2024-02-23     37\n",
       "2024-02-26     11\n",
       "...           ...\n",
       "2024-11-19     60\n",
       "2024-11-20     11\n",
       "2024-11-21     88\n",
       "2024-11-22     96\n",
       "2024-11-25     35\n",
       "\n",
       "[200 rows x 1 columns]"
      ]
     },
     "execution_count": 51,
     "metadata": {},
     "output_type": "execute_result"
    }
   ],
   "source": [
    "data"
   ]
  },
  {
   "cell_type": "code",
   "execution_count": 52,
   "id": "dcc09062",
   "metadata": {},
   "outputs": [
    {
     "data": {
      "text/plain": [
       "DatetimeIndex(['2024-02-11', '2024-02-12', '2024-02-13', '2024-02-14',\n",
       "               '2024-02-15', '2024-02-16', '2024-02-17', '2024-02-18',\n",
       "               '2024-02-19', '2024-02-20'],\n",
       "              dtype='datetime64[ns]', freq='D')"
      ]
     },
     "execution_count": 52,
     "metadata": {},
     "output_type": "execute_result"
    }
   ],
   "source": [
    "pd.date_range(end='20th february 2024',periods=10,freq='d')"
   ]
  },
  {
   "cell_type": "code",
   "execution_count": 53,
   "id": "cfc7ba3f",
   "metadata": {},
   "outputs": [],
   "source": [
    "data['Date']=pd.date_range(start=\"20 feb 2024\",periods=200,freq='D')"
   ]
  },
  {
   "cell_type": "code",
   "execution_count": 54,
   "id": "e1b02598",
   "metadata": {},
   "outputs": [
    {
     "data": {
      "text/html": [
       "<div>\n",
       "<style scoped>\n",
       "    .dataframe tbody tr th:only-of-type {\n",
       "        vertical-align: middle;\n",
       "    }\n",
       "\n",
       "    .dataframe tbody tr th {\n",
       "        vertical-align: top;\n",
       "    }\n",
       "\n",
       "    .dataframe thead th {\n",
       "        text-align: right;\n",
       "    }\n",
       "</style>\n",
       "<table border=\"1\" class=\"dataframe\">\n",
       "  <thead>\n",
       "    <tr style=\"text-align: right;\">\n",
       "      <th></th>\n",
       "      <th>First</th>\n",
       "      <th>Date</th>\n",
       "    </tr>\n",
       "  </thead>\n",
       "  <tbody>\n",
       "    <tr>\n",
       "      <th>2024-02-20</th>\n",
       "      <td>77</td>\n",
       "      <td>2024-02-20</td>\n",
       "    </tr>\n",
       "    <tr>\n",
       "      <th>2024-02-21</th>\n",
       "      <td>44</td>\n",
       "      <td>2024-02-21</td>\n",
       "    </tr>\n",
       "    <tr>\n",
       "      <th>2024-02-22</th>\n",
       "      <td>79</td>\n",
       "      <td>2024-02-22</td>\n",
       "    </tr>\n",
       "    <tr>\n",
       "      <th>2024-02-23</th>\n",
       "      <td>37</td>\n",
       "      <td>2024-02-23</td>\n",
       "    </tr>\n",
       "    <tr>\n",
       "      <th>2024-02-26</th>\n",
       "      <td>11</td>\n",
       "      <td>2024-02-24</td>\n",
       "    </tr>\n",
       "    <tr>\n",
       "      <th>...</th>\n",
       "      <td>...</td>\n",
       "      <td>...</td>\n",
       "    </tr>\n",
       "    <tr>\n",
       "      <th>2024-11-19</th>\n",
       "      <td>60</td>\n",
       "      <td>2024-09-02</td>\n",
       "    </tr>\n",
       "    <tr>\n",
       "      <th>2024-11-20</th>\n",
       "      <td>11</td>\n",
       "      <td>2024-09-03</td>\n",
       "    </tr>\n",
       "    <tr>\n",
       "      <th>2024-11-21</th>\n",
       "      <td>88</td>\n",
       "      <td>2024-09-04</td>\n",
       "    </tr>\n",
       "    <tr>\n",
       "      <th>2024-11-22</th>\n",
       "      <td>96</td>\n",
       "      <td>2024-09-05</td>\n",
       "    </tr>\n",
       "    <tr>\n",
       "      <th>2024-11-25</th>\n",
       "      <td>35</td>\n",
       "      <td>2024-09-06</td>\n",
       "    </tr>\n",
       "  </tbody>\n",
       "</table>\n",
       "<p>200 rows × 2 columns</p>\n",
       "</div>"
      ],
      "text/plain": [
       "            First       Date\n",
       "2024-02-20     77 2024-02-20\n",
       "2024-02-21     44 2024-02-21\n",
       "2024-02-22     79 2024-02-22\n",
       "2024-02-23     37 2024-02-23\n",
       "2024-02-26     11 2024-02-24\n",
       "...           ...        ...\n",
       "2024-11-19     60 2024-09-02\n",
       "2024-11-20     11 2024-09-03\n",
       "2024-11-21     88 2024-09-04\n",
       "2024-11-22     96 2024-09-05\n",
       "2024-11-25     35 2024-09-06\n",
       "\n",
       "[200 rows x 2 columns]"
      ]
     },
     "execution_count": 54,
     "metadata": {},
     "output_type": "execute_result"
    }
   ],
   "source": [
    "data"
   ]
  },
  {
   "cell_type": "code",
   "execution_count": 55,
   "id": "e3fdaaa2",
   "metadata": {},
   "outputs": [
    {
     "data": {
      "text/html": [
       "<div>\n",
       "<style scoped>\n",
       "    .dataframe tbody tr th:only-of-type {\n",
       "        vertical-align: middle;\n",
       "    }\n",
       "\n",
       "    .dataframe tbody tr th {\n",
       "        vertical-align: top;\n",
       "    }\n",
       "\n",
       "    .dataframe thead th {\n",
       "        text-align: right;\n",
       "    }\n",
       "</style>\n",
       "<table border=\"1\" class=\"dataframe\">\n",
       "  <thead>\n",
       "    <tr style=\"text-align: right;\">\n",
       "      <th></th>\n",
       "      <th>First</th>\n",
       "    </tr>\n",
       "    <tr>\n",
       "      <th>Date</th>\n",
       "      <th></th>\n",
       "    </tr>\n",
       "  </thead>\n",
       "  <tbody>\n",
       "    <tr>\n",
       "      <th>2024-02-20</th>\n",
       "      <td>77</td>\n",
       "    </tr>\n",
       "    <tr>\n",
       "      <th>2024-02-21</th>\n",
       "      <td>44</td>\n",
       "    </tr>\n",
       "    <tr>\n",
       "      <th>2024-02-22</th>\n",
       "      <td>79</td>\n",
       "    </tr>\n",
       "    <tr>\n",
       "      <th>2024-02-23</th>\n",
       "      <td>37</td>\n",
       "    </tr>\n",
       "    <tr>\n",
       "      <th>2024-02-24</th>\n",
       "      <td>11</td>\n",
       "    </tr>\n",
       "    <tr>\n",
       "      <th>...</th>\n",
       "      <td>...</td>\n",
       "    </tr>\n",
       "    <tr>\n",
       "      <th>2024-09-02</th>\n",
       "      <td>60</td>\n",
       "    </tr>\n",
       "    <tr>\n",
       "      <th>2024-09-03</th>\n",
       "      <td>11</td>\n",
       "    </tr>\n",
       "    <tr>\n",
       "      <th>2024-09-04</th>\n",
       "      <td>88</td>\n",
       "    </tr>\n",
       "    <tr>\n",
       "      <th>2024-09-05</th>\n",
       "      <td>96</td>\n",
       "    </tr>\n",
       "    <tr>\n",
       "      <th>2024-09-06</th>\n",
       "      <td>35</td>\n",
       "    </tr>\n",
       "  </tbody>\n",
       "</table>\n",
       "<p>200 rows × 1 columns</p>\n",
       "</div>"
      ],
      "text/plain": [
       "            First\n",
       "Date             \n",
       "2024-02-20     77\n",
       "2024-02-21     44\n",
       "2024-02-22     79\n",
       "2024-02-23     37\n",
       "2024-02-24     11\n",
       "...           ...\n",
       "2024-09-02     60\n",
       "2024-09-03     11\n",
       "2024-09-04     88\n",
       "2024-09-05     96\n",
       "2024-09-06     35\n",
       "\n",
       "[200 rows x 1 columns]"
      ]
     },
     "execution_count": 55,
     "metadata": {},
     "output_type": "execute_result"
    }
   ],
   "source": [
    "data.set_index(\"Date\")"
   ]
  },
  {
   "cell_type": "code",
   "execution_count": 56,
   "id": "8e8204ec",
   "metadata": {},
   "outputs": [
    {
     "name": "stderr",
     "output_type": "stream",
     "text": [
      "C:\\Users\\91701\\AppData\\Local\\Temp\\ipykernel_1548\\1725236232.py:1: UserWarning: Parsing dates in DD/MM/YYYY format when dayfirst=False (the default) was specified. This may lead to inconsistently parsed dates! Specify a format to ensure consistent parsing.\n",
      "  pd.to_datetime('20/2/2024')\n"
     ]
    },
    {
     "data": {
      "text/plain": [
       "Timestamp('2024-02-20 00:00:00')"
      ]
     },
     "execution_count": 56,
     "metadata": {},
     "output_type": "execute_result"
    }
   ],
   "source": [
    "pd.to_datetime('20/2/2024')"
   ]
  },
  {
   "cell_type": "code",
   "execution_count": 57,
   "id": "3c1355be",
   "metadata": {},
   "outputs": [
    {
     "data": {
      "text/plain": [
       "Timestamp('2024-02-20 00:00:00')"
      ]
     },
     "execution_count": 57,
     "metadata": {},
     "output_type": "execute_result"
    }
   ],
   "source": [
    "pd.to_datetime('20/2/2024',dayfirst=True)"
   ]
  },
  {
   "cell_type": "code",
   "execution_count": 61,
   "id": "01c143e0",
   "metadata": {},
   "outputs": [],
   "source": [
    "data = pd.read_csv(\"C:/Users/91701/Desktop/weather.csv\")"
   ]
  },
  {
   "cell_type": "code",
   "execution_count": 62,
   "id": "97d4c4f9",
   "metadata": {},
   "outputs": [
    {
     "data": {
      "text/html": [
       "<div>\n",
       "<style scoped>\n",
       "    .dataframe tbody tr th:only-of-type {\n",
       "        vertical-align: middle;\n",
       "    }\n",
       "\n",
       "    .dataframe tbody tr th {\n",
       "        vertical-align: top;\n",
       "    }\n",
       "\n",
       "    .dataframe thead th {\n",
       "        text-align: right;\n",
       "    }\n",
       "</style>\n",
       "<table border=\"1\" class=\"dataframe\">\n",
       "  <thead>\n",
       "    <tr style=\"text-align: right;\">\n",
       "      <th></th>\n",
       "      <th>day</th>\n",
       "      <th>temperature</th>\n",
       "      <th>windspeed</th>\n",
       "      <th>event</th>\n",
       "    </tr>\n",
       "  </thead>\n",
       "  <tbody>\n",
       "    <tr>\n",
       "      <th>0</th>\n",
       "      <td>01-01-2017</td>\n",
       "      <td>32.0</td>\n",
       "      <td>6.0</td>\n",
       "      <td>Rain</td>\n",
       "    </tr>\n",
       "    <tr>\n",
       "      <th>1</th>\n",
       "      <td>01-04-2017</td>\n",
       "      <td>NaN</td>\n",
       "      <td>9.0</td>\n",
       "      <td>Sunny</td>\n",
       "    </tr>\n",
       "    <tr>\n",
       "      <th>2</th>\n",
       "      <td>01-05-2017</td>\n",
       "      <td>28.0</td>\n",
       "      <td>NaN</td>\n",
       "      <td>Snow</td>\n",
       "    </tr>\n",
       "    <tr>\n",
       "      <th>3</th>\n",
       "      <td>01-06-2017</td>\n",
       "      <td>NaN</td>\n",
       "      <td>7.0</td>\n",
       "      <td>NaN</td>\n",
       "    </tr>\n",
       "    <tr>\n",
       "      <th>4</th>\n",
       "      <td>01-07-2017</td>\n",
       "      <td>32.0</td>\n",
       "      <td>NaN</td>\n",
       "      <td>Rain</td>\n",
       "    </tr>\n",
       "    <tr>\n",
       "      <th>5</th>\n",
       "      <td>01-08-2017</td>\n",
       "      <td>NaN</td>\n",
       "      <td>NaN</td>\n",
       "      <td>Sunny</td>\n",
       "    </tr>\n",
       "    <tr>\n",
       "      <th>6</th>\n",
       "      <td>01-09-2017</td>\n",
       "      <td>NaN</td>\n",
       "      <td>NaN</td>\n",
       "      <td>NaN</td>\n",
       "    </tr>\n",
       "    <tr>\n",
       "      <th>7</th>\n",
       "      <td>01-10-2017</td>\n",
       "      <td>34.0</td>\n",
       "      <td>8.0</td>\n",
       "      <td>Cloudy</td>\n",
       "    </tr>\n",
       "    <tr>\n",
       "      <th>8</th>\n",
       "      <td>01-11-2017</td>\n",
       "      <td>40.0</td>\n",
       "      <td>12.0</td>\n",
       "      <td>Sunny</td>\n",
       "    </tr>\n",
       "  </tbody>\n",
       "</table>\n",
       "</div>"
      ],
      "text/plain": [
       "          day  temperature  windspeed   event\n",
       "0  01-01-2017         32.0        6.0    Rain\n",
       "1  01-04-2017          NaN        9.0   Sunny\n",
       "2  01-05-2017         28.0        NaN    Snow\n",
       "3  01-06-2017          NaN        7.0     NaN\n",
       "4  01-07-2017         32.0        NaN    Rain\n",
       "5  01-08-2017          NaN        NaN   Sunny\n",
       "6  01-09-2017          NaN        NaN     NaN\n",
       "7  01-10-2017         34.0        8.0  Cloudy\n",
       "8  01-11-2017         40.0       12.0   Sunny"
      ]
     },
     "execution_count": 62,
     "metadata": {},
     "output_type": "execute_result"
    }
   ],
   "source": [
    "data"
   ]
  },
  {
   "cell_type": "code",
   "execution_count": 63,
   "id": "05fa3c13",
   "metadata": {},
   "outputs": [
    {
     "name": "stdout",
     "output_type": "stream",
     "text": [
      "<class 'pandas.core.frame.DataFrame'>\n",
      "RangeIndex: 9 entries, 0 to 8\n",
      "Data columns (total 4 columns):\n",
      " #   Column       Non-Null Count  Dtype  \n",
      "---  ------       --------------  -----  \n",
      " 0   day          9 non-null      object \n",
      " 1   temperature  5 non-null      float64\n",
      " 2   windspeed    5 non-null      float64\n",
      " 3   event        7 non-null      object \n",
      "dtypes: float64(2), object(2)\n",
      "memory usage: 420.0+ bytes\n"
     ]
    }
   ],
   "source": [
    "data.info()"
   ]
  },
  {
   "cell_type": "code",
   "execution_count": 64,
   "id": "0581862f",
   "metadata": {},
   "outputs": [],
   "source": [
    "# See here day is object datatype"
   ]
  },
  {
   "cell_type": "code",
   "execution_count": 68,
   "id": "a484e173",
   "metadata": {},
   "outputs": [],
   "source": [
    "data = data.infer_objects()"
   ]
  },
  {
   "cell_type": "code",
   "execution_count": 69,
   "id": "8448a317",
   "metadata": {},
   "outputs": [
    {
     "data": {
      "text/plain": [
       "day             object\n",
       "temperature    float64\n",
       "windspeed      float64\n",
       "event           object\n",
       "dtype: object"
      ]
     },
     "execution_count": 69,
     "metadata": {},
     "output_type": "execute_result"
    }
   ],
   "source": [
    "data.dtypes"
   ]
  },
  {
   "cell_type": "code",
   "execution_count": 67,
   "id": "4b054c47",
   "metadata": {},
   "outputs": [],
   "source": [
    "# See again it shows object datatype"
   ]
  },
  {
   "cell_type": "code",
   "execution_count": 70,
   "id": "222420f4",
   "metadata": {},
   "outputs": [],
   "source": [
    "data = pd.read_csv(\"C:/Users/91701/Desktop/weather.csv\", parse_dates=['day'])"
   ]
  },
  {
   "cell_type": "code",
   "execution_count": 71,
   "id": "bb468a9a",
   "metadata": {},
   "outputs": [
    {
     "data": {
      "text/html": [
       "<div>\n",
       "<style scoped>\n",
       "    .dataframe tbody tr th:only-of-type {\n",
       "        vertical-align: middle;\n",
       "    }\n",
       "\n",
       "    .dataframe tbody tr th {\n",
       "        vertical-align: top;\n",
       "    }\n",
       "\n",
       "    .dataframe thead th {\n",
       "        text-align: right;\n",
       "    }\n",
       "</style>\n",
       "<table border=\"1\" class=\"dataframe\">\n",
       "  <thead>\n",
       "    <tr style=\"text-align: right;\">\n",
       "      <th></th>\n",
       "      <th>day</th>\n",
       "      <th>temperature</th>\n",
       "      <th>windspeed</th>\n",
       "      <th>event</th>\n",
       "    </tr>\n",
       "  </thead>\n",
       "  <tbody>\n",
       "    <tr>\n",
       "      <th>0</th>\n",
       "      <td>2017-01-01</td>\n",
       "      <td>32.0</td>\n",
       "      <td>6.0</td>\n",
       "      <td>Rain</td>\n",
       "    </tr>\n",
       "    <tr>\n",
       "      <th>1</th>\n",
       "      <td>2017-01-04</td>\n",
       "      <td>NaN</td>\n",
       "      <td>9.0</td>\n",
       "      <td>Sunny</td>\n",
       "    </tr>\n",
       "    <tr>\n",
       "      <th>2</th>\n",
       "      <td>2017-01-05</td>\n",
       "      <td>28.0</td>\n",
       "      <td>NaN</td>\n",
       "      <td>Snow</td>\n",
       "    </tr>\n",
       "    <tr>\n",
       "      <th>3</th>\n",
       "      <td>2017-01-06</td>\n",
       "      <td>NaN</td>\n",
       "      <td>7.0</td>\n",
       "      <td>NaN</td>\n",
       "    </tr>\n",
       "    <tr>\n",
       "      <th>4</th>\n",
       "      <td>2017-01-07</td>\n",
       "      <td>32.0</td>\n",
       "      <td>NaN</td>\n",
       "      <td>Rain</td>\n",
       "    </tr>\n",
       "    <tr>\n",
       "      <th>5</th>\n",
       "      <td>2017-01-08</td>\n",
       "      <td>NaN</td>\n",
       "      <td>NaN</td>\n",
       "      <td>Sunny</td>\n",
       "    </tr>\n",
       "    <tr>\n",
       "      <th>6</th>\n",
       "      <td>2017-01-09</td>\n",
       "      <td>NaN</td>\n",
       "      <td>NaN</td>\n",
       "      <td>NaN</td>\n",
       "    </tr>\n",
       "    <tr>\n",
       "      <th>7</th>\n",
       "      <td>2017-01-10</td>\n",
       "      <td>34.0</td>\n",
       "      <td>8.0</td>\n",
       "      <td>Cloudy</td>\n",
       "    </tr>\n",
       "    <tr>\n",
       "      <th>8</th>\n",
       "      <td>2017-01-11</td>\n",
       "      <td>40.0</td>\n",
       "      <td>12.0</td>\n",
       "      <td>Sunny</td>\n",
       "    </tr>\n",
       "  </tbody>\n",
       "</table>\n",
       "</div>"
      ],
      "text/plain": [
       "         day  temperature  windspeed   event\n",
       "0 2017-01-01         32.0        6.0    Rain\n",
       "1 2017-01-04          NaN        9.0   Sunny\n",
       "2 2017-01-05         28.0        NaN    Snow\n",
       "3 2017-01-06          NaN        7.0     NaN\n",
       "4 2017-01-07         32.0        NaN    Rain\n",
       "5 2017-01-08          NaN        NaN   Sunny\n",
       "6 2017-01-09          NaN        NaN     NaN\n",
       "7 2017-01-10         34.0        8.0  Cloudy\n",
       "8 2017-01-11         40.0       12.0   Sunny"
      ]
     },
     "execution_count": 71,
     "metadata": {},
     "output_type": "execute_result"
    }
   ],
   "source": [
    "data"
   ]
  },
  {
   "cell_type": "code",
   "execution_count": 73,
   "id": "00c759bb",
   "metadata": {},
   "outputs": [
    {
     "name": "stdout",
     "output_type": "stream",
     "text": [
      "<class 'pandas.core.frame.DataFrame'>\n",
      "RangeIndex: 9 entries, 0 to 8\n",
      "Data columns (total 4 columns):\n",
      " #   Column       Non-Null Count  Dtype         \n",
      "---  ------       --------------  -----         \n",
      " 0   day          9 non-null      datetime64[ns]\n",
      " 1   temperature  5 non-null      float64       \n",
      " 2   windspeed    5 non-null      float64       \n",
      " 3   event        7 non-null      object        \n",
      "dtypes: datetime64[ns](1), float64(2), object(1)\n",
      "memory usage: 420.0+ bytes\n"
     ]
    }
   ],
   "source": [
    "data.info()"
   ]
  },
  {
   "cell_type": "code",
   "execution_count": 74,
   "id": "fbcbbb0b",
   "metadata": {},
   "outputs": [
    {
     "data": {
      "text/html": [
       "<div>\n",
       "<style scoped>\n",
       "    .dataframe tbody tr th:only-of-type {\n",
       "        vertical-align: middle;\n",
       "    }\n",
       "\n",
       "    .dataframe tbody tr th {\n",
       "        vertical-align: top;\n",
       "    }\n",
       "\n",
       "    .dataframe thead th {\n",
       "        text-align: right;\n",
       "    }\n",
       "</style>\n",
       "<table border=\"1\" class=\"dataframe\">\n",
       "  <thead>\n",
       "    <tr style=\"text-align: right;\">\n",
       "      <th></th>\n",
       "      <th>temperature</th>\n",
       "      <th>windspeed</th>\n",
       "      <th>event</th>\n",
       "    </tr>\n",
       "    <tr>\n",
       "      <th>day</th>\n",
       "      <th></th>\n",
       "      <th></th>\n",
       "      <th></th>\n",
       "    </tr>\n",
       "  </thead>\n",
       "  <tbody>\n",
       "    <tr>\n",
       "      <th>2017-01-01</th>\n",
       "      <td>32.0</td>\n",
       "      <td>6.0</td>\n",
       "      <td>Rain</td>\n",
       "    </tr>\n",
       "    <tr>\n",
       "      <th>2017-01-04</th>\n",
       "      <td>NaN</td>\n",
       "      <td>9.0</td>\n",
       "      <td>Sunny</td>\n",
       "    </tr>\n",
       "    <tr>\n",
       "      <th>2017-01-05</th>\n",
       "      <td>28.0</td>\n",
       "      <td>NaN</td>\n",
       "      <td>Snow</td>\n",
       "    </tr>\n",
       "    <tr>\n",
       "      <th>2017-01-06</th>\n",
       "      <td>NaN</td>\n",
       "      <td>7.0</td>\n",
       "      <td>NaN</td>\n",
       "    </tr>\n",
       "    <tr>\n",
       "      <th>2017-01-07</th>\n",
       "      <td>32.0</td>\n",
       "      <td>NaN</td>\n",
       "      <td>Rain</td>\n",
       "    </tr>\n",
       "    <tr>\n",
       "      <th>2017-01-08</th>\n",
       "      <td>NaN</td>\n",
       "      <td>NaN</td>\n",
       "      <td>Sunny</td>\n",
       "    </tr>\n",
       "    <tr>\n",
       "      <th>2017-01-09</th>\n",
       "      <td>NaN</td>\n",
       "      <td>NaN</td>\n",
       "      <td>NaN</td>\n",
       "    </tr>\n",
       "    <tr>\n",
       "      <th>2017-01-10</th>\n",
       "      <td>34.0</td>\n",
       "      <td>8.0</td>\n",
       "      <td>Cloudy</td>\n",
       "    </tr>\n",
       "    <tr>\n",
       "      <th>2017-01-11</th>\n",
       "      <td>40.0</td>\n",
       "      <td>12.0</td>\n",
       "      <td>Sunny</td>\n",
       "    </tr>\n",
       "  </tbody>\n",
       "</table>\n",
       "</div>"
      ],
      "text/plain": [
       "            temperature  windspeed   event\n",
       "day                                       \n",
       "2017-01-01         32.0        6.0    Rain\n",
       "2017-01-04          NaN        9.0   Sunny\n",
       "2017-01-05         28.0        NaN    Snow\n",
       "2017-01-06          NaN        7.0     NaN\n",
       "2017-01-07         32.0        NaN    Rain\n",
       "2017-01-08          NaN        NaN   Sunny\n",
       "2017-01-09          NaN        NaN     NaN\n",
       "2017-01-10         34.0        8.0  Cloudy\n",
       "2017-01-11         40.0       12.0   Sunny"
      ]
     },
     "execution_count": 74,
     "metadata": {},
     "output_type": "execute_result"
    }
   ],
   "source": [
    "data.set_index(\"day\")"
   ]
  }
 ],
 "metadata": {
  "kernelspec": {
   "display_name": "Python 3 (ipykernel)",
   "language": "python",
   "name": "python3"
  },
  "language_info": {
   "codemirror_mode": {
    "name": "ipython",
    "version": 3
   },
   "file_extension": ".py",
   "mimetype": "text/x-python",
   "name": "python",
   "nbconvert_exporter": "python",
   "pygments_lexer": "ipython3",
   "version": "3.11.4"
  }
 },
 "nbformat": 4,
 "nbformat_minor": 5
}
