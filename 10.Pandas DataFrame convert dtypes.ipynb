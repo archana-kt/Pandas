{
 "cells": [
  {
   "cell_type": "markdown",
   "id": "d4981e53-af07-4db7-a58c-b7c2d17b2cef",
   "metadata": {},
   "source": [
    "# Pandas DataFrame convert dtypes"
   ]
  },
  {
   "cell_type": "code",
   "execution_count": 1,
   "id": "4e9c8b56-2124-44e6-a57b-c6b68829abf2",
   "metadata": {},
   "outputs": [],
   "source": [
    "import pandas as pd"
   ]
  },
  {
   "cell_type": "code",
   "execution_count": 2,
   "id": "ac479898-5805-4149-8869-bcb42cb2c265",
   "metadata": {},
   "outputs": [],
   "source": [
    "import numpy as np"
   ]
  },
  {
   "cell_type": "code",
   "execution_count": 5,
   "id": "10fab8ec-5601-4355-bcee-84cfe56ccc70",
   "metadata": {},
   "outputs": [],
   "source": [
    "data = pd.DataFrame({\n",
    "    \"First\" : pd.Series([1,2,3], dtype = np.dtype(\"int32\")),\n",
    "    \"Second\" : pd.Series([\"x\",\"y\",\"z\"], dtype = np.dtype(\"O\")),\n",
    "    \"Third\" : pd.Series([True, False, np.nan], dtype = np.dtype(\"O\")),\n",
    "    \"Fourth\" : pd.Series([\"h\",\"i\",np.nan], dtype = np.dtype(\"O\")),\n",
    "    \"Fifth\" : pd.Series([10,np.nan,20], dtype = np.dtype(\"float\")),\n",
    "    \"Sixth\" : pd.Series([np.nan,100.5,200], dtype = np.dtype(\"float\")),\n",
    "})"
   ]
  },
  {
   "cell_type": "code",
   "execution_count": 6,
   "id": "aa6ad28a-d7d7-4676-9575-53636f5962bd",
   "metadata": {},
   "outputs": [
    {
     "data": {
      "text/html": [
       "<div>\n",
       "<style scoped>\n",
       "    .dataframe tbody tr th:only-of-type {\n",
       "        vertical-align: middle;\n",
       "    }\n",
       "\n",
       "    .dataframe tbody tr th {\n",
       "        vertical-align: top;\n",
       "    }\n",
       "\n",
       "    .dataframe thead th {\n",
       "        text-align: right;\n",
       "    }\n",
       "</style>\n",
       "<table border=\"1\" class=\"dataframe\">\n",
       "  <thead>\n",
       "    <tr style=\"text-align: right;\">\n",
       "      <th></th>\n",
       "      <th>First</th>\n",
       "      <th>Second</th>\n",
       "      <th>Third</th>\n",
       "      <th>Fourth</th>\n",
       "      <th>Fifth</th>\n",
       "      <th>Sixth</th>\n",
       "    </tr>\n",
       "  </thead>\n",
       "  <tbody>\n",
       "    <tr>\n",
       "      <th>0</th>\n",
       "      <td>1</td>\n",
       "      <td>x</td>\n",
       "      <td>True</td>\n",
       "      <td>h</td>\n",
       "      <td>10.0</td>\n",
       "      <td>NaN</td>\n",
       "    </tr>\n",
       "    <tr>\n",
       "      <th>1</th>\n",
       "      <td>2</td>\n",
       "      <td>y</td>\n",
       "      <td>False</td>\n",
       "      <td>i</td>\n",
       "      <td>NaN</td>\n",
       "      <td>100.5</td>\n",
       "    </tr>\n",
       "    <tr>\n",
       "      <th>2</th>\n",
       "      <td>3</td>\n",
       "      <td>z</td>\n",
       "      <td>NaN</td>\n",
       "      <td>NaN</td>\n",
       "      <td>20.0</td>\n",
       "      <td>200.0</td>\n",
       "    </tr>\n",
       "  </tbody>\n",
       "</table>\n",
       "</div>"
      ],
      "text/plain": [
       "   First Second  Third Fourth  Fifth  Sixth\n",
       "0      1      x   True      h   10.0    NaN\n",
       "1      2      y  False      i    NaN  100.5\n",
       "2      3      z    NaN    NaN   20.0  200.0"
      ]
     },
     "execution_count": 6,
     "metadata": {},
     "output_type": "execute_result"
    }
   ],
   "source": [
    "data"
   ]
  },
  {
   "cell_type": "code",
   "execution_count": 7,
   "id": "22753162-0e8e-4869-85a3-22b6247ac546",
   "metadata": {},
   "outputs": [
    {
     "name": "stdout",
     "output_type": "stream",
     "text": [
      "+----+---------+----------+---------+----------+---------+---------+\n",
      "|    |   First | Second   |   Third | Fourth   |   Fifth |   Sixth |\n",
      "+====+=========+==========+=========+==========+=========+=========+\n",
      "|  0 |       1 | x        |       1 | h        |      10 |   nan   |\n",
      "+----+---------+----------+---------+----------+---------+---------+\n",
      "|  1 |       2 | y        |       0 | i        |     nan |   100.5 |\n",
      "+----+---------+----------+---------+----------+---------+---------+\n",
      "|  2 |       3 | z        |     nan | nan      |      20 |   200   |\n",
      "+----+---------+----------+---------+----------+---------+---------+\n"
     ]
    }
   ],
   "source": [
    "print(data.to_markdown(tablefmt = \"grid\"))"
   ]
  },
  {
   "cell_type": "code",
   "execution_count": 8,
   "id": "10c02e9a-9940-45dc-ad4b-2dc5728172ab",
   "metadata": {},
   "outputs": [],
   "source": [
    "# now it's a dataframe"
   ]
  },
  {
   "cell_type": "code",
   "execution_count": 9,
   "id": "c3813a80-68e8-44f5-be9c-421dc0cdb691",
   "metadata": {},
   "outputs": [
    {
     "name": "stdout",
     "output_type": "stream",
     "text": [
      "<class 'pandas.core.frame.DataFrame'>\n",
      "RangeIndex: 3 entries, 0 to 2\n",
      "Data columns (total 6 columns):\n",
      " #   Column  Non-Null Count  Dtype  \n",
      "---  ------  --------------  -----  \n",
      " 0   First   3 non-null      int32  \n",
      " 1   Second  3 non-null      object \n",
      " 2   Third   2 non-null      object \n",
      " 3   Fourth  2 non-null      object \n",
      " 4   Fifth   2 non-null      float64\n",
      " 5   Sixth   2 non-null      float64\n",
      "dtypes: float64(2), int32(1), object(3)\n",
      "memory usage: 264.0+ bytes\n"
     ]
    }
   ],
   "source": [
    "data.info()"
   ]
  },
  {
   "cell_type": "code",
   "execution_count": 10,
   "id": "6c44ed7d-7740-4e78-80f0-9c73fe724aad",
   "metadata": {},
   "outputs": [],
   "source": [
    "# object - Bcoz numerical is combined with non-null values"
   ]
  },
  {
   "cell_type": "code",
   "execution_count": 11,
   "id": "cdbdcacd-7152-49c8-b4d5-a489e5ccf106",
   "metadata": {},
   "outputs": [],
   "source": [
    "# convert_dtypes() - this will convert the column of best possible data types"
   ]
  },
  {
   "cell_type": "code",
   "execution_count": 12,
   "id": "c14c7c13-1903-41c0-be5a-c0588fd88fb6",
   "metadata": {},
   "outputs": [],
   "source": [
    "data1 = data.convert_dtypes()"
   ]
  },
  {
   "cell_type": "code",
   "execution_count": 13,
   "id": "7be773e6-f019-4f0b-8668-63a8db940ad1",
   "metadata": {},
   "outputs": [
    {
     "name": "stdout",
     "output_type": "stream",
     "text": [
      "+----+---------+----------+---------+----------+---------+---------+\n",
      "|    |   First | Second   | Third   | Fourth   | Fifth   | Sixth   |\n",
      "+====+=========+==========+=========+==========+=========+=========+\n",
      "|  0 |       1 | x        | True    | h        | 10      | <NA>    |\n",
      "+----+---------+----------+---------+----------+---------+---------+\n",
      "|  1 |       2 | y        | False   | i        | <NA>    | 100.5   |\n",
      "+----+---------+----------+---------+----------+---------+---------+\n",
      "|  2 |       3 | z        | <NA>    | <NA>     | 20      | 200.0   |\n",
      "+----+---------+----------+---------+----------+---------+---------+\n"
     ]
    }
   ],
   "source": [
    "print(data1.to_markdown(tablefmt = \"grid\"))"
   ]
  },
  {
   "cell_type": "code",
   "execution_count": 14,
   "id": "fd8f626b-32ec-43bc-a203-b7240c3f9b46",
   "metadata": {},
   "outputs": [
    {
     "name": "stdout",
     "output_type": "stream",
     "text": [
      "<class 'pandas.core.frame.DataFrame'>\n",
      "RangeIndex: 3 entries, 0 to 2\n",
      "Data columns (total 6 columns):\n",
      " #   Column  Non-Null Count  Dtype  \n",
      "---  ------  --------------  -----  \n",
      " 0   First   3 non-null      Int32  \n",
      " 1   Second  3 non-null      string \n",
      " 2   Third   2 non-null      boolean\n",
      " 3   Fourth  2 non-null      string \n",
      " 4   Fifth   2 non-null      Int64  \n",
      " 5   Sixth   2 non-null      Float64\n",
      "dtypes: Float64(1), Int32(1), Int64(1), boolean(1), string(2)\n",
      "memory usage: 255.0 bytes\n"
     ]
    }
   ],
   "source": [
    "data1.info()"
   ]
  },
  {
   "cell_type": "raw",
   "id": "4f0a444e-d5ad-4480-a06d-bcdabf3ca2a1",
   "metadata": {},
   "source": [
    "# see now we can see the datatypes clearly using this method. This method will convert the above types to depth in detail. Eventhough one string or one boolean it will give the exact datatypes"
   ]
  }
 ],
 "metadata": {
  "kernelspec": {
   "display_name": "Python 3 (ipykernel)",
   "language": "python",
   "name": "python3"
  },
  "language_info": {
   "codemirror_mode": {
    "name": "ipython",
    "version": 3
   },
   "file_extension": ".py",
   "mimetype": "text/x-python",
   "name": "python",
   "nbconvert_exporter": "python",
   "pygments_lexer": "ipython3",
   "version": "3.11.4"
  }
 },
 "nbformat": 4,
 "nbformat_minor": 5
}
