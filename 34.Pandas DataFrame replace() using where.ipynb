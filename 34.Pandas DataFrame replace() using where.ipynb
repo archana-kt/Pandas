{
 "cells": [
  {
   "cell_type": "markdown",
   "id": "3d64c1b4",
   "metadata": {},
   "source": [
    "# Pandas DataFrame replace() using where"
   ]
  },
  {
   "cell_type": "code",
   "execution_count": 1,
   "id": "a1a89382",
   "metadata": {},
   "outputs": [],
   "source": [
    "import pandas as pd"
   ]
  },
  {
   "cell_type": "code",
   "execution_count": 19,
   "id": "b708021b",
   "metadata": {},
   "outputs": [],
   "source": [
    "data = pd.DataFrame({\"Courses\":[\"Java\",\"Javascript\",\"C++\",\"Python\",\"Flutter\"],\"Fee\":[22000,24000,23000,25000,26000], \"Discount\":[1500,1000,12000,800,1300], \"Duration\":['30days', '50days', '30days', '35days', '40days']})"
   ]
  },
  {
   "cell_type": "code",
   "execution_count": 20,
   "id": "631f12be",
   "metadata": {},
   "outputs": [
    {
     "data": {
      "text/html": [
       "<div>\n",
       "<style scoped>\n",
       "    .dataframe tbody tr th:only-of-type {\n",
       "        vertical-align: middle;\n",
       "    }\n",
       "\n",
       "    .dataframe tbody tr th {\n",
       "        vertical-align: top;\n",
       "    }\n",
       "\n",
       "    .dataframe thead th {\n",
       "        text-align: right;\n",
       "    }\n",
       "</style>\n",
       "<table border=\"1\" class=\"dataframe\">\n",
       "  <thead>\n",
       "    <tr style=\"text-align: right;\">\n",
       "      <th></th>\n",
       "      <th>Courses</th>\n",
       "      <th>Fee</th>\n",
       "      <th>Discount</th>\n",
       "      <th>Duration</th>\n",
       "    </tr>\n",
       "  </thead>\n",
       "  <tbody>\n",
       "    <tr>\n",
       "      <th>0</th>\n",
       "      <td>Java</td>\n",
       "      <td>22000</td>\n",
       "      <td>1500</td>\n",
       "      <td>30days</td>\n",
       "    </tr>\n",
       "    <tr>\n",
       "      <th>1</th>\n",
       "      <td>Javascript</td>\n",
       "      <td>24000</td>\n",
       "      <td>1000</td>\n",
       "      <td>50days</td>\n",
       "    </tr>\n",
       "    <tr>\n",
       "      <th>2</th>\n",
       "      <td>C++</td>\n",
       "      <td>23000</td>\n",
       "      <td>12000</td>\n",
       "      <td>30days</td>\n",
       "    </tr>\n",
       "    <tr>\n",
       "      <th>3</th>\n",
       "      <td>Python</td>\n",
       "      <td>25000</td>\n",
       "      <td>800</td>\n",
       "      <td>35days</td>\n",
       "    </tr>\n",
       "    <tr>\n",
       "      <th>4</th>\n",
       "      <td>Flutter</td>\n",
       "      <td>26000</td>\n",
       "      <td>1300</td>\n",
       "      <td>40days</td>\n",
       "    </tr>\n",
       "  </tbody>\n",
       "</table>\n",
       "</div>"
      ],
      "text/plain": [
       "      Courses    Fee  Discount Duration\n",
       "0        Java  22000      1500   30days\n",
       "1  Javascript  24000      1000   50days\n",
       "2         C++  23000     12000   30days\n",
       "3      Python  25000       800   35days\n",
       "4     Flutter  26000      1300   40days"
      ]
     },
     "execution_count": 20,
     "metadata": {},
     "output_type": "execute_result"
    }
   ],
   "source": [
    "data"
   ]
  },
  {
   "cell_type": "code",
   "execution_count": 21,
   "id": "c0975f7c",
   "metadata": {},
   "outputs": [],
   "source": [
    "data[\"Discount\"] = data[\"Discount\"].apply(lambda x: x + x * 30 // 100)"
   ]
  },
  {
   "cell_type": "code",
   "execution_count": 22,
   "id": "bddeb1d0",
   "metadata": {},
   "outputs": [
    {
     "data": {
      "text/html": [
       "<div>\n",
       "<style scoped>\n",
       "    .dataframe tbody tr th:only-of-type {\n",
       "        vertical-align: middle;\n",
       "    }\n",
       "\n",
       "    .dataframe tbody tr th {\n",
       "        vertical-align: top;\n",
       "    }\n",
       "\n",
       "    .dataframe thead th {\n",
       "        text-align: right;\n",
       "    }\n",
       "</style>\n",
       "<table border=\"1\" class=\"dataframe\">\n",
       "  <thead>\n",
       "    <tr style=\"text-align: right;\">\n",
       "      <th></th>\n",
       "      <th>Courses</th>\n",
       "      <th>Fee</th>\n",
       "      <th>Discount</th>\n",
       "      <th>Duration</th>\n",
       "    </tr>\n",
       "  </thead>\n",
       "  <tbody>\n",
       "    <tr>\n",
       "      <th>0</th>\n",
       "      <td>Java</td>\n",
       "      <td>22000</td>\n",
       "      <td>1950</td>\n",
       "      <td>30days</td>\n",
       "    </tr>\n",
       "    <tr>\n",
       "      <th>1</th>\n",
       "      <td>Javascript</td>\n",
       "      <td>24000</td>\n",
       "      <td>1300</td>\n",
       "      <td>50days</td>\n",
       "    </tr>\n",
       "    <tr>\n",
       "      <th>2</th>\n",
       "      <td>C++</td>\n",
       "      <td>23000</td>\n",
       "      <td>15600</td>\n",
       "      <td>30days</td>\n",
       "    </tr>\n",
       "    <tr>\n",
       "      <th>3</th>\n",
       "      <td>Python</td>\n",
       "      <td>25000</td>\n",
       "      <td>1040</td>\n",
       "      <td>35days</td>\n",
       "    </tr>\n",
       "    <tr>\n",
       "      <th>4</th>\n",
       "      <td>Flutter</td>\n",
       "      <td>26000</td>\n",
       "      <td>1690</td>\n",
       "      <td>40days</td>\n",
       "    </tr>\n",
       "  </tbody>\n",
       "</table>\n",
       "</div>"
      ],
      "text/plain": [
       "      Courses    Fee  Discount Duration\n",
       "0        Java  22000      1950   30days\n",
       "1  Javascript  24000      1300   50days\n",
       "2         C++  23000     15600   30days\n",
       "3      Python  25000      1040   35days\n",
       "4     Flutter  26000      1690   40days"
      ]
     },
     "execution_count": 22,
     "metadata": {},
     "output_type": "execute_result"
    }
   ],
   "source": [
    "data"
   ]
  },
  {
   "cell_type": "code",
   "execution_count": 7,
   "id": "1a2ad7a7",
   "metadata": {},
   "outputs": [],
   "source": [
    "# 30 % of value is added to the discount"
   ]
  },
  {
   "cell_type": "raw",
   "id": "d3100480",
   "metadata": {},
   "source": [
    "# Here i want to make select the course which have fees more than 25000 and need to give discount to that particular course"
   ]
  },
  {
   "cell_type": "code",
   "execution_count": 23,
   "id": "8eacf173",
   "metadata": {},
   "outputs": [
    {
     "data": {
      "text/plain": [
       "0    False\n",
       "1    False\n",
       "2    False\n",
       "3     True\n",
       "4     True\n",
       "Name: Fee, dtype: bool"
      ]
     },
     "execution_count": 23,
     "metadata": {},
     "output_type": "execute_result"
    }
   ],
   "source": [
    "data[\"Fee\"] >= 25000"
   ]
  },
  {
   "cell_type": "code",
   "execution_count": 25,
   "id": "47668f32",
   "metadata": {},
   "outputs": [
    {
     "data": {
      "text/html": [
       "<div>\n",
       "<style scoped>\n",
       "    .dataframe tbody tr th:only-of-type {\n",
       "        vertical-align: middle;\n",
       "    }\n",
       "\n",
       "    .dataframe tbody tr th {\n",
       "        vertical-align: top;\n",
       "    }\n",
       "\n",
       "    .dataframe thead th {\n",
       "        text-align: right;\n",
       "    }\n",
       "</style>\n",
       "<table border=\"1\" class=\"dataframe\">\n",
       "  <thead>\n",
       "    <tr style=\"text-align: right;\">\n",
       "      <th></th>\n",
       "      <th>Courses</th>\n",
       "      <th>Fee</th>\n",
       "      <th>Discount</th>\n",
       "      <th>Duration</th>\n",
       "    </tr>\n",
       "  </thead>\n",
       "  <tbody>\n",
       "    <tr>\n",
       "      <th>3</th>\n",
       "      <td>Python</td>\n",
       "      <td>25000</td>\n",
       "      <td>1040</td>\n",
       "      <td>35days</td>\n",
       "    </tr>\n",
       "    <tr>\n",
       "      <th>4</th>\n",
       "      <td>Flutter</td>\n",
       "      <td>26000</td>\n",
       "      <td>1690</td>\n",
       "      <td>40days</td>\n",
       "    </tr>\n",
       "  </tbody>\n",
       "</table>\n",
       "</div>"
      ],
      "text/plain": [
       "   Courses    Fee  Discount Duration\n",
       "3   Python  25000      1040   35days\n",
       "4  Flutter  26000      1690   40days"
      ]
     },
     "execution_count": 25,
     "metadata": {},
     "output_type": "execute_result"
    }
   ],
   "source": [
    "data[data[\"Fee\"] >= 25000]"
   ]
  },
  {
   "cell_type": "code",
   "execution_count": 26,
   "id": "e746edd5",
   "metadata": {},
   "outputs": [
    {
     "data": {
      "text/html": [
       "<div>\n",
       "<style scoped>\n",
       "    .dataframe tbody tr th:only-of-type {\n",
       "        vertical-align: middle;\n",
       "    }\n",
       "\n",
       "    .dataframe tbody tr th {\n",
       "        vertical-align: top;\n",
       "    }\n",
       "\n",
       "    .dataframe thead th {\n",
       "        text-align: right;\n",
       "    }\n",
       "</style>\n",
       "<table border=\"1\" class=\"dataframe\">\n",
       "  <thead>\n",
       "    <tr style=\"text-align: right;\">\n",
       "      <th></th>\n",
       "      <th>Courses</th>\n",
       "      <th>Fee</th>\n",
       "      <th>Discount</th>\n",
       "      <th>Duration</th>\n",
       "    </tr>\n",
       "  </thead>\n",
       "  <tbody>\n",
       "    <tr>\n",
       "      <th>3</th>\n",
       "      <td>Python</td>\n",
       "      <td>25000</td>\n",
       "      <td>1040</td>\n",
       "      <td>35days</td>\n",
       "    </tr>\n",
       "    <tr>\n",
       "      <th>4</th>\n",
       "      <td>Flutter</td>\n",
       "      <td>26000</td>\n",
       "      <td>1690</td>\n",
       "      <td>40days</td>\n",
       "    </tr>\n",
       "  </tbody>\n",
       "</table>\n",
       "</div>"
      ],
      "text/plain": [
       "   Courses    Fee  Discount Duration\n",
       "3   Python  25000      1040   35days\n",
       "4  Flutter  26000      1690   40days"
      ]
     },
     "execution_count": 26,
     "metadata": {},
     "output_type": "execute_result"
    }
   ],
   "source": [
    "data.loc[data[\"Fee\"] >= 25000]"
   ]
  },
  {
   "cell_type": "code",
   "execution_count": 12,
   "id": "59081ccc",
   "metadata": {},
   "outputs": [],
   "source": [
    "# Both are same"
   ]
  },
  {
   "cell_type": "code",
   "execution_count": 13,
   "id": "432e1b1b",
   "metadata": {},
   "outputs": [],
   "source": [
    "import numpy as np"
   ]
  },
  {
   "cell_type": "code",
   "execution_count": 27,
   "id": "8cd363bd",
   "metadata": {},
   "outputs": [
    {
     "data": {
      "text/plain": [
       "array([ 1950,  1300, 15600,  1352,  2197])"
      ]
     },
     "execution_count": 27,
     "metadata": {},
     "output_type": "execute_result"
    }
   ],
   "source": [
    "np.where(data[\"Fee\"] >= 25000, data[\"Discount\"] + data[\"Discount\"] * 30//100, data[\"Discount\"])"
   ]
  },
  {
   "cell_type": "code",
   "execution_count": 28,
   "id": "8a51b3a9",
   "metadata": {},
   "outputs": [
    {
     "data": {
      "text/html": [
       "<div>\n",
       "<style scoped>\n",
       "    .dataframe tbody tr th:only-of-type {\n",
       "        vertical-align: middle;\n",
       "    }\n",
       "\n",
       "    .dataframe tbody tr th {\n",
       "        vertical-align: top;\n",
       "    }\n",
       "\n",
       "    .dataframe thead th {\n",
       "        text-align: right;\n",
       "    }\n",
       "</style>\n",
       "<table border=\"1\" class=\"dataframe\">\n",
       "  <thead>\n",
       "    <tr style=\"text-align: right;\">\n",
       "      <th></th>\n",
       "      <th>Courses</th>\n",
       "      <th>Fee</th>\n",
       "      <th>Discount</th>\n",
       "      <th>Duration</th>\n",
       "    </tr>\n",
       "  </thead>\n",
       "  <tbody>\n",
       "    <tr>\n",
       "      <th>0</th>\n",
       "      <td>Java</td>\n",
       "      <td>22000</td>\n",
       "      <td>1950</td>\n",
       "      <td>30days</td>\n",
       "    </tr>\n",
       "    <tr>\n",
       "      <th>1</th>\n",
       "      <td>Javascript</td>\n",
       "      <td>24000</td>\n",
       "      <td>1300</td>\n",
       "      <td>50days</td>\n",
       "    </tr>\n",
       "    <tr>\n",
       "      <th>2</th>\n",
       "      <td>C++</td>\n",
       "      <td>23000</td>\n",
       "      <td>15600</td>\n",
       "      <td>30days</td>\n",
       "    </tr>\n",
       "    <tr>\n",
       "      <th>3</th>\n",
       "      <td>Python</td>\n",
       "      <td>25000</td>\n",
       "      <td>1040</td>\n",
       "      <td>35days</td>\n",
       "    </tr>\n",
       "    <tr>\n",
       "      <th>4</th>\n",
       "      <td>Flutter</td>\n",
       "      <td>26000</td>\n",
       "      <td>1690</td>\n",
       "      <td>40days</td>\n",
       "    </tr>\n",
       "  </tbody>\n",
       "</table>\n",
       "</div>"
      ],
      "text/plain": [
       "      Courses    Fee  Discount Duration\n",
       "0        Java  22000      1950   30days\n",
       "1  Javascript  24000      1300   50days\n",
       "2         C++  23000     15600   30days\n",
       "3      Python  25000      1040   35days\n",
       "4     Flutter  26000      1690   40days"
      ]
     },
     "execution_count": 28,
     "metadata": {},
     "output_type": "execute_result"
    }
   ],
   "source": [
    "data"
   ]
  },
  {
   "cell_type": "code",
   "execution_count": 16,
   "id": "a6f3c585",
   "metadata": {},
   "outputs": [],
   "source": [
    "# See for Flutter alone the discount is added for about 30%"
   ]
  },
  {
   "cell_type": "code",
   "execution_count": 29,
   "id": "eedffb24",
   "metadata": {},
   "outputs": [],
   "source": [
    "data[\"Discount\"] = np.where(data[\"Fee\"] >= 25000, data[\"Discount\"] + data[\"Discount\"] * 30//100, data[\"Discount\"])"
   ]
  },
  {
   "cell_type": "code",
   "execution_count": 30,
   "id": "22a63af8",
   "metadata": {},
   "outputs": [
    {
     "data": {
      "text/html": [
       "<div>\n",
       "<style scoped>\n",
       "    .dataframe tbody tr th:only-of-type {\n",
       "        vertical-align: middle;\n",
       "    }\n",
       "\n",
       "    .dataframe tbody tr th {\n",
       "        vertical-align: top;\n",
       "    }\n",
       "\n",
       "    .dataframe thead th {\n",
       "        text-align: right;\n",
       "    }\n",
       "</style>\n",
       "<table border=\"1\" class=\"dataframe\">\n",
       "  <thead>\n",
       "    <tr style=\"text-align: right;\">\n",
       "      <th></th>\n",
       "      <th>Courses</th>\n",
       "      <th>Fee</th>\n",
       "      <th>Discount</th>\n",
       "      <th>Duration</th>\n",
       "    </tr>\n",
       "  </thead>\n",
       "  <tbody>\n",
       "    <tr>\n",
       "      <th>0</th>\n",
       "      <td>Java</td>\n",
       "      <td>22000</td>\n",
       "      <td>1950</td>\n",
       "      <td>30days</td>\n",
       "    </tr>\n",
       "    <tr>\n",
       "      <th>1</th>\n",
       "      <td>Javascript</td>\n",
       "      <td>24000</td>\n",
       "      <td>1300</td>\n",
       "      <td>50days</td>\n",
       "    </tr>\n",
       "    <tr>\n",
       "      <th>2</th>\n",
       "      <td>C++</td>\n",
       "      <td>23000</td>\n",
       "      <td>15600</td>\n",
       "      <td>30days</td>\n",
       "    </tr>\n",
       "    <tr>\n",
       "      <th>3</th>\n",
       "      <td>Python</td>\n",
       "      <td>25000</td>\n",
       "      <td>1352</td>\n",
       "      <td>35days</td>\n",
       "    </tr>\n",
       "    <tr>\n",
       "      <th>4</th>\n",
       "      <td>Flutter</td>\n",
       "      <td>26000</td>\n",
       "      <td>2197</td>\n",
       "      <td>40days</td>\n",
       "    </tr>\n",
       "  </tbody>\n",
       "</table>\n",
       "</div>"
      ],
      "text/plain": [
       "      Courses    Fee  Discount Duration\n",
       "0        Java  22000      1950   30days\n",
       "1  Javascript  24000      1300   50days\n",
       "2         C++  23000     15600   30days\n",
       "3      Python  25000      1352   35days\n",
       "4     Flutter  26000      2197   40days"
      ]
     },
     "execution_count": 30,
     "metadata": {},
     "output_type": "execute_result"
    }
   ],
   "source": [
    "data"
   ]
  },
  {
   "cell_type": "code",
   "execution_count": 31,
   "id": "d25929e7",
   "metadata": {},
   "outputs": [
    {
     "data": {
      "text/plain": [
       "array([ 1950,  1300, 15600,  1352,  2856])"
      ]
     },
     "execution_count": 31,
     "metadata": {},
     "output_type": "execute_result"
    }
   ],
   "source": [
    "np.where((data[\"Fee\"] >= 25000) & (data[\"Courses\"] == \"Flutter\"), data[\"Discount\"] + data[\"Discount\"] * 30//100, data[\"Discount\"])"
   ]
  },
  {
   "cell_type": "code",
   "execution_count": 32,
   "id": "0bcc0c30",
   "metadata": {},
   "outputs": [],
   "source": [
    "data[\"Discount\"] = np.where((data[\"Fee\"] >= 25000) & (data[\"Courses\"] == \"Flutter\"), data[\"Discount\"] + data[\"Discount\"] * 30//100, data[\"Discount\"])"
   ]
  },
  {
   "cell_type": "code",
   "execution_count": 33,
   "id": "98ab68f3",
   "metadata": {},
   "outputs": [
    {
     "data": {
      "text/html": [
       "<div>\n",
       "<style scoped>\n",
       "    .dataframe tbody tr th:only-of-type {\n",
       "        vertical-align: middle;\n",
       "    }\n",
       "\n",
       "    .dataframe tbody tr th {\n",
       "        vertical-align: top;\n",
       "    }\n",
       "\n",
       "    .dataframe thead th {\n",
       "        text-align: right;\n",
       "    }\n",
       "</style>\n",
       "<table border=\"1\" class=\"dataframe\">\n",
       "  <thead>\n",
       "    <tr style=\"text-align: right;\">\n",
       "      <th></th>\n",
       "      <th>Courses</th>\n",
       "      <th>Fee</th>\n",
       "      <th>Discount</th>\n",
       "      <th>Duration</th>\n",
       "    </tr>\n",
       "  </thead>\n",
       "  <tbody>\n",
       "    <tr>\n",
       "      <th>0</th>\n",
       "      <td>Java</td>\n",
       "      <td>22000</td>\n",
       "      <td>1950</td>\n",
       "      <td>30days</td>\n",
       "    </tr>\n",
       "    <tr>\n",
       "      <th>1</th>\n",
       "      <td>Javascript</td>\n",
       "      <td>24000</td>\n",
       "      <td>1300</td>\n",
       "      <td>50days</td>\n",
       "    </tr>\n",
       "    <tr>\n",
       "      <th>2</th>\n",
       "      <td>C++</td>\n",
       "      <td>23000</td>\n",
       "      <td>15600</td>\n",
       "      <td>30days</td>\n",
       "    </tr>\n",
       "    <tr>\n",
       "      <th>3</th>\n",
       "      <td>Python</td>\n",
       "      <td>25000</td>\n",
       "      <td>1352</td>\n",
       "      <td>35days</td>\n",
       "    </tr>\n",
       "    <tr>\n",
       "      <th>4</th>\n",
       "      <td>Flutter</td>\n",
       "      <td>26000</td>\n",
       "      <td>2856</td>\n",
       "      <td>40days</td>\n",
       "    </tr>\n",
       "  </tbody>\n",
       "</table>\n",
       "</div>"
      ],
      "text/plain": [
       "      Courses    Fee  Discount Duration\n",
       "0        Java  22000      1950   30days\n",
       "1  Javascript  24000      1300   50days\n",
       "2         C++  23000     15600   30days\n",
       "3      Python  25000      1352   35days\n",
       "4     Flutter  26000      2856   40days"
      ]
     },
     "execution_count": 33,
     "metadata": {},
     "output_type": "execute_result"
    }
   ],
   "source": [
    "data"
   ]
  }
 ],
 "metadata": {
  "kernelspec": {
   "display_name": "Python 3 (ipykernel)",
   "language": "python",
   "name": "python3"
  },
  "language_info": {
   "codemirror_mode": {
    "name": "ipython",
    "version": 3
   },
   "file_extension": ".py",
   "mimetype": "text/x-python",
   "name": "python",
   "nbconvert_exporter": "python",
   "pygments_lexer": "ipython3",
   "version": "3.9.7"
  }
 },
 "nbformat": 4,
 "nbformat_minor": 5
}
